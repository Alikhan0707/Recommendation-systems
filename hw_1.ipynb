{
 "cells": [
  {
   "cell_type": "code",
   "execution_count": 1,
   "id": "harmful-fitting",
   "metadata": {},
   "outputs": [],
   "source": [
    "import numpy as np\n",
    "import pandas as pd"
   ]
  },
  {
   "cell_type": "markdown",
   "id": "chemical-bouquet",
   "metadata": {},
   "source": [
    "__1. Сравните метрики hit_rate@k, precision@k.   \n",
    "Какую метрику использовать предпочтительно и почему?  \n",
    "Приведите пример 2-3 задач (опишите, что является клиентом, что товаром), в которой более уместно использовать метрику hit_rate?__\n"
   ]
  },
  {
   "cell_type": "markdown",
   "id": "dramatic-japan",
   "metadata": {},
   "source": [
    "Предпочтительней использовать метрику precision@k т.к. она показывает какой процент из рекоментдованных был продан, в отличии от hit_rate@k который показывает только количество проданных товаров"
   ]
  },
  {
   "cell_type": "markdown",
   "id": "responsible-complaint",
   "metadata": {},
   "source": [
    "Пример №1\n",
    "hit_rate@k уместно использовать при рекомендации фильмов, для того чтобы понять идем ли мы в правильном направлении при рекомендаии фильмов пользователю. В данной задаче П- пользователь, Т - фильм (но если ресурс предлагает новинки, П и Т меняются местами)\n",
    "\n",
    "Пример №2\n",
    "Так же метрику hit_rate@k можно использовать в интернет-магазине. П- пользователь, Т - товар (при рекомендации новинок П и Т меняются)"
   ]
  },
  {
   "cell_type": "markdown",
   "id": "referenced-authority",
   "metadata": {},
   "source": [
    "__2. В метрике NDCG@k мы используем логарифм в знаменателе. Как Вы думаете, почему именно логарифм? Какую функцию можно использовать вместо логарифма? Привидите пример метрик/подходов к предобработке данных/функций ошибок в ML, где также в  логарифм.__\n",
    "\n"
   ]
  },
  {
   "cell_type": "code",
   "execution_count": 30,
   "id": "wooden-michigan",
   "metadata": {},
   "outputs": [
    {
     "data": {
      "image/png": "[encoded data removed]",
      "text/plain": [
       "<Figure size 432x288 with 1 Axes>"
      ]
     },
     "metadata": {
      "needs_background": "light"
     },
     "output_type": "display_data"
    }
   ],
   "source": [
    "%matplotlib inline \n",
    "import matplotlib.pyplot as plt\n",
    "\n",
    "x = [i for i in range(2, 20)]\n",
    "\n",
    "logs2 = [1/np.log2(i) for i in x]\n",
    "without_func = [1/i for i in x]\n",
    "\n",
    "dcg_log = 1 + sum(logs2)\n",
    "dcg_without_func = 1 + sum(without_func)\n",
    "\n",
    "plt.plot(x, logs2, label='log2')\n",
    "plt.plot(x, without_func, label='without func')\n",
    "plt.title(f'log2 = {dcg_log:.2f}\\n\\n without_func = {dcg_without_func:.2f}\\n')\n",
    "plt.xticks(x)\n",
    "plt.grid()\n",
    "plt.legend()\n",
    "plt.show()"
   ]
  },
  {
   "cell_type": "markdown",
   "id": "italic-moisture",
   "metadata": {},
   "source": [
    "Логарифм в знаменателе нужен для того чтобы численно показать важность первых элементов рекомндованных товаров, так как первые рекомендованные товары просматриваются чаще нежели последние"
   ]
  },
  {
   "cell_type": "markdown",
   "id": "naval-cassette",
   "metadata": {},
   "source": [
    "__3. Какие еще метрики (Вы можете вспомнить уже пройденные Вами или посмотреть в интернете) могут использоваться для рекомендательных систем (приведите примеры метрики **и чем являются интеракции**, чтобы она могла быть использована).__"
   ]
  },
  {
   "cell_type": "markdown",
   "id": "worth-career",
   "metadata": {},
   "source": [
    "MRR  \n",
    "RMSE  \n",
    "PFound"
   ]
  },
  {
   "cell_type": "markdown",
   "id": "simplified-liberal",
   "metadata": {},
   "source": [
    "__4. boughted = [1, 3, 5, 7, 9, 11]  \n",
    "recommended = [2, 5, 7, 4, 11, 9, 8, 10, 12, 3]  \n",
    "Посчитайте на этих данных pr@8, rec@8, AP@8, NDCG@8, RR@8, ERR@8 (expected reciprocal rank)  \n",
    "Сначала поссчитайет \"руками\", а затем подтвердите рассчеты с помощью функций (некоторые были на семинаре, некоторые нужно будут написать самостоятельно)__"
   ]
  },
  {
   "cell_type": "markdown",
   "id": "minor-toner",
   "metadata": {},
   "source": [
    "**Пример выполнения 4го задания**\n",
    "\n",
    "MSE на  \n",
    "$y = [0, 2]$  \n",
    "$y_{pred} = [1, 2]$\n",
    "\n",
    "MSE = $0.5*((0 - 1)^2 + (2-2)^2) = 0.5$ "
   ]
  },
  {
   "cell_type": "markdown",
   "id": "portable-breach",
   "metadata": {},
   "source": [
    "## Решение"
   ]
  },
  {
   "cell_type": "code",
   "execution_count": 3,
   "id": "everyday-december",
   "metadata": {},
   "outputs": [],
   "source": [
    "def find_flags_boughted_in_recommended(recommended, boughted, k):\n",
    "    \n",
    "    boughted = np.array(boughted)\n",
    "    recommended = np.array(recommended)[:k]\n",
    "    \n",
    "    flags = np.isin(boughted, recommended)\n",
    "    \n",
    "    return recommended, boughted, flags"
   ]
  },
  {
   "cell_type": "code",
   "execution_count": 4,
   "id": "baking-transparency",
   "metadata": {},
   "outputs": [],
   "source": [
    "def find_flags_recommended_in_boughted(recommended, boughted, k):\n",
    "    \n",
    "    boughted = np.array(boughted)\n",
    "    recommended = np.array(recommended)[:k]\n",
    "    \n",
    "    flags = np.isin(recommended, boughted)\n",
    "    \n",
    "    return recommended, boughted, flags"
   ]
  },
  {
   "cell_type": "markdown",
   "id": "indirect-gather",
   "metadata": {},
   "source": [
    "### Precision@k"
   ]
  },
  {
   "cell_type": "markdown",
   "id": "graduate-perspective",
   "metadata": {},
   "source": [
    "pr@8 = 4/8 = 1/2 = 0.5"
   ]
  },
  {
   "cell_type": "code",
   "execution_count": 5,
   "id": "presidential-course",
   "metadata": {},
   "outputs": [],
   "source": [
    "boughted = [1, 3, 5, 7, 9, 11]  \n",
    "recommended = [2, 5, 7, 4, 11, 9, 8, 10, 12, 3] "
   ]
  },
  {
   "cell_type": "code",
   "execution_count": null,
   "id": "destroyed-privilege",
   "metadata": {},
   "outputs": [],
   "source": []
  },
  {
   "cell_type": "code",
   "execution_count": 6,
   "id": "appropriate-rogers",
   "metadata": {},
   "outputs": [],
   "source": [
    "def precision_k(recommended, boughted, k):\n",
    "    \n",
    "    recommended, boughted, flag = find_flags_boughted_in_recommended(recommended, boughted, k)\n",
    "    \n",
    "    return flag.sum() / len(recommended)"
   ]
  },
  {
   "cell_type": "code",
   "execution_count": 7,
   "id": "white-trinity",
   "metadata": {},
   "outputs": [
    {
     "data": {
      "text/plain": [
       "0.5"
      ]
     },
     "execution_count": 7,
     "metadata": {},
     "output_type": "execute_result"
    }
   ],
   "source": [
    "precision_k(recommended, boughted, 8)"
   ]
  },
  {
   "cell_type": "markdown",
   "id": "assumed-african",
   "metadata": {},
   "source": [
    "### Recall@8"
   ]
  },
  {
   "cell_type": "markdown",
   "id": "everyday-genome",
   "metadata": {},
   "source": [
    "rec@8 = 4/6 = 2/3"
   ]
  },
  {
   "cell_type": "code",
   "execution_count": 8,
   "id": "harmful-easter",
   "metadata": {},
   "outputs": [],
   "source": [
    "def recall_k(recommended, boughted, k):\n",
    "    \n",
    "    recommended, boughted, flag = find_flags_boughted_in_recommended(recommended, boughted, k)\n",
    "    \n",
    "    return flag.sum() / len(boughted)"
   ]
  },
  {
   "cell_type": "code",
   "execution_count": 9,
   "id": "applied-letters",
   "metadata": {},
   "outputs": [
    {
     "data": {
      "text/plain": [
       "0.6666666666666666"
      ]
     },
     "execution_count": 9,
     "metadata": {},
     "output_type": "execute_result"
    }
   ],
   "source": [
    "recall_k(recommended, boughted, 8)"
   ]
  },
  {
   "cell_type": "markdown",
   "id": "color-leeds",
   "metadata": {},
   "source": [
    "### AP@8"
   ]
  },
  {
   "cell_type": "markdown",
   "id": "ruled-glasgow",
   "metadata": {},
   "source": [
    "[1, 3, 5, 7, 9, 11]  \n",
    "[2, 5, 7, 4, 11, 9, 8, 10, 12, 3] "
   ]
  },
  {
   "cell_type": "markdown",
   "id": "geographic-punishment",
   "metadata": {},
   "source": [
    "AP@8 = (1/2 + 2/3 + 3/5 + 4/6) / 8 = (73/30) / 8 = 0.30"
   ]
  },
  {
   "cell_type": "code",
   "execution_count": 10,
   "id": "technical-applicant",
   "metadata": {},
   "outputs": [],
   "source": [
    "def ap_k(recommended, boughted, k):\n",
    "    \n",
    "    recommended, boughted, flags = find_flags_recommended_in_boughted(recommended, boughted, k)\n",
    "    \n",
    "    if flags.sum() == 0:\n",
    "        return 0\n",
    "    \n",
    "    sum_of_precisions = 0\n",
    "    \n",
    "    for i in range(k):\n",
    "        \n",
    "        if flags[i]:\n",
    "            \n",
    "            p_k = precision_k(recommended, boughted, i+1)\n",
    "            sum_of_precisions += p_k\n",
    "            \n",
    "    return sum_of_precisions / len(flags)"
   ]
  },
  {
   "cell_type": "code",
   "execution_count": 11,
   "id": "requested-leone",
   "metadata": {},
   "outputs": [
    {
     "data": {
      "text/plain": [
       "0.30416666666666664"
      ]
     },
     "execution_count": 11,
     "metadata": {},
     "output_type": "execute_result"
    }
   ],
   "source": [
    "ap_k(recommended, boughted, 8)"
   ]
  },
  {
   "cell_type": "markdown",
   "id": "alleged-volleyball",
   "metadata": {},
   "source": [
    "### NDCG@8"
   ]
  },
  {
   "cell_type": "markdown",
   "id": "earned-postcard",
   "metadata": {},
   "source": [
    "NGCG@8 = DCG / DCG_ideal"
   ]
  },
  {
   "cell_type": "markdown",
   "id": "urban-winner",
   "metadata": {},
   "source": [
    "DCG@8 = 1/8 * (0 + 1/log2(2) + 1/log2(3) + 0 + 1/log(5) + 1/log2(6)) = 1 + 0,63 + 0,43 + 0,38 = 1/8 * 2,44  \n",
    "DCG_ideal@8 = 1/8 * (1 + 1/log2(2) + 1/log2(3) + 1/log2(4) + 1/log(5) + 1/log2(6) + 1/log2(7) + 1/log2(8)) = 1/8 * 1 + 0,63 + 0,5 + 0,43 + 0,38 + 0,35 + 0.33 = 4,64  \n",
    "NGCG@8 = 2,44 / 4,64 = 0,52"
   ]
  },
  {
   "cell_type": "code",
   "execution_count": 12,
   "id": "tired-shuttle",
   "metadata": {},
   "outputs": [],
   "source": [
    "def ndcg_k(recommended, boughted, k):\n",
    "    \n",
    "    recommended, boughted, flags = find_flags_recommended_in_boughted(recommended, boughted, k)\n",
    "    \n",
    "    sum_of = 0\n",
    "    ideal = 0\n",
    "    \n",
    "    for index in range(k):\n",
    "        \n",
    "        log2 = np.log2(index + 1)\n",
    "        \n",
    "        if index > 0:\n",
    "            \n",
    "            if flags[index]:\n",
    "                sum_of += 1/log2\n",
    "                \n",
    "            ideal += 1/log2\n",
    "        \n",
    "        else:\n",
    "            \n",
    "            if flags[index]:\n",
    "                sum_of += 1\n",
    "                \n",
    "            ideal += 1\n",
    "        \n",
    "    return sum_of / ideal"
   ]
  },
  {
   "cell_type": "code",
   "execution_count": 13,
   "id": "insured-physiology",
   "metadata": {},
   "outputs": [
    {
     "data": {
      "text/plain": [
       "0.5279127445637272"
      ]
     },
     "execution_count": 13,
     "metadata": {},
     "output_type": "execute_result"
    }
   ],
   "source": [
    "ndcg_k(recommended, boughted, 8)"
   ]
  },
  {
   "cell_type": "markdown",
   "id": "altered-certification",
   "metadata": {},
   "source": [
    "### RR@8"
   ]
  },
  {
   "cell_type": "markdown",
   "id": "retained-operation",
   "metadata": {},
   "source": [
    "rr@8 = 1/2 = 0,5"
   ]
  },
  {
   "cell_type": "code",
   "execution_count": 19,
   "id": "positive-hollywood",
   "metadata": {},
   "outputs": [],
   "source": [
    "def rr_k(recommended, boughted, k):\n",
    "    \n",
    "    recommended, boughted, flags = find_flags_recommended_in_boughted(recommended, boughted, k)\n",
    "    \n",
    "    for index, value in enumerate(flags):\n",
    "        \n",
    "        rank = index + 1\n",
    "        \n",
    "        if value:\n",
    "        \n",
    "            return 1/rank\n",
    "                \n",
    "    return None"
   ]
  },
  {
   "cell_type": "code",
   "execution_count": 20,
   "id": "inside-attraction",
   "metadata": {},
   "outputs": [
    {
     "name": "stdout",
     "output_type": "stream",
     "text": [
      "0.5\n"
     ]
    }
   ],
   "source": [
    "print(rr_k(recommended, boughted, 8))"
   ]
  },
  {
   "cell_type": "markdown",
   "id": "magnetic-emperor",
   "metadata": {},
   "source": [
    "### ERR@8"
   ]
  },
  {
   "cell_type": "markdown",
   "id": "powered-breath",
   "metadata": {},
   "source": [
    "err@8 = 1/2 + 1/3 + 1/5 + 1/6 = (15 + 10 + 6 + 5)/30 = 36/30 = 1,2"
   ]
  },
  {
   "cell_type": "code",
   "execution_count": 25,
   "id": "humanitarian-heading",
   "metadata": {},
   "outputs": [],
   "source": [
    "def err_k(recommended, boughted, k):\n",
    "    \n",
    "    recommended, boughted, flags = find_flags_recommended_in_boughted(recommended, boughted, k)\n",
    "    \n",
    "    err = 0\n",
    "    \n",
    "    for index, value in enumerate(flags):\n",
    "        \n",
    "        if value:\n",
    "        \n",
    "            rank = index + 1\n",
    "\n",
    "            p = 1\n",
    "\n",
    "            err += 1/rank * p\n",
    "    \n",
    "    return err"
   ]
  },
  {
   "cell_type": "code",
   "execution_count": 26,
   "id": "dependent-throw",
   "metadata": {},
   "outputs": [
    {
     "data": {
      "text/plain": [
       "1.2"
      ]
     },
     "execution_count": 26,
     "metadata": {},
     "output_type": "execute_result"
    }
   ],
   "source": [
    "err_k(recommended, boughted, 8)"
   ]
  }
 ],
 "metadata": {
  "kernelspec": {
   "display_name": "Python 3",
   "language": "python",
   "name": "python3"
  },
  "language_info": {
   "codemirror_mode": {
    "name": "ipython",
    "version": 3
   },
   "file_extension": ".py",
   "mimetype": "text/x-python",
   "name": "python",
   "nbconvert_exporter": "python",
   "pygments_lexer": "ipython3",
   "version": "3.8.5"
  }
 },
 "nbformat": 4,
 "nbformat_minor": 5
}
