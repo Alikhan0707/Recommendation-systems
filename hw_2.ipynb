{
 "cells": [
  {
   "cell_type": "code",
   "execution_count": 1,
   "id": "inappropriate-territory",
   "metadata": {},
   "outputs": [],
   "source": [
    "import pandas as pd\n",
    "import numpy as np\n",
    "from numpy import linalg\n",
    "import matplotlib.pyplot as plt\n",
    "%matplotlib inline\n",
    "\n",
    "# Для работы с матрицами\n",
    "from scipy.sparse import csr_matrix, coo_matrix\n",
    "\n",
    "from sklearn.metrics.pairwise import cosine_similarity\n",
    "\n",
    "# Детерминированные алгоритмы\n",
    "from implicit.nearest_neighbours import ItemItemRecommender, CosineRecommender, TFIDFRecommender, BM25Recommender\n",
    "\n",
    "# Метрики\n",
    "from implicit.evaluation import train_test_split\n",
    "from implicit.evaluation import mean_average_precision_at_k, AUC_at_k, ndcg_at_k\n",
    "\n",
    "import re\n",
    "import datetime"
   ]
  },
  {
   "cell_type": "code",
   "execution_count": 2,
   "id": "unique-efficiency",
   "metadata": {
    "colab": {},
    "colab_type": "code",
    "id": "9qFkcgyrC8Yt",
    "outputId": "24a33bf1-942a-4b18-c54a-a7500c8f8712"
   },
   "outputs": [
    {
     "data": {
      "text/html": [
       "<div>\n",
       "<style scoped>\n",
       "    .dataframe tbody tr th:only-of-type {\n",
       "        vertical-align: middle;\n",
       "    }\n",
       "\n",
       "    .dataframe tbody tr th {\n",
       "        vertical-align: top;\n",
       "    }\n",
       "\n",
       "    .dataframe thead th {\n",
       "        text-align: right;\n",
       "    }\n",
       "</style>\n",
       "<table border=\"1\" class=\"dataframe\">\n",
       "  <thead>\n",
       "    <tr style=\"text-align: right;\">\n",
       "      <th></th>\n",
       "      <th>user_id</th>\n",
       "      <th>basket_id</th>\n",
       "      <th>day</th>\n",
       "      <th>item_id</th>\n",
       "      <th>quantity</th>\n",
       "      <th>sales_value</th>\n",
       "      <th>store_id</th>\n",
       "      <th>retail_disc</th>\n",
       "      <th>trans_time</th>\n",
       "      <th>week_no</th>\n",
       "      <th>coupon_disc</th>\n",
       "      <th>coupon_match_disc</th>\n",
       "    </tr>\n",
       "  </thead>\n",
       "  <tbody>\n",
       "    <tr>\n",
       "      <th>0</th>\n",
       "      <td>2375</td>\n",
       "      <td>26984851472</td>\n",
       "      <td>1</td>\n",
       "      <td>1004906</td>\n",
       "      <td>1</td>\n",
       "      <td>1.39</td>\n",
       "      <td>364</td>\n",
       "      <td>-0.6</td>\n",
       "      <td>1631</td>\n",
       "      <td>1</td>\n",
       "      <td>0.0</td>\n",
       "      <td>0.0</td>\n",
       "    </tr>\n",
       "    <tr>\n",
       "      <th>1</th>\n",
       "      <td>2375</td>\n",
       "      <td>26984851472</td>\n",
       "      <td>1</td>\n",
       "      <td>1033142</td>\n",
       "      <td>1</td>\n",
       "      <td>0.82</td>\n",
       "      <td>364</td>\n",
       "      <td>0.0</td>\n",
       "      <td>1631</td>\n",
       "      <td>1</td>\n",
       "      <td>0.0</td>\n",
       "      <td>0.0</td>\n",
       "    </tr>\n",
       "  </tbody>\n",
       "</table>\n",
       "</div>"
      ],
      "text/plain": [
       "   user_id    basket_id  day  item_id  quantity  sales_value  store_id  \\\n",
       "0     2375  26984851472    1  1004906         1         1.39       364   \n",
       "1     2375  26984851472    1  1033142         1         0.82       364   \n",
       "\n",
       "   retail_disc  trans_time  week_no  coupon_disc  coupon_match_disc  \n",
       "0         -0.6        1631        1          0.0                0.0  \n",
       "1          0.0        1631        1          0.0                0.0  "
      ]
     },
     "execution_count": 2,
     "metadata": {},
     "output_type": "execute_result"
    }
   ],
   "source": [
    "PATH_TO_RETAIL_TRAIN = '../урок 2/retail_train.csv'\n",
    "data = pd.read_csv(PATH_TO_RETAIL_TRAIN)\n",
    "data.head(2)"
   ]
  },
  {
   "cell_type": "code",
   "execution_count": 3,
   "id": "identical-tender",
   "metadata": {},
   "outputs": [],
   "source": [
    "test_size_weeks = 3\n",
    "\n",
    "data_train = data[data['week_no'] < data['week_no'].max() - test_size_weeks]\n",
    "data_test = data[data['week_no'] >= data['week_no'].max() - test_size_weeks]"
   ]
  },
  {
   "cell_type": "code",
   "execution_count": 4,
   "id": "another-affiliation",
   "metadata": {},
   "outputs": [],
   "source": [
    "def precision_at_k(recommended_list, bought_list):\n",
    "    \n",
    "    bought_list = np.array(bought_list)\n",
    "    recommended_list = np.array(recommended_list)\n",
    "    \n",
    "    flags = np.isin(bought_list, recommended_list)\n",
    "    \n",
    "    precision = flags.sum() / len(recommended_list)\n",
    "    \n",
    "    \n",
    "    return precision"
   ]
  },
  {
   "cell_type": "markdown",
   "id": "color-database",
   "metadata": {},
   "source": [
    "### Задание 0. Товар 999999\n",
    "На вебинаре мы использовали товар 999999 - что это за товар?  \n",
    "Зачем он нужен?  \n",
    "Используя этот товар мы смещаем качество рекомендаций.\n",
    "В какую сторону?   \n",
    "Можно ли удалить этот товар?   \n",
    "Уберите этот товар и сравните с качеством на семинаре."
   ]
  },
  {
   "cell_type": "code",
   "execution_count": 5,
   "id": "literary-eleven",
   "metadata": {},
   "outputs": [],
   "source": [
    "def top_k_items(dataset, feature, k):\n",
    "    \n",
    "    dataset = dataset.sort_values(feature, ascending=False).head(k).item_id.tolist()\n",
    "    \n",
    "    return dataset"
   ]
  },
  {
   "cell_type": "code",
   "execution_count": 6,
   "id": "aware-rebecca",
   "metadata": {},
   "outputs": [
    {
     "data": {
      "text/html": [
       "<div>\n",
       "<style scoped>\n",
       "    .dataframe tbody tr th:only-of-type {\n",
       "        vertical-align: middle;\n",
       "    }\n",
       "\n",
       "    .dataframe tbody tr th {\n",
       "        vertical-align: top;\n",
       "    }\n",
       "\n",
       "    .dataframe thead th {\n",
       "        text-align: right;\n",
       "    }\n",
       "</style>\n",
       "<table border=\"1\" class=\"dataframe\">\n",
       "  <thead>\n",
       "    <tr style=\"text-align: right;\">\n",
       "      <th></th>\n",
       "      <th>item_id</th>\n",
       "      <th>n_sold</th>\n",
       "    </tr>\n",
       "  </thead>\n",
       "  <tbody>\n",
       "    <tr>\n",
       "      <th>0</th>\n",
       "      <td>25671</td>\n",
       "      <td>6</td>\n",
       "    </tr>\n",
       "    <tr>\n",
       "      <th>1</th>\n",
       "      <td>26081</td>\n",
       "      <td>1</td>\n",
       "    </tr>\n",
       "    <tr>\n",
       "      <th>2</th>\n",
       "      <td>26093</td>\n",
       "      <td>1</td>\n",
       "    </tr>\n",
       "    <tr>\n",
       "      <th>3</th>\n",
       "      <td>26190</td>\n",
       "      <td>1</td>\n",
       "    </tr>\n",
       "    <tr>\n",
       "      <th>4</th>\n",
       "      <td>26355</td>\n",
       "      <td>2</td>\n",
       "    </tr>\n",
       "  </tbody>\n",
       "</table>\n",
       "</div>"
      ],
      "text/plain": [
       "   item_id  n_sold\n",
       "0    25671       6\n",
       "1    26081       1\n",
       "2    26093       1\n",
       "3    26190       1\n",
       "4    26355       2"
      ]
     },
     "execution_count": 6,
     "metadata": {},
     "output_type": "execute_result"
    }
   ],
   "source": [
    "popularity = data_train.groupby('item_id')['quantity'].sum().reset_index()\n",
    "popularity.rename(columns={'quantity': 'n_sold'}, inplace=True)\n",
    "\n",
    "popularity.head()"
   ]
  },
  {
   "cell_type": "code",
   "execution_count": 7,
   "id": "foreign-friendship",
   "metadata": {},
   "outputs": [],
   "source": [
    "top_5000 = top_k_items(popularity, 'n_sold', 5000)\n",
    "df = data_train.copy()\n",
    "df.loc[~df['item_id'].isin(top_5000), 'item_id'] = 999999\n",
    "\n",
    "user_item_matrix = pd.pivot_table(df,\n",
    "                                  index='user_id', \n",
    "                                  columns='item_id', \n",
    "                                  values='quantity', \n",
    "                                  aggfunc='count', \n",
    "                                  fill_value=0)\n",
    "\n",
    "user_item_matrix[user_item_matrix > 0] = 1\n",
    "user_item_matrix = user_item_matrix.astype(float)"
   ]
  },
  {
   "cell_type": "code",
   "execution_count": 8,
   "id": "miniature-average",
   "metadata": {},
   "outputs": [
    {
     "data": {
      "text/html": [
       "<div>\n",
       "<style scoped>\n",
       "    .dataframe tbody tr th:only-of-type {\n",
       "        vertical-align: middle;\n",
       "    }\n",
       "\n",
       "    .dataframe tbody tr th {\n",
       "        vertical-align: top;\n",
       "    }\n",
       "\n",
       "    .dataframe thead th {\n",
       "        text-align: right;\n",
       "    }\n",
       "</style>\n",
       "<table border=\"1\" class=\"dataframe\">\n",
       "  <thead>\n",
       "    <tr style=\"text-align: right;\">\n",
       "      <th>item_id</th>\n",
       "      <th>202291</th>\n",
       "      <th>397896</th>\n",
       "      <th>420647</th>\n",
       "      <th>480014</th>\n",
       "      <th>545926</th>\n",
       "      <th>707683</th>\n",
       "      <th>731106</th>\n",
       "      <th>818980</th>\n",
       "      <th>819063</th>\n",
       "      <th>819227</th>\n",
       "      <th>...</th>\n",
       "      <th>15778533</th>\n",
       "      <th>15831255</th>\n",
       "      <th>15926712</th>\n",
       "      <th>15926775</th>\n",
       "      <th>15926844</th>\n",
       "      <th>15926886</th>\n",
       "      <th>15927403</th>\n",
       "      <th>15927661</th>\n",
       "      <th>15927850</th>\n",
       "      <th>16809471</th>\n",
       "    </tr>\n",
       "    <tr>\n",
       "      <th>user_id</th>\n",
       "      <th></th>\n",
       "      <th></th>\n",
       "      <th></th>\n",
       "      <th></th>\n",
       "      <th></th>\n",
       "      <th></th>\n",
       "      <th></th>\n",
       "      <th></th>\n",
       "      <th></th>\n",
       "      <th></th>\n",
       "      <th></th>\n",
       "      <th></th>\n",
       "      <th></th>\n",
       "      <th></th>\n",
       "      <th></th>\n",
       "      <th></th>\n",
       "      <th></th>\n",
       "      <th></th>\n",
       "      <th></th>\n",
       "      <th></th>\n",
       "      <th></th>\n",
       "    </tr>\n",
       "  </thead>\n",
       "  <tbody>\n",
       "    <tr>\n",
       "      <th>1</th>\n",
       "      <td>0.0</td>\n",
       "      <td>0.0</td>\n",
       "      <td>0.0</td>\n",
       "      <td>0.0</td>\n",
       "      <td>0.0</td>\n",
       "      <td>0.0</td>\n",
       "      <td>0.0</td>\n",
       "      <td>0.0</td>\n",
       "      <td>0.0</td>\n",
       "      <td>0.0</td>\n",
       "      <td>...</td>\n",
       "      <td>0.0</td>\n",
       "      <td>0.0</td>\n",
       "      <td>0.0</td>\n",
       "      <td>0.0</td>\n",
       "      <td>1.0</td>\n",
       "      <td>0.0</td>\n",
       "      <td>0.0</td>\n",
       "      <td>0.0</td>\n",
       "      <td>0.0</td>\n",
       "      <td>0.0</td>\n",
       "    </tr>\n",
       "    <tr>\n",
       "      <th>2</th>\n",
       "      <td>0.0</td>\n",
       "      <td>0.0</td>\n",
       "      <td>0.0</td>\n",
       "      <td>0.0</td>\n",
       "      <td>0.0</td>\n",
       "      <td>0.0</td>\n",
       "      <td>0.0</td>\n",
       "      <td>0.0</td>\n",
       "      <td>0.0</td>\n",
       "      <td>0.0</td>\n",
       "      <td>...</td>\n",
       "      <td>0.0</td>\n",
       "      <td>0.0</td>\n",
       "      <td>0.0</td>\n",
       "      <td>0.0</td>\n",
       "      <td>0.0</td>\n",
       "      <td>0.0</td>\n",
       "      <td>0.0</td>\n",
       "      <td>0.0</td>\n",
       "      <td>0.0</td>\n",
       "      <td>0.0</td>\n",
       "    </tr>\n",
       "  </tbody>\n",
       "</table>\n",
       "<p>2 rows × 5001 columns</p>\n",
       "</div>"
      ],
      "text/plain": [
       "item_id  202291    397896    420647    480014    545926    707683    731106    \\\n",
       "user_id                                                                         \n",
       "1             0.0       0.0       0.0       0.0       0.0       0.0       0.0   \n",
       "2             0.0       0.0       0.0       0.0       0.0       0.0       0.0   \n",
       "\n",
       "item_id  818980    819063    819227    ...  15778533  15831255  15926712  \\\n",
       "user_id                                ...                                 \n",
       "1             0.0       0.0       0.0  ...       0.0       0.0       0.0   \n",
       "2             0.0       0.0       0.0  ...       0.0       0.0       0.0   \n",
       "\n",
       "item_id  15926775  15926844  15926886  15927403  15927661  15927850  16809471  \n",
       "user_id                                                                        \n",
       "1             0.0       1.0       0.0       0.0       0.0       0.0       0.0  \n",
       "2             0.0       0.0       0.0       0.0       0.0       0.0       0.0  \n",
       "\n",
       "[2 rows x 5001 columns]"
      ]
     },
     "execution_count": 8,
     "metadata": {},
     "output_type": "execute_result"
    }
   ],
   "source": [
    "user_item_matrix.head(2)"
   ]
  },
  {
   "cell_type": "code",
   "execution_count": 17,
   "id": "accurate-efficiency",
   "metadata": {},
   "outputs": [],
   "source": [
    "user_ids = user_item_matrix.index.values\n",
    "item_ids = user_item_matrix.columns.values\n",
    "\n",
    "matrix_user_ids = np.arange(len(user_ids))\n",
    "matrix_item_ids = np.arange(len(item_ids))\n",
    "\n",
    "id_to_user_id = dict(zip(matrix_user_ids, user_ids))\n",
    "id_to_item_id = dict(zip(matrix_item_ids, item_ids))\n",
    "\n",
    "user_id_to_id = dict(zip(user_ids, matrix_user_ids))\n",
    "item_id_to_id = dict(zip(item_ids, matrix_item_ids))"
   ]
  },
  {
   "cell_type": "code",
   "execution_count": 10,
   "id": "accomplished-feeling",
   "metadata": {},
   "outputs": [],
   "source": [
    "compare_df = df.groupby('user_id')['item_id'].unique().reset_index()\n",
    "compare_df.columns = ['user_id', 'actual']\n",
    "compare_df['actual'] = compare_df['actual'].apply(lambda x: list(x))"
   ]
  },
  {
   "cell_type": "code",
   "execution_count": 56,
   "id": "advanced-world",
   "metadata": {},
   "outputs": [
    {
     "data": {
      "text/html": [
       "<div>\n",
       "<style scoped>\n",
       "    .dataframe tbody tr th:only-of-type {\n",
       "        vertical-align: middle;\n",
       "    }\n",
       "\n",
       "    .dataframe tbody tr th {\n",
       "        vertical-align: top;\n",
       "    }\n",
       "\n",
       "    .dataframe thead th {\n",
       "        text-align: right;\n",
       "    }\n",
       "</style>\n",
       "<table border=\"1\" class=\"dataframe\">\n",
       "  <thead>\n",
       "    <tr style=\"text-align: right;\">\n",
       "      <th></th>\n",
       "      <th>user_id</th>\n",
       "      <th>actual</th>\n",
       "      <th>recommendation_with_999999</th>\n",
       "    </tr>\n",
       "  </thead>\n",
       "  <tbody>\n",
       "    <tr>\n",
       "      <th>0</th>\n",
       "      <td>1</td>\n",
       "      <td>[999999, 840361, 845307, 852014, 856942, 91267...</td>\n",
       "      <td>[129724, 396935, 113949, 491426, 123522]</td>\n",
       "    </tr>\n",
       "    <tr>\n",
       "      <th>1</th>\n",
       "      <td>2</td>\n",
       "      <td>[854852, 930118, 1077555, 1098066, 999999, 556...</td>\n",
       "      <td>[129724, 396935, 113949, 491426, 421024]</td>\n",
       "    </tr>\n",
       "    <tr>\n",
       "      <th>2</th>\n",
       "      <td>3</td>\n",
       "      <td>[866211, 878996, 882830, 904360, 921345, 99999...</td>\n",
       "      <td>[129724, 396935, 113949, 421024, 123522]</td>\n",
       "    </tr>\n",
       "    <tr>\n",
       "      <th>3</th>\n",
       "      <td>4</td>\n",
       "      <td>[999999, 857849, 883932, 891423, 897125, 90103...</td>\n",
       "      <td>[129724, 396935, 113949, 421024, 123522]</td>\n",
       "    </tr>\n",
       "    <tr>\n",
       "      <th>4</th>\n",
       "      <td>5</td>\n",
       "      <td>[999999, 889509, 937626, 941797, 1004596, 1114...</td>\n",
       "      <td>[129724, 396935, 113949, 123522, 421024]</td>\n",
       "    </tr>\n",
       "    <tr>\n",
       "      <th>...</th>\n",
       "      <td>...</td>\n",
       "      <td>...</td>\n",
       "      <td>...</td>\n",
       "    </tr>\n",
       "    <tr>\n",
       "      <th>2494</th>\n",
       "      <td>2496</td>\n",
       "      <td>[840361, 999999, 871756, 886703, 899624, 91612...</td>\n",
       "      <td>[129724, 396935, 113949, 421024, 123522]</td>\n",
       "    </tr>\n",
       "    <tr>\n",
       "      <th>2495</th>\n",
       "      <td>2497</td>\n",
       "      <td>[999999, 1037840, 5569230, 8090537, 1022428, 5...</td>\n",
       "      <td>[129724, 396935, 113949, 421024, 491426]</td>\n",
       "    </tr>\n",
       "    <tr>\n",
       "      <th>2496</th>\n",
       "      <td>2498</td>\n",
       "      <td>[824555, 835576, 901776, 904023, 911215, 91749...</td>\n",
       "      <td>[129724, 396935, 113949, 421024, 491426]</td>\n",
       "    </tr>\n",
       "    <tr>\n",
       "      <th>2497</th>\n",
       "      <td>2499</td>\n",
       "      <td>[838186, 999999, 864143, 932949, 933835, 10676...</td>\n",
       "      <td>[129724, 396935, 113949, 421024, 123522]</td>\n",
       "    </tr>\n",
       "    <tr>\n",
       "      <th>2498</th>\n",
       "      <td>2500</td>\n",
       "      <td>[999999, 837751, 893018, 964521, 972931, 10237...</td>\n",
       "      <td>[129724, 396935, 113949, 491426, 123522]</td>\n",
       "    </tr>\n",
       "  </tbody>\n",
       "</table>\n",
       "<p>2499 rows × 3 columns</p>\n",
       "</div>"
      ],
      "text/plain": [
       "      user_id                                             actual  \\\n",
       "0           1  [999999, 840361, 845307, 852014, 856942, 91267...   \n",
       "1           2  [854852, 930118, 1077555, 1098066, 999999, 556...   \n",
       "2           3  [866211, 878996, 882830, 904360, 921345, 99999...   \n",
       "3           4  [999999, 857849, 883932, 891423, 897125, 90103...   \n",
       "4           5  [999999, 889509, 937626, 941797, 1004596, 1114...   \n",
       "...       ...                                                ...   \n",
       "2494     2496  [840361, 999999, 871756, 886703, 899624, 91612...   \n",
       "2495     2497  [999999, 1037840, 5569230, 8090537, 1022428, 5...   \n",
       "2496     2498  [824555, 835576, 901776, 904023, 911215, 91749...   \n",
       "2497     2499  [838186, 999999, 864143, 932949, 933835, 10676...   \n",
       "2498     2500  [999999, 837751, 893018, 964521, 972931, 10237...   \n",
       "\n",
       "                    recommendation_with_999999  \n",
       "0     [129724, 396935, 113949, 491426, 123522]  \n",
       "1     [129724, 396935, 113949, 491426, 421024]  \n",
       "2     [129724, 396935, 113949, 421024, 123522]  \n",
       "3     [129724, 396935, 113949, 421024, 123522]  \n",
       "4     [129724, 396935, 113949, 123522, 421024]  \n",
       "...                                        ...  \n",
       "2494  [129724, 396935, 113949, 421024, 123522]  \n",
       "2495  [129724, 396935, 113949, 421024, 491426]  \n",
       "2496  [129724, 396935, 113949, 421024, 491426]  \n",
       "2497  [129724, 396935, 113949, 421024, 123522]  \n",
       "2498  [129724, 396935, 113949, 491426, 123522]  \n",
       "\n",
       "[2499 rows x 3 columns]"
      ]
     },
     "execution_count": 56,
     "metadata": {},
     "output_type": "execute_result"
    }
   ],
   "source": [
    "compare_df"
   ]
  },
  {
   "cell_type": "code",
   "execution_count": null,
   "id": "incident-dakota",
   "metadata": {},
   "outputs": [],
   "source": []
  },
  {
   "cell_type": "code",
   "execution_count": 58,
   "id": "variable-accuracy",
   "metadata": {},
   "outputs": [],
   "source": [
    "def recommendation(model_of_rec_sys, df, k, feature_name, exit_col_name, u_i_matrix, u_id_to_id, id_to_i_id):\n",
    "    model = model_of_rec_sys(K=k)\n",
    "    model.fit(csr_matrix(u_i_matrix).T.tocsr(), show_progress=True)\n",
    "    \n",
    "\n",
    "    df[exit_col_name] = df[feature_name].apply(lambda x: [id_to_i_id[rec[0]] for rec in model.recommend(userid=u_id_to_id[x], \n",
    "                                                                        user_items=csr_matrix(u_i_matrix).tocsr(), \n",
    "                                                                        N=5, \n",
    "                                                                        filter_already_liked_items=False, \n",
    "                                                                        filter_items=None, \n",
    "                                                                        recalculate_user=True)])"
   ]
  },
  {
   "cell_type": "code",
   "execution_count": 13,
   "id": "african-charge",
   "metadata": {},
   "outputs": [
    {
     "data": {
      "application/vnd.jupyter.widget-view+json": {
       "model_id": "ae9b1ddae2d8426e8abf697463e09c24",
       "version_major": 2,
       "version_minor": 0
      },
      "text/plain": [
       "  0%|          | 0/5001 [00:00<?, ?it/s]"
      ]
     },
     "metadata": {},
     "output_type": "display_data"
    }
   ],
   "source": [
    "recommendation(ItemItemRecommender, compare_df, 5, 'user_id', 'recommendation_with_999999', user_item_matrix, user_id_to_id, id_to_item_id)"
   ]
  },
  {
   "cell_type": "code",
   "execution_count": 25,
   "id": "multiple-terrace",
   "metadata": {},
   "outputs": [],
   "source": [
    "df_second = data_train.copy()\n",
    "df_second = df_second.loc[df_second['item_id'].isin(top_5000)]\n",
    "\n",
    "user_item_matrix_without_99999 = pd.pivot_table(df_second,\n",
    "                                  index='user_id', \n",
    "                                  columns='item_id', \n",
    "                                  values='quantity', \n",
    "                                  aggfunc='count', \n",
    "                                  fill_value=0)\n",
    "\n",
    "user_item_matrix_without_99999[user_item_matrix_without_99999 > 0] = 1\n",
    "user_item_matrix_without_99999 = user_item_matrix_without_99999.astype(float)"
   ]
  },
  {
   "cell_type": "code",
   "execution_count": 26,
   "id": "impressed-board",
   "metadata": {},
   "outputs": [],
   "source": [
    "user_ids_without_99999 = user_item_matrix_without_99999.index.values\n",
    "item_ids_without_99999 = user_item_matrix_without_99999.columns.values\n",
    "\n",
    "matrix_user_ids_without_99999 = np.arange(len(user_ids_without_99999))\n",
    "matrix_item_ids_without_99999 = np.arange(len(item_ids_without_99999))\n",
    "\n",
    "id_to_user_id_without_99999 = dict(zip(matrix_user_ids_without_99999, user_ids_without_99999))\n",
    "id_to_item_id_without_99999 = dict(zip(matrix_item_ids_without_99999, item_ids_without_99999))\n",
    "\n",
    "user_id_to_id_without_99999 = dict(zip(user_ids_without_99999, matrix_user_ids_without_99999))\n",
    "item_id_to_id_without_99999 = dict(zip(item_ids_without_99999, matrix_item_ids_without_99999))"
   ]
  },
  {
   "cell_type": "code",
   "execution_count": 28,
   "id": "serious-bleeding",
   "metadata": {},
   "outputs": [
    {
     "data": {
      "application/vnd.jupyter.widget-view+json": {
       "model_id": "bdf18cfae8f3438b9d4af75fbe44c480",
       "version_major": 2,
       "version_minor": 0
      },
      "text/plain": [
       "  0%|          | 0/5000 [00:00<?, ?it/s]"
      ]
     },
     "metadata": {},
     "output_type": "display_data"
    },
    {
     "ename": "KeyError",
     "evalue": "62",
     "output_type": "error",
     "traceback": [
      "\u001b[0;31m---------------------------------------------------------------------------\u001b[0m",
      "\u001b[0;31mKeyError\u001b[0m                                  Traceback (most recent call last)",
      "\u001b[0;32m<ipython-input-28-4d4d4a32ae8d>\u001b[0m in \u001b[0;36m<module>\u001b[0;34m\u001b[0m\n\u001b[0;32m----> 1\u001b[0;31m \u001b[0mrecommendation\u001b[0m\u001b[0;34m(\u001b[0m\u001b[0mItemItemRecommender\u001b[0m\u001b[0;34m,\u001b[0m \u001b[0mcompare_df\u001b[0m\u001b[0;34m,\u001b[0m \u001b[0;36m5\u001b[0m\u001b[0;34m,\u001b[0m \u001b[0;34m'user_id'\u001b[0m\u001b[0;34m,\u001b[0m \u001b[0;34m'recommendation_without_999999'\u001b[0m\u001b[0;34m,\u001b[0m \u001b[0muser_item_matrix_without_99999\u001b[0m\u001b[0;34m,\u001b[0m \u001b[0muser_id_to_id_without_99999\u001b[0m\u001b[0;34m,\u001b[0m \u001b[0mid_to_item_id_without_99999\u001b[0m\u001b[0;34m)\u001b[0m\u001b[0;34m\u001b[0m\u001b[0;34m\u001b[0m\u001b[0m\n\u001b[0m",
      "\u001b[0;32m<ipython-input-21-d466a6373c7d>\u001b[0m in \u001b[0;36mrecommendation\u001b[0;34m(model_of_rec_sys, df, k, feature_name, exit_col_name, u_i_matrix, u_id_to_id, id_to_i_id)\u001b[0m\n\u001b[1;32m      4\u001b[0m \u001b[0;34m\u001b[0m\u001b[0m\n\u001b[1;32m      5\u001b[0m \u001b[0;34m\u001b[0m\u001b[0m\n\u001b[0;32m----> 6\u001b[0;31m     df[exit_col_name] = df[feature_name].apply(lambda x: [id_to_i_id[rec[0]] for rec in model.recommend(userid=u_id_to_id[x], \n\u001b[0m\u001b[1;32m      7\u001b[0m                                                                         \u001b[0muser_items\u001b[0m\u001b[0;34m=\u001b[0m\u001b[0mcsr_matrix\u001b[0m\u001b[0;34m(\u001b[0m\u001b[0mu_i_matrix\u001b[0m\u001b[0;34m)\u001b[0m\u001b[0;34m.\u001b[0m\u001b[0mtocsr\u001b[0m\u001b[0;34m(\u001b[0m\u001b[0;34m)\u001b[0m\u001b[0;34m,\u001b[0m\u001b[0;34m\u001b[0m\u001b[0;34m\u001b[0m\u001b[0m\n\u001b[1;32m      8\u001b[0m                                                                         \u001b[0mN\u001b[0m\u001b[0;34m=\u001b[0m\u001b[0;36m5\u001b[0m\u001b[0;34m,\u001b[0m\u001b[0;34m\u001b[0m\u001b[0;34m\u001b[0m\u001b[0m\n",
      "\u001b[0;32m~/opt/anaconda3/lib/python3.8/site-packages/pandas/core/series.py\u001b[0m in \u001b[0;36mapply\u001b[0;34m(self, func, convert_dtype, args, **kwds)\u001b[0m\n\u001b[1;32m   4106\u001b[0m             \u001b[0;32melse\u001b[0m\u001b[0;34m:\u001b[0m\u001b[0;34m\u001b[0m\u001b[0;34m\u001b[0m\u001b[0m\n\u001b[1;32m   4107\u001b[0m                 \u001b[0mvalues\u001b[0m \u001b[0;34m=\u001b[0m \u001b[0mself\u001b[0m\u001b[0;34m.\u001b[0m\u001b[0mastype\u001b[0m\u001b[0;34m(\u001b[0m\u001b[0mobject\u001b[0m\u001b[0;34m)\u001b[0m\u001b[0;34m.\u001b[0m\u001b[0m_values\u001b[0m\u001b[0;34m\u001b[0m\u001b[0;34m\u001b[0m\u001b[0m\n\u001b[0;32m-> 4108\u001b[0;31m                 \u001b[0mmapped\u001b[0m \u001b[0;34m=\u001b[0m \u001b[0mlib\u001b[0m\u001b[0;34m.\u001b[0m\u001b[0mmap_infer\u001b[0m\u001b[0;34m(\u001b[0m\u001b[0mvalues\u001b[0m\u001b[0;34m,\u001b[0m \u001b[0mf\u001b[0m\u001b[0;34m,\u001b[0m \u001b[0mconvert\u001b[0m\u001b[0;34m=\u001b[0m\u001b[0mconvert_dtype\u001b[0m\u001b[0;34m)\u001b[0m\u001b[0;34m\u001b[0m\u001b[0;34m\u001b[0m\u001b[0m\n\u001b[0m\u001b[1;32m   4109\u001b[0m \u001b[0;34m\u001b[0m\u001b[0m\n\u001b[1;32m   4110\u001b[0m         \u001b[0;32mif\u001b[0m \u001b[0mlen\u001b[0m\u001b[0;34m(\u001b[0m\u001b[0mmapped\u001b[0m\u001b[0;34m)\u001b[0m \u001b[0;32mand\u001b[0m \u001b[0misinstance\u001b[0m\u001b[0;34m(\u001b[0m\u001b[0mmapped\u001b[0m\u001b[0;34m[\u001b[0m\u001b[0;36m0\u001b[0m\u001b[0;34m]\u001b[0m\u001b[0;34m,\u001b[0m \u001b[0mSeries\u001b[0m\u001b[0;34m)\u001b[0m\u001b[0;34m:\u001b[0m\u001b[0;34m\u001b[0m\u001b[0;34m\u001b[0m\u001b[0m\n",
      "\u001b[0;32mpandas/_libs/lib.pyx\u001b[0m in \u001b[0;36mpandas._libs.lib.map_infer\u001b[0;34m()\u001b[0m\n",
      "\u001b[0;32m<ipython-input-21-d466a6373c7d>\u001b[0m in \u001b[0;36m<lambda>\u001b[0;34m(x)\u001b[0m\n\u001b[1;32m      4\u001b[0m \u001b[0;34m\u001b[0m\u001b[0m\n\u001b[1;32m      5\u001b[0m \u001b[0;34m\u001b[0m\u001b[0m\n\u001b[0;32m----> 6\u001b[0;31m     df[exit_col_name] = df[feature_name].apply(lambda x: [id_to_i_id[rec[0]] for rec in model.recommend(userid=u_id_to_id[x], \n\u001b[0m\u001b[1;32m      7\u001b[0m                                                                         \u001b[0muser_items\u001b[0m\u001b[0;34m=\u001b[0m\u001b[0mcsr_matrix\u001b[0m\u001b[0;34m(\u001b[0m\u001b[0mu_i_matrix\u001b[0m\u001b[0;34m)\u001b[0m\u001b[0;34m.\u001b[0m\u001b[0mtocsr\u001b[0m\u001b[0;34m(\u001b[0m\u001b[0;34m)\u001b[0m\u001b[0;34m,\u001b[0m\u001b[0;34m\u001b[0m\u001b[0;34m\u001b[0m\u001b[0m\n\u001b[1;32m      8\u001b[0m                                                                         \u001b[0mN\u001b[0m\u001b[0;34m=\u001b[0m\u001b[0;36m5\u001b[0m\u001b[0;34m,\u001b[0m\u001b[0;34m\u001b[0m\u001b[0;34m\u001b[0m\u001b[0m\n",
      "\u001b[0;31mKeyError\u001b[0m: 62"
     ]
    }
   ],
   "source": [
    "recommendation(ItemItemRecommender, compare_df, 5, 'user_id', 'recommendation_without_999999', user_item_matrix_without_99999, user_id_to_id_without_99999, id_to_item_id_without_99999)"
   ]
  },
  {
   "cell_type": "code",
   "execution_count": null,
   "id": "respected-choice",
   "metadata": {},
   "outputs": [],
   "source": [
    "compare_df['precition_with_999999'] = compare_df.apply(lambda x: precision_at_k(x['recommendation_with_999999'], x['actual']), axis=1)\n",
    "compare_df['precition_with_999999'].sum()/compare_df.shape[0]"
   ]
  },
  {
   "cell_type": "code",
   "execution_count": null,
   "id": "external-aircraft",
   "metadata": {},
   "outputs": [],
   "source": [
    "compare_df['precition_without_999999'] = compare_df.apply(lambda x: precision_at_k(x['recommendation_without_999999'], x['actual']), axis=1)\n",
    "compare_df['precition_without_999999'].sum()/compare_df.shape[0]"
   ]
  },
  {
   "cell_type": "markdown",
   "id": "administrative-globe",
   "metadata": {},
   "source": [
    "*Выше мы видим что убрав не популярные товары, мы так же потеряли некоторых пользователей, которые покупали только непопулятрные товары. По-этому целесеобразно не терять пользователей и заменять товары не вошедшие в популярные на один общий item_id*"
   ]
  },
  {
   "cell_type": "markdown",
   "id": "oriental-switzerland",
   "metadata": {
    "colab_type": "text",
    "id": "zlUUzLFeC8Y4"
   },
   "source": [
    "### Задание 1. Weighted Random Recommendation\n",
    "\n",
    "Напишите код для случайных рекоммендаций, в которых вероятность рекомендовать товар прямо пропорциональна логарифму продаж\n",
    "- Можно сэмплировать товары случайно, но пропорционально какому-либо весу\n",
    "- Например, прямопропорционально популярности. вес = log(sales_sum товара)\n",
    "- Придумайте пример 3 весов, посчитайте weighted_random_recommendation для разных весов"
   ]
  },
  {
   "cell_type": "code",
   "execution_count": 59,
   "id": "level-discrimination",
   "metadata": {},
   "outputs": [],
   "source": [
    "def weighted_random_recommendation(items_weights, n=5):\n",
    "    \"\"\"Случайные рекоммендации\n",
    "    \n",
    "    Input\n",
    "    -----\n",
    "    items_weights: pd.DataFrame\n",
    "        Датафрейм со столбцами item_id, weight. Сумма weight по всем товарам = 1\n",
    "    \"\"\"\n",
    "    \n",
    "    # Подсказка: необходимо модифицировать функцию random_recommendation()\n",
    "    \n",
    "    recs = np.random.choice(items_weights['item_id'].values, p=items_weights['weight'].values, size=n, replace=False)\n",
    "    \n",
    "    return recs.tolist()"
   ]
  },
  {
   "cell_type": "code",
   "execution_count": 60,
   "id": "respiratory-earthquake",
   "metadata": {},
   "outputs": [
    {
     "data": {
      "text/plain": [
       "item_id    4.340828e+11\n",
       "weight     1.000000e+00\n",
       "dtype: float64"
      ]
     },
     "execution_count": 60,
     "metadata": {},
     "output_type": "execute_result"
    }
   ],
   "source": [
    "popular_items = data_train.groupby('item_id')['quantity'].sum().reset_index()\n",
    "\n",
    "popular_items['quantity'] = popular_items['quantity'].apply(lambda x: np.log(1 + x))\n",
    "sales_values_sum = popular_items['quantity'].sum()\n",
    "popular_items['quantity'] = popular_items['quantity'].apply(lambda x: x/sales_values_sum)\n",
    "\n",
    "popular_items = popular_items.rename(columns={'quantity': 'weight'}, inplace=False)\n",
    "\n",
    "popular_items.sum()"
   ]
  },
  {
   "cell_type": "code",
   "execution_count": 61,
   "id": "valuable-calculator",
   "metadata": {},
   "outputs": [
    {
     "data": {
      "text/plain": [
       "[1119769, 6904798, 108404, 5984458, 979452]"
      ]
     },
     "execution_count": 61,
     "metadata": {},
     "output_type": "execute_result"
    }
   ],
   "source": [
    "weighted_random_recommendation(popular_items)"
   ]
  },
  {
   "cell_type": "markdown",
   "id": "every-exchange",
   "metadata": {
    "colab_type": "text",
    "id": "hyNG6O-wC8Y_"
   },
   "source": [
    "### Задание 2. Расчет метрик\n",
    "Рассчитайте Precision@5 для каждого алгоритма (с вебинара и weighted_random_recommendation) с помощью функции из вебинара 1. Какой алгоритм показывает лучшее качество? Почему?"
   ]
  },
  {
   "cell_type": "code",
   "execution_count": 62,
   "id": "amber-executive",
   "metadata": {},
   "outputs": [
    {
     "data": {
      "text/html": [
       "<div>\n",
       "<style scoped>\n",
       "    .dataframe tbody tr th:only-of-type {\n",
       "        vertical-align: middle;\n",
       "    }\n",
       "\n",
       "    .dataframe tbody tr th {\n",
       "        vertical-align: top;\n",
       "    }\n",
       "\n",
       "    .dataframe thead th {\n",
       "        text-align: right;\n",
       "    }\n",
       "</style>\n",
       "<table border=\"1\" class=\"dataframe\">\n",
       "  <thead>\n",
       "    <tr style=\"text-align: right;\">\n",
       "      <th></th>\n",
       "      <th>user_id</th>\n",
       "      <th>actual</th>\n",
       "      <th>random_recommendation</th>\n",
       "      <th>popular_recommendation</th>\n",
       "      <th>itemitem</th>\n",
       "      <th>cosine</th>\n",
       "      <th>tfidf</th>\n",
       "      <th>own_purchases</th>\n",
       "    </tr>\n",
       "  </thead>\n",
       "  <tbody>\n",
       "    <tr>\n",
       "      <th>0</th>\n",
       "      <td>1</td>\n",
       "      <td>[821867, 834484, 856942, 865456, 889248, 90795...</td>\n",
       "      <td>[12734433, 9371822, 1017539, 911036, 9493557]</td>\n",
       "      <td>[6534178, 6533889, 1029743, 6534166, 1082185]</td>\n",
       "      <td>[999999, 1082185, 981760, 1127831, 995242]</td>\n",
       "      <td>[1082185, 999999, 981760, 1127831, 1098066]</td>\n",
       "      <td>[1082185, 981760, 1127831, 999999, 1098066]</td>\n",
       "      <td>[999999, 1082185, 1029743, 995785, 1004906]</td>\n",
       "    </tr>\n",
       "    <tr>\n",
       "      <th>1</th>\n",
       "      <td>3</td>\n",
       "      <td>[835476, 851057, 872021, 878302, 879948, 90963...</td>\n",
       "      <td>[5995494, 13876585, 1088112, 1027049, 1788883]</td>\n",
       "      <td>[6534178, 6533889, 1029743, 6534166, 1082185]</td>\n",
       "      <td>[999999, 1082185, 981760, 1098066, 995242]</td>\n",
       "      <td>[1082185, 1098066, 981760, 999999, 826249]</td>\n",
       "      <td>[1082185, 981760, 1098066, 826249, 999999]</td>\n",
       "      <td>[999999, 1082185, 1098066, 6534178, 1127831]</td>\n",
       "    </tr>\n",
       "    <tr>\n",
       "      <th>2</th>\n",
       "      <td>6</td>\n",
       "      <td>[920308, 926804, 946489, 1006718, 1017061, 107...</td>\n",
       "      <td>[1614902, 1039131, 963011, 991542, 918875]</td>\n",
       "      <td>[6534178, 6533889, 1029743, 6534166, 1082185]</td>\n",
       "      <td>[999999, 1082185, 981760, 1127831, 995242]</td>\n",
       "      <td>[1082185, 999999, 981760, 1127831, 1098066]</td>\n",
       "      <td>[1082185, 981760, 1127831, 999999, 878996]</td>\n",
       "      <td>[999999, 1082185, 1029743, 6534178, 1127831]</td>\n",
       "    </tr>\n",
       "    <tr>\n",
       "      <th>3</th>\n",
       "      <td>7</td>\n",
       "      <td>[840386, 889774, 898068, 909714, 929067, 95347...</td>\n",
       "      <td>[6919446, 1077409, 9527054, 2073510, 1098569]</td>\n",
       "      <td>[6534178, 6533889, 1029743, 6534166, 1082185]</td>\n",
       "      <td>[999999, 1082185, 981760, 1127831, 995242]</td>\n",
       "      <td>[1082185, 981760, 999999, 1127831, 961554]</td>\n",
       "      <td>[1082185, 981760, 1127831, 999999, 961554]</td>\n",
       "      <td>[999999, 1082185, 1029743, 1127831, 995785]</td>\n",
       "    </tr>\n",
       "    <tr>\n",
       "      <th>4</th>\n",
       "      <td>8</td>\n",
       "      <td>[835098, 872137, 910439, 924610, 992977, 10412...</td>\n",
       "      <td>[1091981, 924475, 1151125, 5565356, 12484600]</td>\n",
       "      <td>[6534178, 6533889, 1029743, 6534166, 1082185]</td>\n",
       "      <td>[999999, 1082185, 981760, 1127831, 1098066]</td>\n",
       "      <td>[1082185, 981760, 999999, 1098066, 826249]</td>\n",
       "      <td>[1082185, 981760, 999999, 1098066, 826249]</td>\n",
       "      <td>[999999, 1082185, 1029743, 1098066, 6534178]</td>\n",
       "    </tr>\n",
       "  </tbody>\n",
       "</table>\n",
       "</div>"
      ],
      "text/plain": [
       "   user_id                                             actual  \\\n",
       "0        1  [821867, 834484, 856942, 865456, 889248, 90795...   \n",
       "1        3  [835476, 851057, 872021, 878302, 879948, 90963...   \n",
       "2        6  [920308, 926804, 946489, 1006718, 1017061, 107...   \n",
       "3        7  [840386, 889774, 898068, 909714, 929067, 95347...   \n",
       "4        8  [835098, 872137, 910439, 924610, 992977, 10412...   \n",
       "\n",
       "                            random_recommendation  \\\n",
       "0   [12734433, 9371822, 1017539, 911036, 9493557]   \n",
       "1  [5995494, 13876585, 1088112, 1027049, 1788883]   \n",
       "2      [1614902, 1039131, 963011, 991542, 918875]   \n",
       "3   [6919446, 1077409, 9527054, 2073510, 1098569]   \n",
       "4   [1091981, 924475, 1151125, 5565356, 12484600]   \n",
       "\n",
       "                          popular_recommendation  \\\n",
       "0  [6534178, 6533889, 1029743, 6534166, 1082185]   \n",
       "1  [6534178, 6533889, 1029743, 6534166, 1082185]   \n",
       "2  [6534178, 6533889, 1029743, 6534166, 1082185]   \n",
       "3  [6534178, 6533889, 1029743, 6534166, 1082185]   \n",
       "4  [6534178, 6533889, 1029743, 6534166, 1082185]   \n",
       "\n",
       "                                      itemitem  \\\n",
       "0   [999999, 1082185, 981760, 1127831, 995242]   \n",
       "1   [999999, 1082185, 981760, 1098066, 995242]   \n",
       "2   [999999, 1082185, 981760, 1127831, 995242]   \n",
       "3   [999999, 1082185, 981760, 1127831, 995242]   \n",
       "4  [999999, 1082185, 981760, 1127831, 1098066]   \n",
       "\n",
       "                                        cosine  \\\n",
       "0  [1082185, 999999, 981760, 1127831, 1098066]   \n",
       "1   [1082185, 1098066, 981760, 999999, 826249]   \n",
       "2  [1082185, 999999, 981760, 1127831, 1098066]   \n",
       "3   [1082185, 981760, 999999, 1127831, 961554]   \n",
       "4   [1082185, 981760, 999999, 1098066, 826249]   \n",
       "\n",
       "                                         tfidf  \\\n",
       "0  [1082185, 981760, 1127831, 999999, 1098066]   \n",
       "1   [1082185, 981760, 1098066, 826249, 999999]   \n",
       "2   [1082185, 981760, 1127831, 999999, 878996]   \n",
       "3   [1082185, 981760, 1127831, 999999, 961554]   \n",
       "4   [1082185, 981760, 999999, 1098066, 826249]   \n",
       "\n",
       "                                  own_purchases  \n",
       "0   [999999, 1082185, 1029743, 995785, 1004906]  \n",
       "1  [999999, 1082185, 1098066, 6534178, 1127831]  \n",
       "2  [999999, 1082185, 1029743, 6534178, 1127831]  \n",
       "3   [999999, 1082185, 1029743, 1127831, 995785]  \n",
       "4  [999999, 1082185, 1029743, 1098066, 6534178]  "
      ]
     },
     "execution_count": 62,
     "metadata": {},
     "output_type": "execute_result"
    }
   ],
   "source": [
    "PATH_TO_PREDS ='../урок 2/predictions.csv'\n",
    "result = pd.read_csv(PATH_TO_PREDS)# закгрузка predict с семианара\n",
    "result.head()"
   ]
  },
  {
   "cell_type": "markdown",
   "id": "defensive-enhancement",
   "metadata": {},
   "source": [
    "#### Пребразуем строку с item_id в список"
   ]
  },
  {
   "cell_type": "code",
   "execution_count": 63,
   "id": "finite-flooring",
   "metadata": {},
   "outputs": [],
   "source": [
    "# result['column_name'].map(lambda x: x[1:-1].split(', ')).apply(lambda x: list(map(int, x)))[0]"
   ]
  },
  {
   "cell_type": "code",
   "execution_count": 64,
   "id": "critical-uniform",
   "metadata": {},
   "outputs": [],
   "source": [
    "# result.apply(lambda x: precision_at_k(x['popular_recommendation'], x['actual_l'],  5), axis=1)"
   ]
  },
  {
   "cell_type": "code",
   "execution_count": 65,
   "id": "threaded-mailman",
   "metadata": {},
   "outputs": [],
   "source": [
    "result['weighted_random_recommendation'] = \\\n",
    " result['user_id'].apply(lambda x: weighted_random_recommendation(popular_items, n=5))"
   ]
  },
  {
   "cell_type": "code",
   "execution_count": 66,
   "id": "cosmetic-spread",
   "metadata": {},
   "outputs": [],
   "source": [
    "for column in result.select_dtypes(include='object'):\n",
    "\n",
    "    result[column] = result[column].apply(lambda x: re.findall(r'\\d+', x) if isinstance(x, str) else x)"
   ]
  },
  {
   "cell_type": "code",
   "execution_count": 67,
   "id": "fewer-pendant",
   "metadata": {},
   "outputs": [],
   "source": [
    "results_columns = result.select_dtypes(include='object').drop(columns=['actual']).columns.to_list()"
   ]
  },
  {
   "cell_type": "code",
   "execution_count": 69,
   "id": "metallic-press",
   "metadata": {},
   "outputs": [
    {
     "name": "stderr",
     "output_type": "stream",
     "text": [
      "/Users/macbook/opt/anaconda3/lib/python3.8/site-packages/numpy/lib/arraysetops.py:580: FutureWarning: elementwise comparison failed; returning scalar instead, but in the future will perform elementwise comparison\n",
      "  mask |= (ar1 == a)\n"
     ]
    }
   ],
   "source": [
    "for column in results_columns:\n",
    "    result[f'{column}_predicts'] = result.apply(lambda x: precision_at_k(x[column], x['actual']), axis=1)"
   ]
  },
  {
   "cell_type": "code",
   "execution_count": 73,
   "id": "potential-yeast",
   "metadata": {},
   "outputs": [
    {
     "data": {
      "text/html": [
       "<div>\n",
       "<style scoped>\n",
       "    .dataframe tbody tr th:only-of-type {\n",
       "        vertical-align: middle;\n",
       "    }\n",
       "\n",
       "    .dataframe tbody tr th {\n",
       "        vertical-align: top;\n",
       "    }\n",
       "\n",
       "    .dataframe thead th {\n",
       "        text-align: right;\n",
       "    }\n",
       "</style>\n",
       "<table border=\"1\" class=\"dataframe\">\n",
       "  <thead>\n",
       "    <tr style=\"text-align: right;\">\n",
       "      <th></th>\n",
       "      <th>user_id</th>\n",
       "      <th>actual</th>\n",
       "      <th>random_recommendation</th>\n",
       "      <th>popular_recommendation</th>\n",
       "      <th>itemitem</th>\n",
       "      <th>cosine</th>\n",
       "      <th>tfidf</th>\n",
       "      <th>own_purchases</th>\n",
       "      <th>weighted_random_recommendation</th>\n",
       "      <th>random_recommendation_predicts</th>\n",
       "      <th>popular_recommendation_predicts</th>\n",
       "      <th>itemitem_predicts</th>\n",
       "      <th>cosine_predicts</th>\n",
       "      <th>tfidf_predicts</th>\n",
       "      <th>own_purchases_predicts</th>\n",
       "      <th>weighted_random_recommendation_predicts</th>\n",
       "    </tr>\n",
       "  </thead>\n",
       "  <tbody>\n",
       "    <tr>\n",
       "      <th>0</th>\n",
       "      <td>1</td>\n",
       "      <td>[821867, 834484, 856942, 865456, 889248, 90795...</td>\n",
       "      <td>[12734433, 9371822, 1017539, 911036, 9493557]</td>\n",
       "      <td>[6534178, 6533889, 1029743, 6534166, 1082185]</td>\n",
       "      <td>[999999, 1082185, 981760, 1127831, 995242]</td>\n",
       "      <td>[1082185, 999999, 981760, 1127831, 1098066]</td>\n",
       "      <td>[1082185, 981760, 1127831, 999999, 1098066]</td>\n",
       "      <td>[999999, 1082185, 1029743, 995785, 1004906]</td>\n",
       "      <td>[915041, 9297062, 871353, 13213121, 13002981]</td>\n",
       "      <td>0.0</td>\n",
       "      <td>0.2</td>\n",
       "      <td>0.4</td>\n",
       "      <td>0.2</td>\n",
       "      <td>0.2</td>\n",
       "      <td>0.4</td>\n",
       "      <td>0.0</td>\n",
       "    </tr>\n",
       "    <tr>\n",
       "      <th>1</th>\n",
       "      <td>3</td>\n",
       "      <td>[835476, 851057, 872021, 878302, 879948, 90963...</td>\n",
       "      <td>[5995494, 13876585, 1088112, 1027049, 1788883]</td>\n",
       "      <td>[6534178, 6533889, 1029743, 6534166, 1082185]</td>\n",
       "      <td>[999999, 1082185, 981760, 1098066, 995242]</td>\n",
       "      <td>[1082185, 1098066, 981760, 999999, 826249]</td>\n",
       "      <td>[1082185, 981760, 1098066, 826249, 999999]</td>\n",
       "      <td>[999999, 1082185, 1098066, 6534178, 1127831]</td>\n",
       "      <td>[1033846, 5592629, 7442338, 8069056, 822129]</td>\n",
       "      <td>0.0</td>\n",
       "      <td>0.0</td>\n",
       "      <td>0.0</td>\n",
       "      <td>0.0</td>\n",
       "      <td>0.0</td>\n",
       "      <td>0.0</td>\n",
       "      <td>0.0</td>\n",
       "    </tr>\n",
       "  </tbody>\n",
       "</table>\n",
       "</div>"
      ],
      "text/plain": [
       "   user_id                                             actual  \\\n",
       "0        1  [821867, 834484, 856942, 865456, 889248, 90795...   \n",
       "1        3  [835476, 851057, 872021, 878302, 879948, 90963...   \n",
       "\n",
       "                            random_recommendation  \\\n",
       "0   [12734433, 9371822, 1017539, 911036, 9493557]   \n",
       "1  [5995494, 13876585, 1088112, 1027049, 1788883]   \n",
       "\n",
       "                          popular_recommendation  \\\n",
       "0  [6534178, 6533889, 1029743, 6534166, 1082185]   \n",
       "1  [6534178, 6533889, 1029743, 6534166, 1082185]   \n",
       "\n",
       "                                     itemitem  \\\n",
       "0  [999999, 1082185, 981760, 1127831, 995242]   \n",
       "1  [999999, 1082185, 981760, 1098066, 995242]   \n",
       "\n",
       "                                        cosine  \\\n",
       "0  [1082185, 999999, 981760, 1127831, 1098066]   \n",
       "1   [1082185, 1098066, 981760, 999999, 826249]   \n",
       "\n",
       "                                         tfidf  \\\n",
       "0  [1082185, 981760, 1127831, 999999, 1098066]   \n",
       "1   [1082185, 981760, 1098066, 826249, 999999]   \n",
       "\n",
       "                                  own_purchases  \\\n",
       "0   [999999, 1082185, 1029743, 995785, 1004906]   \n",
       "1  [999999, 1082185, 1098066, 6534178, 1127831]   \n",
       "\n",
       "                  weighted_random_recommendation  \\\n",
       "0  [915041, 9297062, 871353, 13213121, 13002981]   \n",
       "1   [1033846, 5592629, 7442338, 8069056, 822129]   \n",
       "\n",
       "   random_recommendation_predicts  popular_recommendation_predicts  \\\n",
       "0                             0.0                              0.2   \n",
       "1                             0.0                              0.0   \n",
       "\n",
       "   itemitem_predicts  cosine_predicts  tfidf_predicts  own_purchases_predicts  \\\n",
       "0                0.4              0.2             0.2                     0.4   \n",
       "1                0.0              0.0             0.0                     0.0   \n",
       "\n",
       "   weighted_random_recommendation_predicts  \n",
       "0                                      0.0  \n",
       "1                                      0.0  "
      ]
     },
     "execution_count": 73,
     "metadata": {},
     "output_type": "execute_result"
    }
   ],
   "source": [
    "result.head(2)"
   ]
  },
  {
   "cell_type": "markdown",
   "id": "higher-september",
   "metadata": {
    "colab_type": "text",
    "id": "igDU0j1cC8ZH"
   },
   "source": [
    "### Задание 3. Улучшение бейзлайнов и ItemItem\n",
    "\n",
    "- Попробуйте улучшить бейзлайны, считая их на топ-5000 товаров\n",
    "- Попробуйте улучшить разные варианты ItemItemRecommender, выбирая число соседей $K$.\n",
    "- Попробуйте стратегии ансамблирования изученных алгоритмов\n"
   ]
  },
  {
   "cell_type": "markdown",
   "id": "hollow-estimate",
   "metadata": {},
   "source": [
    "#### Бейзлайны"
   ]
  },
  {
   "cell_type": "code",
   "execution_count": 74,
   "id": "copyrighted-length",
   "metadata": {},
   "outputs": [],
   "source": [
    "def random_recommendation(items, n=5):\n",
    "    \"\"\"Случайные рекоммендации\"\"\"\n",
    "    \n",
    "    \n",
    "    items = np.array(items)\n",
    "    recs = np.random.choice(items, size=n, replace=False)\n",
    "    \n",
    "    return recs.tolist()"
   ]
  },
  {
   "cell_type": "code",
   "execution_count": 75,
   "id": "growing-jungle",
   "metadata": {},
   "outputs": [],
   "source": [
    "def popularity_recommendation(data, n=5):\n",
    "    \"\"\"Топ-n популярных товаров\"\"\"\n",
    "    \n",
    "    popular = data.groupby('item_id')['sales_value'].sum().reset_index()\n",
    "    popular.sort_values('sales_value', ascending=False, inplace=True)\n",
    "    \n",
    "    recs = popular.head(n).item_id\n",
    "    \n",
    "    return recs.tolist()"
   ]
  },
  {
   "cell_type": "code",
   "execution_count": 76,
   "id": "pretty-preserve",
   "metadata": {},
   "outputs": [
    {
     "data": {
      "text/html": [
       "<div>\n",
       "<style scoped>\n",
       "    .dataframe tbody tr th:only-of-type {\n",
       "        vertical-align: middle;\n",
       "    }\n",
       "\n",
       "    .dataframe tbody tr th {\n",
       "        vertical-align: top;\n",
       "    }\n",
       "\n",
       "    .dataframe thead th {\n",
       "        text-align: right;\n",
       "    }\n",
       "</style>\n",
       "<table border=\"1\" class=\"dataframe\">\n",
       "  <thead>\n",
       "    <tr style=\"text-align: right;\">\n",
       "      <th></th>\n",
       "      <th>user_id</th>\n",
       "      <th>boughted</th>\n",
       "    </tr>\n",
       "  </thead>\n",
       "  <tbody>\n",
       "    <tr>\n",
       "      <th>0</th>\n",
       "      <td>1</td>\n",
       "      <td>[825123, 831447, 840361, 845307, 852014, 85498...</td>\n",
       "    </tr>\n",
       "    <tr>\n",
       "      <th>1</th>\n",
       "      <td>2</td>\n",
       "      <td>[854852, 930118, 1077555, 1098066, 5567388, 55...</td>\n",
       "    </tr>\n",
       "    <tr>\n",
       "      <th>2</th>\n",
       "      <td>3</td>\n",
       "      <td>[866211, 878996, 882830, 904360, 921345, 93194...</td>\n",
       "    </tr>\n",
       "    <tr>\n",
       "      <th>3</th>\n",
       "      <td>4</td>\n",
       "      <td>[836163, 857849, 877523, 878909, 883932, 89142...</td>\n",
       "    </tr>\n",
       "    <tr>\n",
       "      <th>4</th>\n",
       "      <td>5</td>\n",
       "      <td>[938983, 5980822, 1012352, 825538, 1002499, 69...</td>\n",
       "    </tr>\n",
       "  </tbody>\n",
       "</table>\n",
       "</div>"
      ],
      "text/plain": [
       "   user_id                                           boughted\n",
       "0        1  [825123, 831447, 840361, 845307, 852014, 85498...\n",
       "1        2  [854852, 930118, 1077555, 1098066, 5567388, 55...\n",
       "2        3  [866211, 878996, 882830, 904360, 921345, 93194...\n",
       "3        4  [836163, 857849, 877523, 878909, 883932, 89142...\n",
       "4        5  [938983, 5980822, 1012352, 825538, 1002499, 69..."
      ]
     },
     "execution_count": 76,
     "metadata": {},
     "output_type": "execute_result"
    }
   ],
   "source": [
    "result_ex_3 = data_train.groupby('user_id')['item_id'].unique().reset_index()\n",
    "result_ex_3.columns = ['user_id', 'boughted']\n",
    "result_ex_3['boughted'] = result_ex_3['boughted'].apply(lambda x: list(x))\n",
    "result_ex_3.head()"
   ]
  },
  {
   "cell_type": "code",
   "execution_count": 79,
   "id": "fitted-girlfriend",
   "metadata": {},
   "outputs": [
    {
     "name": "stdout",
     "output_type": "stream",
     "text": [
      "CPU times: user 1.35 s, sys: 12.9 ms, total: 1.37 s\n",
      "Wall time: 1.37 s\n"
     ]
    }
   ],
   "source": [
    "%%time\n",
    "\n",
    "result_ex_3['random_recommendation'] = result_ex_3['user_id'].apply(lambda x: random_recommendation(top_5000, n=5))"
   ]
  },
  {
   "cell_type": "code",
   "execution_count": 80,
   "id": "mental-pontiac",
   "metadata": {},
   "outputs": [],
   "source": [
    "data_train_top_5k = df.copy()"
   ]
  },
  {
   "cell_type": "code",
   "execution_count": 89,
   "id": "fabulous-barrier",
   "metadata": {},
   "outputs": [
    {
     "data": {
      "text/html": [
       "<div>\n",
       "<style scoped>\n",
       "    .dataframe tbody tr th:only-of-type {\n",
       "        vertical-align: middle;\n",
       "    }\n",
       "\n",
       "    .dataframe tbody tr th {\n",
       "        vertical-align: top;\n",
       "    }\n",
       "\n",
       "    .dataframe thead th {\n",
       "        text-align: right;\n",
       "    }\n",
       "</style>\n",
       "<table border=\"1\" class=\"dataframe\">\n",
       "  <thead>\n",
       "    <tr style=\"text-align: right;\">\n",
       "      <th></th>\n",
       "      <th>item_id</th>\n",
       "      <th>user_id</th>\n",
       "      <th>basket_id</th>\n",
       "      <th>day</th>\n",
       "      <th>quantity</th>\n",
       "      <th>sales_value</th>\n",
       "      <th>store_id</th>\n",
       "      <th>retail_disc</th>\n",
       "      <th>trans_time</th>\n",
       "      <th>week_no</th>\n",
       "      <th>coupon_disc</th>\n",
       "      <th>coupon_match_disc</th>\n",
       "    </tr>\n",
       "  </thead>\n",
       "  <tbody>\n",
       "    <tr>\n",
       "      <th>0</th>\n",
       "      <td>202291</td>\n",
       "      <td>8972</td>\n",
       "      <td>128195649604</td>\n",
       "      <td>1066</td>\n",
       "      <td>35911</td>\n",
       "      <td>81.59</td>\n",
       "      <td>12649</td>\n",
       "      <td>-2.37</td>\n",
       "      <td>6125</td>\n",
       "      <td>155</td>\n",
       "      <td>0.0</td>\n",
       "      <td>0.0</td>\n",
       "    </tr>\n",
       "    <tr>\n",
       "      <th>1</th>\n",
       "      <td>397896</td>\n",
       "      <td>121367</td>\n",
       "      <td>3634768517712</td>\n",
       "      <td>39016</td>\n",
       "      <td>1214994</td>\n",
       "      <td>2862.41</td>\n",
       "      <td>411755</td>\n",
       "      <td>-41.26</td>\n",
       "      <td>161701</td>\n",
       "      <td>5642</td>\n",
       "      <td>0.0</td>\n",
       "      <td>0.0</td>\n",
       "    </tr>\n",
       "    <tr>\n",
       "      <th>2</th>\n",
       "      <td>420647</td>\n",
       "      <td>24815</td>\n",
       "      <td>523073269193</td>\n",
       "      <td>6875</td>\n",
       "      <td>168661</td>\n",
       "      <td>463.81</td>\n",
       "      <td>48541</td>\n",
       "      <td>-7.82</td>\n",
       "      <td>22765</td>\n",
       "      <td>991</td>\n",
       "      <td>0.0</td>\n",
       "      <td>0.0</td>\n",
       "    </tr>\n",
       "    <tr>\n",
       "      <th>3</th>\n",
       "      <td>480014</td>\n",
       "      <td>38817</td>\n",
       "      <td>1145894973275</td>\n",
       "      <td>13301</td>\n",
       "      <td>371107</td>\n",
       "      <td>863.41</td>\n",
       "      <td>197759</td>\n",
       "      <td>-18.51</td>\n",
       "      <td>50295</td>\n",
       "      <td>1925</td>\n",
       "      <td>0.0</td>\n",
       "      <td>0.0</td>\n",
       "    </tr>\n",
       "    <tr>\n",
       "      <th>4</th>\n",
       "      <td>545926</td>\n",
       "      <td>75</td>\n",
       "      <td>33215406569</td>\n",
       "      <td>422</td>\n",
       "      <td>20134</td>\n",
       "      <td>58.37</td>\n",
       "      <td>184</td>\n",
       "      <td>-0.60</td>\n",
       "      <td>1509</td>\n",
       "      <td>61</td>\n",
       "      <td>0.0</td>\n",
       "      <td>0.0</td>\n",
       "    </tr>\n",
       "  </tbody>\n",
       "</table>\n",
       "</div>"
      ],
      "text/plain": [
       "   item_id  user_id      basket_id    day  quantity  sales_value  store_id  \\\n",
       "0   202291     8972   128195649604   1066     35911        81.59     12649   \n",
       "1   397896   121367  3634768517712  39016   1214994      2862.41    411755   \n",
       "2   420647    24815   523073269193   6875    168661       463.81     48541   \n",
       "3   480014    38817  1145894973275  13301    371107       863.41    197759   \n",
       "4   545926       75    33215406569    422     20134        58.37       184   \n",
       "\n",
       "   retail_disc  trans_time  week_no  coupon_disc  coupon_match_disc  \n",
       "0        -2.37        6125      155          0.0                0.0  \n",
       "1       -41.26      161701     5642          0.0                0.0  \n",
       "2        -7.82       22765      991          0.0                0.0  \n",
       "3       -18.51       50295     1925          0.0                0.0  \n",
       "4        -0.60        1509       61          0.0                0.0  "
      ]
     },
     "execution_count": 89,
     "metadata": {},
     "output_type": "execute_result"
    }
   ],
   "source": [
    "top_5k_df = data_train_top_5k.groupby('item_id').sum().reset_index()\n",
    "top_5k_df = top_5k_df.loc[top_5k_df['item_id'].isin(top_5000)]\n",
    "top_5k_df.head()"
   ]
  },
  {
   "cell_type": "code",
   "execution_count": 90,
   "id": "charming-texas",
   "metadata": {},
   "outputs": [
    {
     "data": {
      "text/html": [
       "<div>\n",
       "<style scoped>\n",
       "    .dataframe tbody tr th:only-of-type {\n",
       "        vertical-align: middle;\n",
       "    }\n",
       "\n",
       "    .dataframe tbody tr th {\n",
       "        vertical-align: top;\n",
       "    }\n",
       "\n",
       "    .dataframe thead th {\n",
       "        text-align: right;\n",
       "    }\n",
       "</style>\n",
       "<table border=\"1\" class=\"dataframe\">\n",
       "  <thead>\n",
       "    <tr style=\"text-align: right;\">\n",
       "      <th></th>\n",
       "      <th>user_id</th>\n",
       "      <th>boughted</th>\n",
       "      <th>random_recommendation</th>\n",
       "      <th>popularity_recommendation</th>\n",
       "    </tr>\n",
       "  </thead>\n",
       "  <tbody>\n",
       "    <tr>\n",
       "      <th>0</th>\n",
       "      <td>1</td>\n",
       "      <td>[825123, 831447, 840361, 845307, 852014, 85498...</td>\n",
       "      <td>[869195, 5568197, 1022843, 927681, 837677]</td>\n",
       "      <td>[6534178, 6533889, 1029743, 6534166, 1082185]</td>\n",
       "    </tr>\n",
       "    <tr>\n",
       "      <th>1</th>\n",
       "      <td>2</td>\n",
       "      <td>[854852, 930118, 1077555, 1098066, 5567388, 55...</td>\n",
       "      <td>[1124029, 891752, 909396, 8203834, 1013572]</td>\n",
       "      <td>[6534178, 6533889, 1029743, 6534166, 1082185]</td>\n",
       "    </tr>\n",
       "    <tr>\n",
       "      <th>2</th>\n",
       "      <td>3</td>\n",
       "      <td>[866211, 878996, 882830, 904360, 921345, 93194...</td>\n",
       "      <td>[977166, 821787, 7025496, 835694, 1050310]</td>\n",
       "      <td>[6534178, 6533889, 1029743, 6534166, 1082185]</td>\n",
       "    </tr>\n",
       "    <tr>\n",
       "      <th>3</th>\n",
       "      <td>4</td>\n",
       "      <td>[836163, 857849, 877523, 878909, 883932, 89142...</td>\n",
       "      <td>[1110244, 1016800, 7433888, 1033846, 6602729]</td>\n",
       "      <td>[6534178, 6533889, 1029743, 6534166, 1082185]</td>\n",
       "    </tr>\n",
       "    <tr>\n",
       "      <th>4</th>\n",
       "      <td>5</td>\n",
       "      <td>[938983, 5980822, 1012352, 825538, 1002499, 69...</td>\n",
       "      <td>[850139, 1110843, 999581, 1097815, 1102185]</td>\n",
       "      <td>[6534178, 6533889, 1029743, 6534166, 1082185]</td>\n",
       "    </tr>\n",
       "    <tr>\n",
       "      <th>...</th>\n",
       "      <td>...</td>\n",
       "      <td>...</td>\n",
       "      <td>...</td>\n",
       "      <td>...</td>\n",
       "    </tr>\n",
       "    <tr>\n",
       "      <th>2494</th>\n",
       "      <td>2496</td>\n",
       "      <td>[840361, 852159, 871756, 886703, 899624, 91612...</td>\n",
       "      <td>[873902, 1051305, 932761, 6464208, 824311]</td>\n",
       "      <td>[6534178, 6533889, 1029743, 6534166, 1082185]</td>\n",
       "    </tr>\n",
       "    <tr>\n",
       "      <th>2495</th>\n",
       "      <td>2497</td>\n",
       "      <td>[838220, 1037840, 1052294, 5569230, 8090537, 1...</td>\n",
       "      <td>[1046551, 871611, 1134398, 983659, 839346]</td>\n",
       "      <td>[6534178, 6533889, 1029743, 6534166, 1082185]</td>\n",
       "    </tr>\n",
       "    <tr>\n",
       "      <th>2496</th>\n",
       "      <td>2498</td>\n",
       "      <td>[824555, 835576, 901776, 904023, 911215, 91749...</td>\n",
       "      <td>[1029504, 1063364, 1117393, 937614, 911017]</td>\n",
       "      <td>[6534178, 6533889, 1029743, 6534166, 1082185]</td>\n",
       "    </tr>\n",
       "    <tr>\n",
       "      <th>2497</th>\n",
       "      <td>2499</td>\n",
       "      <td>[838186, 853197, 864143, 883665, 932949, 93383...</td>\n",
       "      <td>[947200, 880377, 1093403, 984677, 995134]</td>\n",
       "      <td>[6534178, 6533889, 1029743, 6534166, 1082185]</td>\n",
       "    </tr>\n",
       "    <tr>\n",
       "      <th>2498</th>\n",
       "      <td>2500</td>\n",
       "      <td>[856455, 903476, 834102, 837751, 880797, 89301...</td>\n",
       "      <td>[907418, 9445919, 1060408, 880377, 951821]</td>\n",
       "      <td>[6534178, 6533889, 1029743, 6534166, 1082185]</td>\n",
       "    </tr>\n",
       "  </tbody>\n",
       "</table>\n",
       "<p>2499 rows × 4 columns</p>\n",
       "</div>"
      ],
      "text/plain": [
       "      user_id                                           boughted  \\\n",
       "0           1  [825123, 831447, 840361, 845307, 852014, 85498...   \n",
       "1           2  [854852, 930118, 1077555, 1098066, 5567388, 55...   \n",
       "2           3  [866211, 878996, 882830, 904360, 921345, 93194...   \n",
       "3           4  [836163, 857849, 877523, 878909, 883932, 89142...   \n",
       "4           5  [938983, 5980822, 1012352, 825538, 1002499, 69...   \n",
       "...       ...                                                ...   \n",
       "2494     2496  [840361, 852159, 871756, 886703, 899624, 91612...   \n",
       "2495     2497  [838220, 1037840, 1052294, 5569230, 8090537, 1...   \n",
       "2496     2498  [824555, 835576, 901776, 904023, 911215, 91749...   \n",
       "2497     2499  [838186, 853197, 864143, 883665, 932949, 93383...   \n",
       "2498     2500  [856455, 903476, 834102, 837751, 880797, 89301...   \n",
       "\n",
       "                              random_recommendation  \\\n",
       "0        [869195, 5568197, 1022843, 927681, 837677]   \n",
       "1       [1124029, 891752, 909396, 8203834, 1013572]   \n",
       "2        [977166, 821787, 7025496, 835694, 1050310]   \n",
       "3     [1110244, 1016800, 7433888, 1033846, 6602729]   \n",
       "4       [850139, 1110843, 999581, 1097815, 1102185]   \n",
       "...                                             ...   \n",
       "2494     [873902, 1051305, 932761, 6464208, 824311]   \n",
       "2495     [1046551, 871611, 1134398, 983659, 839346]   \n",
       "2496    [1029504, 1063364, 1117393, 937614, 911017]   \n",
       "2497      [947200, 880377, 1093403, 984677, 995134]   \n",
       "2498     [907418, 9445919, 1060408, 880377, 951821]   \n",
       "\n",
       "                          popularity_recommendation  \n",
       "0     [6534178, 6533889, 1029743, 6534166, 1082185]  \n",
       "1     [6534178, 6533889, 1029743, 6534166, 1082185]  \n",
       "2     [6534178, 6533889, 1029743, 6534166, 1082185]  \n",
       "3     [6534178, 6533889, 1029743, 6534166, 1082185]  \n",
       "4     [6534178, 6533889, 1029743, 6534166, 1082185]  \n",
       "...                                             ...  \n",
       "2494  [6534178, 6533889, 1029743, 6534166, 1082185]  \n",
       "2495  [6534178, 6533889, 1029743, 6534166, 1082185]  \n",
       "2496  [6534178, 6533889, 1029743, 6534166, 1082185]  \n",
       "2497  [6534178, 6533889, 1029743, 6534166, 1082185]  \n",
       "2498  [6534178, 6533889, 1029743, 6534166, 1082185]  \n",
       "\n",
       "[2499 rows x 4 columns]"
      ]
     },
     "execution_count": 90,
     "metadata": {},
     "output_type": "execute_result"
    }
   ],
   "source": [
    "result_ex_3['popularity_recommendation'] = result_ex_3['user_id'].\\\n",
    "    apply(lambda x: popularity_recommendation(top_5k_df, n=5))\n",
    "result_ex_3"
   ]
  },
  {
   "cell_type": "code",
   "execution_count": 91,
   "id": "graduate-flood",
   "metadata": {},
   "outputs": [],
   "source": [
    "df_top_5k_weighted = data_train_top_5k.groupby('item_id')['quantity'].sum().reset_index()"
   ]
  },
  {
   "cell_type": "code",
   "execution_count": 93,
   "id": "offensive-manual",
   "metadata": {},
   "outputs": [],
   "source": [
    "result_ex_3['weighted_random_reccomendation'] = result_ex_3['user_id'].apply(lambda x: weighted_random_recommendation(popular_items))"
   ]
  },
  {
   "cell_type": "code",
   "execution_count": 94,
   "id": "sitting-prospect",
   "metadata": {},
   "outputs": [
    {
     "data": {
      "text/html": [
       "<div>\n",
       "<style scoped>\n",
       "    .dataframe tbody tr th:only-of-type {\n",
       "        vertical-align: middle;\n",
       "    }\n",
       "\n",
       "    .dataframe tbody tr th {\n",
       "        vertical-align: top;\n",
       "    }\n",
       "\n",
       "    .dataframe thead th {\n",
       "        text-align: right;\n",
       "    }\n",
       "</style>\n",
       "<table border=\"1\" class=\"dataframe\">\n",
       "  <thead>\n",
       "    <tr style=\"text-align: right;\">\n",
       "      <th></th>\n",
       "      <th>user_id</th>\n",
       "      <th>boughted</th>\n",
       "      <th>random_recommendation</th>\n",
       "      <th>popularity_recommendation</th>\n",
       "      <th>weighted_random_reccomendation</th>\n",
       "    </tr>\n",
       "  </thead>\n",
       "  <tbody>\n",
       "    <tr>\n",
       "      <th>0</th>\n",
       "      <td>1</td>\n",
       "      <td>[825123, 831447, 840361, 845307, 852014, 85498...</td>\n",
       "      <td>[869195, 5568197, 1022843, 927681, 837677]</td>\n",
       "      <td>[6534178, 6533889, 1029743, 6534166, 1082185]</td>\n",
       "      <td>[954997, 905809, 12171180, 1090349, 2028029]</td>\n",
       "    </tr>\n",
       "    <tr>\n",
       "      <th>1</th>\n",
       "      <td>2</td>\n",
       "      <td>[854852, 930118, 1077555, 1098066, 5567388, 55...</td>\n",
       "      <td>[1124029, 891752, 909396, 8203834, 1013572]</td>\n",
       "      <td>[6534178, 6533889, 1029743, 6534166, 1082185]</td>\n",
       "      <td>[15479309, 972168, 886941, 958819, 833025]</td>\n",
       "    </tr>\n",
       "    <tr>\n",
       "      <th>2</th>\n",
       "      <td>3</td>\n",
       "      <td>[866211, 878996, 882830, 904360, 921345, 93194...</td>\n",
       "      <td>[977166, 821787, 7025496, 835694, 1050310]</td>\n",
       "      <td>[6534178, 6533889, 1029743, 6534166, 1082185]</td>\n",
       "      <td>[4767858, 64578, 1050543, 10121996, 15597019]</td>\n",
       "    </tr>\n",
       "    <tr>\n",
       "      <th>3</th>\n",
       "      <td>4</td>\n",
       "      <td>[836163, 857849, 877523, 878909, 883932, 89142...</td>\n",
       "      <td>[1110244, 1016800, 7433888, 1033846, 6602729]</td>\n",
       "      <td>[6534178, 6533889, 1029743, 6534166, 1082185]</td>\n",
       "      <td>[1131171, 950289, 829278, 12430325, 8118618]</td>\n",
       "    </tr>\n",
       "    <tr>\n",
       "      <th>4</th>\n",
       "      <td>5</td>\n",
       "      <td>[938983, 5980822, 1012352, 825538, 1002499, 69...</td>\n",
       "      <td>[850139, 1110843, 999581, 1097815, 1102185]</td>\n",
       "      <td>[6534178, 6533889, 1029743, 6534166, 1082185]</td>\n",
       "      <td>[2584300, 1142721, 956893, 944526, 1013877]</td>\n",
       "    </tr>\n",
       "  </tbody>\n",
       "</table>\n",
       "</div>"
      ],
      "text/plain": [
       "   user_id                                           boughted  \\\n",
       "0        1  [825123, 831447, 840361, 845307, 852014, 85498...   \n",
       "1        2  [854852, 930118, 1077555, 1098066, 5567388, 55...   \n",
       "2        3  [866211, 878996, 882830, 904360, 921345, 93194...   \n",
       "3        4  [836163, 857849, 877523, 878909, 883932, 89142...   \n",
       "4        5  [938983, 5980822, 1012352, 825538, 1002499, 69...   \n",
       "\n",
       "                           random_recommendation  \\\n",
       "0     [869195, 5568197, 1022843, 927681, 837677]   \n",
       "1    [1124029, 891752, 909396, 8203834, 1013572]   \n",
       "2     [977166, 821787, 7025496, 835694, 1050310]   \n",
       "3  [1110244, 1016800, 7433888, 1033846, 6602729]   \n",
       "4    [850139, 1110843, 999581, 1097815, 1102185]   \n",
       "\n",
       "                       popularity_recommendation  \\\n",
       "0  [6534178, 6533889, 1029743, 6534166, 1082185]   \n",
       "1  [6534178, 6533889, 1029743, 6534166, 1082185]   \n",
       "2  [6534178, 6533889, 1029743, 6534166, 1082185]   \n",
       "3  [6534178, 6533889, 1029743, 6534166, 1082185]   \n",
       "4  [6534178, 6533889, 1029743, 6534166, 1082185]   \n",
       "\n",
       "                  weighted_random_reccomendation  \n",
       "0   [954997, 905809, 12171180, 1090349, 2028029]  \n",
       "1     [15479309, 972168, 886941, 958819, 833025]  \n",
       "2  [4767858, 64578, 1050543, 10121996, 15597019]  \n",
       "3   [1131171, 950289, 829278, 12430325, 8118618]  \n",
       "4    [2584300, 1142721, 956893, 944526, 1013877]  "
      ]
     },
     "execution_count": 94,
     "metadata": {},
     "output_type": "execute_result"
    }
   ],
   "source": [
    "result_ex_3.head()"
   ]
  },
  {
   "cell_type": "markdown",
   "id": "worldwide-ideal",
   "metadata": {},
   "source": [
    "#### ItemItemRecommender@k"
   ]
  },
  {
   "cell_type": "code",
   "execution_count": 96,
   "id": "ready-celtic",
   "metadata": {},
   "outputs": [
    {
     "data": {
      "application/vnd.jupyter.widget-view+json": {
       "model_id": "f3783945544b4731a7577df9b527643e",
       "version_major": 2,
       "version_minor": 0
      },
      "text/plain": [
       "  0%|          | 0/5001 [00:00<?, ?it/s]"
      ]
     },
     "metadata": {},
     "output_type": "display_data"
    },
    {
     "data": {
      "application/vnd.jupyter.widget-view+json": {
       "model_id": "7c571c10ae6343a5865557a51944b0d0",
       "version_major": 2,
       "version_minor": 0
      },
      "text/plain": [
       "  0%|          | 0/5001 [00:00<?, ?it/s]"
      ]
     },
     "metadata": {},
     "output_type": "display_data"
    },
    {
     "data": {
      "application/vnd.jupyter.widget-view+json": {
       "model_id": "13a31c660f0d450fbb0be35d00501533",
       "version_major": 2,
       "version_minor": 0
      },
      "text/plain": [
       "  0%|          | 0/5001 [00:00<?, ?it/s]"
      ]
     },
     "metadata": {},
     "output_type": "display_data"
    },
    {
     "name": "stdout",
     "output_type": "stream",
     "text": [
      "CPU times: user 31min 38s, sys: 18.6 s, total: 31min 57s\n",
      "Wall time: 32min 2s\n"
     ]
    }
   ],
   "source": [
    "%%time\n",
    "for i in range(1, 4):\n",
    "    model = ItemItemRecommender(K=i)\n",
    "    model.fit(csr_matrix(user_item_matrix).T.tocsr(), show_progress=True)\n",
    "    \n",
    "    result_ex_3[f'itemitem_{i}'] = result_ex_3['user_id'].apply(lambda x: [id_to_item_id[rec[0]] for rec in model.recommend(userid=user_id_to_id[x], \n",
    "                                                                user_items=csr_matrix(user_item_matrix).tocsr(), \n",
    "                                                                N=5, \n",
    "                                                                filter_already_liked_items=False, \n",
    "                                                                filter_items=None, \n",
    "                                                                recalculate_user=True)])"
   ]
  },
  {
   "cell_type": "code",
   "execution_count": 98,
   "id": "alleged-interface",
   "metadata": {},
   "outputs": [],
   "source": [
    "for i in range(1, 4):\n",
    "    result_ex_3[f'itemitem_{i}'] = result_ex_3.apply(lambda x: precision_at_k(x[f'itemitem_{i}'], x['boughted']), axis=1)"
   ]
  },
  {
   "cell_type": "code",
   "execution_count": 104,
   "id": "ultimate-oregon",
   "metadata": {},
   "outputs": [
    {
     "data": {
      "text/plain": [
       "itemitem_1    0.037215\n",
       "itemitem_2    0.042097\n",
       "itemitem_3    0.040496\n",
       "dtype: float64"
      ]
     },
     "execution_count": 104,
     "metadata": {},
     "output_type": "execute_result"
    }
   ],
   "source": [
    "result_ex_3[['itemitem_1', 'itemitem_2', 'itemitem_3']].sum(axis=0)/result_ex_3.shape[0]"
   ]
  },
  {
   "cell_type": "markdown",
   "id": "offshore-resource",
   "metadata": {},
   "source": [
    "### Задание 4. Улучшение детерминированных алгоритмов\n",
    "На семинаре мы рассматривали \n",
    "\n",
    "\n",
    "\n",
    "Далее $U \\equiv N_i(u) $\n",
    "\n",
    "$$r_{u,i} =  \\frac{1}{S}\\sum\\limits_{v \\in U}\\operatorname{sim}(u,v)r_{v, i}$$\n",
    "$$ S = \\sum\\limits_{v \\in U} \\operatorname{sim}(u,v)$$\n",
    "\n",
    "Предлагается улучшить эту формулу и учесть средние предпочтения всех пользователей\n",
    "\n",
    "$$r_{u,i} = \\mu + \\bar{r_u} + \\frac{1}{S}\\sum\\limits_{v \\in U}\\operatorname{sim}(u,v)(r_{v, i}-\\bar{r_{v}} - \\mu)$$\n",
    "\n",
    "Какие смысл имееют $ \\mu $ и $ \\bar{r_u}$ ?\n",
    "\n",
    "Реализуйте алгоритм, прогнозирующий рейтинги на основе данной формулы, на numpy (векторизованно!)\n",
    "\n",
    "В качестве схожести возьмите CosineSimilarity.\n",
    "\n",
    "Примените к user_item_matrix. В качестве рейтингов возьмите количество или стоимость купленного товара. \n",
    "Данный алгоритм предсказывает рейтинги. Как на основании предсказанных рейтингов предсказать факт покупки?\n",
    "\n",
    "Предложите вариант.\n",
    "Посчитайте accuracy@5 и сравните с алгоритмами, разобранными на вебинаре."
   ]
  },
  {
   "cell_type": "markdown",
   "id": "illegal-adaptation",
   "metadata": {},
   "source": [
    "#### Скорее всего $\\mu$ среднее по всем оценкам всех пользователей, а $\\bar r_u$ это средняя оценка по всем товарам "
   ]
  },
  {
   "cell_type": "code",
   "execution_count": null,
   "id": "alternative-satin",
   "metadata": {},
   "outputs": [],
   "source": [
    "def cosine_similarity(u, v):\n",
    "    \n",
    "    return (u * v).sum() / (linalg.norm(u) * linalg.norm(v))"
   ]
  },
  {
   "cell_type": "code",
   "execution_count": null,
   "id": "comparable-variable",
   "metadata": {},
   "outputs": [],
   "source": [
    "def similarity_matrix(df):\n",
    "    matrix = pd.DataFrame(data=[], columns=df.index.values)\n",
    "    \n",
    "    for index, value in df.T.items():\n",
    "        matrix[index] = df.apply(lambda x: cosine_similarity(value.values, x.values), axis=1)\n",
    "        \n",
    "    return matrix"
   ]
  },
  {
   "cell_type": "code",
   "execution_count": null,
   "id": "careful-tourist",
   "metadata": {},
   "outputs": [],
   "source": [
    "def r_u_i(sim_matrix, r_u, r_u_i, mu):\n",
    "    \n",
    "    sim = sim_u_v(u, v) \n",
    "    \n",
    "    r = mu + r_u + (sim * (r_u_i - r_u - mu)).sum()/sim.sum\n",
    "    \n",
    "    return r"
   ]
  },
  {
   "cell_type": "code",
   "execution_count": null,
   "id": "competent-metropolitan",
   "metadata": {},
   "outputs": [],
   "source": [
    "%%time\n",
    "similarity_matrix(user_item_matrix)"
   ]
  },
  {
   "cell_type": "code",
   "execution_count": null,
   "id": "plastic-format",
   "metadata": {},
   "outputs": [],
   "source": [
    "user_item_matrix.apply(lambda x: print(x), axis=0)"
   ]
  },
  {
   "cell_type": "code",
   "execution_count": null,
   "id": "matched-gregory",
   "metadata": {},
   "outputs": [],
   "source": [
    "for i in user_item_matrix.items():\n",
    "    print(i)"
   ]
  },
  {
   "cell_type": "code",
   "execution_count": null,
   "id": "separate-excellence",
   "metadata": {},
   "outputs": [],
   "source": []
  }
 ],
 "metadata": {
  "kernelspec": {
   "display_name": "Python 3",
   "language": "python",
   "name": "python3"
  },
  "language_info": {
   "codemirror_mode": {
    "name": "ipython",
    "version": 3
   },
   "file_extension": ".py",
   "mimetype": "text/x-python",
   "name": "python",
   "nbconvert_exporter": "python",
   "pygments_lexer": "ipython3",
   "version": "3.8.5"
  }
 },
 "nbformat": 4,
 "nbformat_minor": 5
}
