{
 "cells": [
  {
   "cell_type": "markdown",
   "metadata": {},
   "source": [
    "## Теоретическая часть"
   ]
  },
  {
   "cell_type": "markdown",
   "metadata": {},
   "source": [
    "\n",
    "1. Ответьте на вопросы:  \n",
    "В чем принципиальное отличие гибридных рекомендательных систем от коллаборативной филтьтрации?  \n",
    "Приведите 2-3 примера задач, в которых необходимо использовать гибридные системы  \n",
    "\n",
    "\n"
   ]
  },
  {
   "cell_type": "markdown",
   "metadata": {},
   "source": [
    "2.  Прочитайте статью про поиск на hh.ru https://habr.com/ru/company/hh/blog/347276/\n",
    "Нам интересна именно рекомендательная система, раздел \"Производительность системы\" можно пропустить\n",
    "Какие основные отличия предложенной системы от тех подходов, которые мы разбирали на семинарах? Какие проблемы могут возникнуть при выводе такой модели в продакшен?"
   ]
  },
  {
   "cell_type": "markdown",
   "metadata": {},
   "source": [
    "3. На вебинаре мы рассматривали модель LightFM (https://making.lyst.com/lightfm/docs/lightfm.html). В работе Data Scientist'а важную часть занимает research - исследование существующих архитектур и разбор научных статей, в которых они описываются. Вам предлагается изчуть оригинальную статью про LightFM https://arxiv.org/pdf/1507.08439.pdf и ответить на следующие вопросы:  \n",
    "1) Какой датасет используют авторы?  \n",
    "2) Что используют в качестве признаков?  \n",
    "3) С какими моделями сравнивают LightFM? Опишите их основные идеи кратко  "
   ]
  },
  {
   "cell_type": "markdown",
   "metadata": {},
   "source": [
    "## Практическая часть\n"
   ]
  },
  {
   "cell_type": "code",
   "execution_count": 1,
   "metadata": {},
   "outputs": [
    {
     "name": "stderr",
     "output_type": "stream",
     "text": [
      "/Users/macbook/opt/anaconda3/lib/python3.8/site-packages/lightfm/_lightfm_fast.py:9: UserWarning: LightFM was compiled without OpenMP support. Only a single thread will be used.\n",
      "  warnings.warn(\n"
     ]
    }
   ],
   "source": [
    "%matplotlib inline\n",
    "\n",
    "import lightfm\n",
    "import numpy as np\n",
    "import pandas as pd\n",
    "\n",
    "import matplotlib.pyplot as plt\n",
    "\n",
    "from lightfm import LightFM\n",
    "\n",
    "import seaborn as sns\n",
    "\n",
    "from src import metrics\n",
    "from src.utils import train_test_split_by_week, group_df_by"
   ]
  },
  {
   "cell_type": "code",
   "execution_count": 2,
   "metadata": {},
   "outputs": [],
   "source": [
    "# import data\n",
    "# utils functions like in webinar"
   ]
  },
  {
   "cell_type": "markdown",
   "metadata": {},
   "source": [
    "### Модуль SRC"
   ]
  },
  {
   "cell_type": "markdown",
   "metadata": {},
   "source": [
    "На вебинаре было рассказано про модуль src. Он приложен в материалах. Скачайте его, изучите структуру, импортируйте функции"
   ]
  },
  {
   "cell_type": "markdown",
   "metadata": {},
   "source": [
    "### Работа с признаками"
   ]
  },
  {
   "cell_type": "markdown",
   "metadata": {},
   "source": [
    "У нас есть внешние данные. Что с ними не так? Чего не хватает?  \n",
    "\n",
    "Проведите исследование внешних данных и составьте какие-нибудь содержательные выводы.  \n",
    "Формально Вам нужно построить 3+ графиков (scatter plot, hist или что-то иное) и описать, что мы видим (например, товары такой-то категории болле часто покупаются в следующие дни недели или пользователи с большим достатком предпочитают такие-то товары).  \n",
    "Исследуйте те закономерности, которые Вам интересно, чем менее тривиальный вывод получается, тем лучше! "
   ]
  },
  {
   "cell_type": "code",
   "execution_count": 3,
   "metadata": {},
   "outputs": [],
   "source": [
    "PATH_TO_DATA = '../урок 2/retail_train.csv'\n",
    "PATH_TO_USERS_FEATURES_DATA = '../урок 2/hh_demographic.csv'\n",
    "PATH_TO_ITEMS_FEATURES_DATA = '../урок 2/product.csv'\n",
    "\n",
    "data = pd.read_csv(PATH_TO_DATA)\n",
    "\n",
    "users_features = pd.read_csv(PATH_TO_USERS_FEATURES_DATA)\n",
    "items_features = pd.read_csv(PATH_TO_ITEMS_FEATURES_DATA)\n",
    "\n",
    "users_features.columns = [column.lower() for column in users_features.columns]\n",
    "items_features.columns = [column.lower() for column in items_features.columns]\n",
    "\n",
    "users_features.rename(columns={'household_key': 'user_id'}, inplace=True)\n",
    "items_features.rename(columns={'product_id': 'item_id'}, inplace=True)"
   ]
  },
  {
   "cell_type": "code",
   "execution_count": 4,
   "metadata": {},
   "outputs": [
    {
     "data": {
      "text/html": [
       "<div>\n",
       "<style scoped>\n",
       "    .dataframe tbody tr th:only-of-type {\n",
       "        vertical-align: middle;\n",
       "    }\n",
       "\n",
       "    .dataframe tbody tr th {\n",
       "        vertical-align: top;\n",
       "    }\n",
       "\n",
       "    .dataframe thead th {\n",
       "        text-align: right;\n",
       "    }\n",
       "</style>\n",
       "<table border=\"1\" class=\"dataframe\">\n",
       "  <thead>\n",
       "    <tr style=\"text-align: right;\">\n",
       "      <th></th>\n",
       "      <th>age_desc</th>\n",
       "      <th>marital_status_code</th>\n",
       "      <th>income_desc</th>\n",
       "      <th>homeowner_desc</th>\n",
       "      <th>hh_comp_desc</th>\n",
       "      <th>household_size_desc</th>\n",
       "      <th>kid_category_desc</th>\n",
       "      <th>user_id</th>\n",
       "    </tr>\n",
       "  </thead>\n",
       "  <tbody>\n",
       "    <tr>\n",
       "      <th>0</th>\n",
       "      <td>65+</td>\n",
       "      <td>A</td>\n",
       "      <td>35-49K</td>\n",
       "      <td>Homeowner</td>\n",
       "      <td>2 Adults No Kids</td>\n",
       "      <td>2</td>\n",
       "      <td>None/Unknown</td>\n",
       "      <td>1</td>\n",
       "    </tr>\n",
       "    <tr>\n",
       "      <th>1</th>\n",
       "      <td>45-54</td>\n",
       "      <td>A</td>\n",
       "      <td>50-74K</td>\n",
       "      <td>Homeowner</td>\n",
       "      <td>2 Adults No Kids</td>\n",
       "      <td>2</td>\n",
       "      <td>None/Unknown</td>\n",
       "      <td>7</td>\n",
       "    </tr>\n",
       "  </tbody>\n",
       "</table>\n",
       "</div>"
      ],
      "text/plain": [
       "  age_desc marital_status_code income_desc homeowner_desc      hh_comp_desc  \\\n",
       "0      65+                   A      35-49K      Homeowner  2 Adults No Kids   \n",
       "1    45-54                   A      50-74K      Homeowner  2 Adults No Kids   \n",
       "\n",
       "  household_size_desc kid_category_desc  user_id  \n",
       "0                   2      None/Unknown        1  \n",
       "1                   2      None/Unknown        7  "
      ]
     },
     "execution_count": 4,
     "metadata": {},
     "output_type": "execute_result"
    }
   ],
   "source": [
    "users_features.head(2)"
   ]
  },
  {
   "cell_type": "code",
   "execution_count": 5,
   "metadata": {},
   "outputs": [
    {
     "data": {
      "text/html": [
       "<div>\n",
       "<style scoped>\n",
       "    .dataframe tbody tr th:only-of-type {\n",
       "        vertical-align: middle;\n",
       "    }\n",
       "\n",
       "    .dataframe tbody tr th {\n",
       "        vertical-align: top;\n",
       "    }\n",
       "\n",
       "    .dataframe thead th {\n",
       "        text-align: right;\n",
       "    }\n",
       "</style>\n",
       "<table border=\"1\" class=\"dataframe\">\n",
       "  <thead>\n",
       "    <tr style=\"text-align: right;\">\n",
       "      <th></th>\n",
       "      <th>item_id</th>\n",
       "      <th>manufacturer</th>\n",
       "      <th>department</th>\n",
       "      <th>brand</th>\n",
       "      <th>commodity_desc</th>\n",
       "      <th>sub_commodity_desc</th>\n",
       "      <th>curr_size_of_product</th>\n",
       "    </tr>\n",
       "  </thead>\n",
       "  <tbody>\n",
       "    <tr>\n",
       "      <th>0</th>\n",
       "      <td>25671</td>\n",
       "      <td>2</td>\n",
       "      <td>GROCERY</td>\n",
       "      <td>National</td>\n",
       "      <td>FRZN ICE</td>\n",
       "      <td>ICE - CRUSHED/CUBED</td>\n",
       "      <td>22 LB</td>\n",
       "    </tr>\n",
       "    <tr>\n",
       "      <th>1</th>\n",
       "      <td>26081</td>\n",
       "      <td>2</td>\n",
       "      <td>MISC. TRANS.</td>\n",
       "      <td>National</td>\n",
       "      <td>NO COMMODITY DESCRIPTION</td>\n",
       "      <td>NO SUBCOMMODITY DESCRIPTION</td>\n",
       "      <td></td>\n",
       "    </tr>\n",
       "  </tbody>\n",
       "</table>\n",
       "</div>"
      ],
      "text/plain": [
       "   item_id  manufacturer    department     brand            commodity_desc  \\\n",
       "0    25671             2       GROCERY  National                  FRZN ICE   \n",
       "1    26081             2  MISC. TRANS.  National  NO COMMODITY DESCRIPTION   \n",
       "\n",
       "            sub_commodity_desc curr_size_of_product  \n",
       "0          ICE - CRUSHED/CUBED                22 LB  \n",
       "1  NO SUBCOMMODITY DESCRIPTION                       "
      ]
     },
     "execution_count": 5,
     "metadata": {},
     "output_type": "execute_result"
    }
   ],
   "source": [
    "items_features.head(2)"
   ]
  },
  {
   "cell_type": "code",
   "execution_count": 6,
   "metadata": {},
   "outputs": [
    {
     "name": "stdout",
     "output_type": "stream",
     "text": [
      "<class 'pandas.core.frame.DataFrame'>\n",
      "RangeIndex: 801 entries, 0 to 800\n",
      "Data columns (total 8 columns):\n",
      " #   Column               Non-Null Count  Dtype \n",
      "---  ------               --------------  ----- \n",
      " 0   age_desc             801 non-null    object\n",
      " 1   marital_status_code  801 non-null    object\n",
      " 2   income_desc          801 non-null    object\n",
      " 3   homeowner_desc       801 non-null    object\n",
      " 4   hh_comp_desc         801 non-null    object\n",
      " 5   household_size_desc  801 non-null    object\n",
      " 6   kid_category_desc    801 non-null    object\n",
      " 7   user_id              801 non-null    int64 \n",
      "dtypes: int64(1), object(7)\n",
      "memory usage: 50.2+ KB\n"
     ]
    }
   ],
   "source": [
    "users_features.info()"
   ]
  },
  {
   "cell_type": "code",
   "execution_count": 7,
   "metadata": {},
   "outputs": [],
   "source": [
    "def print_uniq_feat(df):\n",
    "    for column in df.select_dtypes(include='object').columns.values:\n",
    "\n",
    "        uniques = df[column].unique()\n",
    "\n",
    "        print('\\n')\n",
    "        print(f'Название столбца: {column}\\n')\n",
    "        print(uniques)\n",
    "        print('\\n' + '*' * 50)"
   ]
  },
  {
   "cell_type": "code",
   "execution_count": 8,
   "metadata": {},
   "outputs": [],
   "source": [
    "def cat_features_to_num_table(data, cat_features_name):\n",
    "    \n",
    "    cat_to_num = {} \n",
    "    num_to_cat = {}\n",
    "    \n",
    "    for feature in cat_features_name:\n",
    "        uniq_values = data[feature].unique().tolist()\n",
    "        num_values = [i for i in range(len(uniq_values))]\n",
    "        \n",
    "        cat_to_num_dict = dict(zip(uniq_values, num_values))\n",
    "        num_to_cat_dict = dict(zip(num_values, uniq_values))\n",
    "        \n",
    "        cat_to_num[feature] = cat_to_num_dict\n",
    "        num_to_cat[feature] = num_to_cat_dict\n",
    "        \n",
    "    return cat_to_num, num_to_cat"
   ]
  },
  {
   "cell_type": "code",
   "execution_count": 10,
   "metadata": {},
   "outputs": [
    {
     "name": "stdout",
     "output_type": "stream",
     "text": [
      "\n",
      "\n",
      "Название столбца: age_desc\n",
      "\n",
      "['65+' '45-54' '25-34' '35-44' '19-24' '55-64']\n",
      "\n",
      "**************************************************\n",
      "\n",
      "\n",
      "Название столбца: marital_status_code\n",
      "\n",
      "['A' 'U' 'B']\n",
      "\n",
      "**************************************************\n",
      "\n",
      "\n",
      "Название столбца: income_desc\n",
      "\n",
      "['35-49K' '50-74K' '25-34K' '75-99K' 'Under 15K' '100-124K' '15-24K'\n",
      " '125-149K' '150-174K' '250K+' '175-199K' '200-249K']\n",
      "\n",
      "**************************************************\n",
      "\n",
      "\n",
      "Название столбца: homeowner_desc\n",
      "\n",
      "['Homeowner' 'Unknown' 'Renter' 'Probable Renter' 'Probable Owner']\n",
      "\n",
      "**************************************************\n",
      "\n",
      "\n",
      "Название столбца: hh_comp_desc\n",
      "\n",
      "['2 Adults No Kids' '2 Adults Kids' 'Single Female' 'Unknown'\n",
      " 'Single Male' '1 Adult Kids']\n",
      "\n",
      "**************************************************\n",
      "\n",
      "\n",
      "Название столбца: household_size_desc\n",
      "\n",
      "['2' '3' '4' '1' '5+']\n",
      "\n",
      "**************************************************\n",
      "\n",
      "\n",
      "Название столбца: kid_category_desc\n",
      "\n",
      "['None/Unknown' '1' '2' '3+']\n",
      "\n",
      "**************************************************\n"
     ]
    }
   ],
   "source": [
    "print_user_uniq_feat = print_uniq_feat(users_features)"
   ]
  },
  {
   "cell_type": "code",
   "execution_count": 11,
   "metadata": {},
   "outputs": [
    {
     "name": "stdout",
     "output_type": "stream",
     "text": [
      "\n",
      "\n",
      "Название столбца: department\n",
      "\n",
      "['GROCERY' 'MISC. TRANS.' 'PASTRY' 'DRUG GM' 'MEAT-PCKGD' 'SEAFOOD-PCKGD'\n",
      " 'PRODUCE' 'NUTRITION' 'DELI' 'COSMETICS' 'MEAT' 'FLORAL'\n",
      " 'TRAVEL & LEISUR' 'SEAFOOD' 'MISC SALES TRAN' 'SALAD BAR' 'KIOSK-GAS'\n",
      " 'ELECT &PLUMBING' 'GRO BAKERY' 'GM MERCH EXP' 'FROZEN GROCERY'\n",
      " 'COUP/STR & MFG' 'SPIRITS' 'GARDEN CENTER' 'TOYS' 'CHARITABLE CONT'\n",
      " 'RESTAURANT' 'RX' 'PROD-WHS SALES' 'MEAT-WHSE' 'DAIRY DELI' 'CHEF SHOPPE'\n",
      " 'HBC' 'DELI/SNACK BAR' 'PORK' 'AUTOMOTIVE' 'VIDEO RENTAL' ' '\n",
      " 'CNTRL/STORE SUP' 'HOUSEWARES' 'POSTAL CENTER' 'PHOTO' 'VIDEO'\n",
      " 'PHARMACY SUPPLY']\n",
      "\n",
      "**************************************************\n",
      "\n",
      "\n",
      "Название столбца: brand\n",
      "\n",
      "['National' 'Private']\n",
      "\n",
      "**************************************************\n",
      "\n",
      "\n",
      "Название столбца: commodity_desc\n",
      "\n",
      "['FRZN ICE' 'NO COMMODITY DESCRIPTION' 'BREAD' 'FRUIT - SHELF STABLE'\n",
      " 'COOKIES/CONES' 'SPICES & EXTRACTS' 'VITAMINS' 'BREAKFAST SWEETS'\n",
      " 'PNT BTR/JELLY/JAMS' 'ICE CREAM/MILK/SHERBTS' 'MAGAZINE' 'AIR CARE'\n",
      " 'CHEESE' 'SHORTENING/OIL' 'COFFEE' 'DIETARY AID PRODUCTS'\n",
      " 'PAPER HOUSEWARES' 'BAKED BREAD/BUNS/ROLLS' 'VEGETABLES - SHELF STABLE'\n",
      " 'HISPANIC' 'DINNER MXS:DRY' 'CONDIMENTS/SAUCES' 'FRZN VEGETABLE/VEG DSH'\n",
      " 'BAKING NEEDS' 'DINNER SAUSAGE' 'FRZN FRUITS' 'SEAFOOD - FROZEN'\n",
      " 'HOUSEHOLD CLEANG NEEDS' 'FD WRAPS/BAGS/TRSH BG' 'DRY MIX DESSERTS'\n",
      " 'PICKLE/RELISH/PKLD VEG' 'CAKES' 'BAKING MIXES' 'POTATOES'\n",
      " 'FLUID MILK PRODUCTS' 'SOUP' 'BAKED SWEET GOODS' 'COOKIES'\n",
      " 'DRY BN/VEG/POTATO/RICE' 'FACIAL TISS/DNR NAPKIN' 'FROZEN PIZZA' 'EGGS'\n",
      " 'REFRGRATD DOUGH PRODUCTS' 'HOT CEREAL' 'COLD CEREAL' 'SUGARS/SWEETNERS'\n",
      " 'SEAFOOD - SHELF STABLE' 'POPCORN' 'CANNED JUICES'\n",
      " 'STATIONERY & SCHOOL SUPPLIES' 'COLD AND FLU' 'BABY HBC' 'BAG SNACKS'\n",
      " 'BEANS - CANNED GLASS & MW' 'FROZEN MEAT' 'SOAP - LIQUID & BAR' 'ROLLS'\n",
      " 'NON-DAIRY BEVERAGES' 'KITCHEN GADGETS' 'CRACKERS/MISC BKD FD'\n",
      " 'CONVENIENT BRKFST/WHLSM SNACKS' 'CHIPS&SNACKS' 'CANDY - PACKAGED'\n",
      " 'SOFT DRINKS' 'HAIR CARE PRODUCTS' 'CANDY - CHECKLANE' 'BUTTER'\n",
      " 'FRZN MEAT/MEAT DINNERS' 'SHAVING CARE PRODUCTS'\n",
      " 'WATER - CARBONATED/FLVRD DRINK' 'FRZN BREAKFAST FOODS'\n",
      " 'MILK BY-PRODUCTS' 'FIRST AID PRODUCTS' 'NEWSPAPER' 'SALADS/DIPS'\n",
      " 'INSECTICIDES' 'ORGANICS FRUIT & VEGETABLES' 'ELECTRICAL SUPPPLIES'\n",
      " 'LAUNDRY DETERGENTS' 'JUICE' 'ISOTONIC DRINKS' 'FRZN JCE CONC/DRNKS'\n",
      " 'LAUNDRY ADDITIVES' 'IRONING AND CHEMICALS' 'TEAS' 'DRY NOODLES/PASTA'\n",
      " 'PASTA SAUCE' 'PROCESSED' 'MAKEUP AND TREATMENT' 'ANALGESICS'\n",
      " 'HOSIERY/SOCKS' 'CAT FOOD' 'BATTERIES' 'MOLASSES/SYRUP/PANCAKE MIXS'\n",
      " 'BOOKSTORE' 'BATH TISSUES' 'FROZEN PIE/DESSERTS' 'MEAT - SHELF STABLE'\n",
      " 'MEAT - MISC' 'SPRING/SUMMER SEASONAL' 'LUNCHMEAT'\n",
      " 'BREAKFAST SAUSAGE/SANDWICHES' 'DRIED FRUIT' 'CHARCOAL AND LIGHTER FLUID'\n",
      " 'SALD DRSNG/SNDWCH SPRD' 'LIQUOR' 'FROZEN BREAD/DOUGH'\n",
      " 'HAND/BODY/FACIAL PRODUCTS' 'SNACK NUTS' 'ORAL HYGIENE PRODUCTS'\n",
      " 'BEERS/ALES' 'INFANT FORMULA' 'REFRGRATD JUICES/DRNKS' 'YOGURT'\n",
      " 'DEODORANTS' 'BACON' 'DOG FOODS' 'FRZN NOVELTIES/WTR ICE'\n",
      " 'FEMININE HYGIENE' 'COFFEE FILTERS' 'BROOMS AND MOPS'\n",
      " 'GREETING CARDS/WRAP/PARTY SPLY' 'WAREHOUSE SNACKS' 'DRY SAUCES/GRAVY'\n",
      " 'MARGARINES' 'PWDR/CRYSTL DRNK MX' 'OLIVES' 'MISC. DAIRY' 'COCOA MIXES'\n",
      " 'SALAD MIX' 'HARDWARE SUPPLIES' 'HOT DOGS' 'FLOUR & MEALS'\n",
      " 'SYRUPS/TOPPINGS' 'ANTACIDS' 'BLEACH' 'PAPER TOWELS' 'STONE FRUIT'\n",
      " 'MELONS' 'BERRIES' 'CHICKEN' 'SANDWICHES' 'GRAPES' 'CARROTS' 'APPLES'\n",
      " 'HERBS' 'CIGARETTES' 'HEAT/SERVE' 'BABY FOODS' 'SQUASH'\n",
      " 'VEGETABLES - ALL OTHERS' 'DELI MEATS' 'BEEF' 'FRZN POTATOES' 'CORN'\n",
      " 'CHEESES' 'MISCELLANEOUS' 'CITRUS' 'FROZEN' 'DISHWASH DETERGENTS'\n",
      " 'SWEET GOODS & SNACKS' 'NUTS' 'TROPICAL FRUIT' 'CHICKEN/POULTRY'\n",
      " 'BROCCOLI/CAULIFLOWER' 'SINUS AND ALLERGY' 'MUSHROOMS' 'CANNED MILK'\n",
      " 'ONIONS' 'INFANT CARE PRODUCTS' 'TURKEY' 'WATER' 'CAT LITTER'\n",
      " 'SEAFOOD-FRESH' 'PIES' 'TOBACCO OTHER' 'SEAFOOD - MISC'\n",
      " 'FILM AND CAMERA PRODUCTS' 'PEPPERS-ALL' 'PLASTIC HOUSEWARES'\n",
      " 'FOOT CARE PRODUCTS' 'SHOE CARE' 'FIREWORKS' 'FLORAL-FLOWERING PLANTS'\n",
      " 'SUNTAN' 'CEREAL/BREAKFAST' 'CANDLES/ACCESSORIES' 'COOKWARE & BAKEWARE'\n",
      " 'DISPOSIBLE FOILWARE' 'FLORAL-FRESH CUT' 'VEGETABLES SALAD'\n",
      " 'AUDIO/VIDEO PRODUCTS' 'REFRIGERATED' 'FROZEN CHICKEN' 'SMOKED MEATS'\n",
      " 'VALUE ADDED VEGETABLES' 'EYE AND EAR CARE PRODUCTS'\n",
      " 'SNKS/CKYS/CRKR/CNDY' 'FLORAL BALLOONS' 'AUTOMOTIVE PRODUCTS' 'LAXATIVES'\n",
      " 'DOMESTIC WINE' 'MISC WINE' 'OVERNIGHT PHOTOFINISHING' 'TOMATOES' 'PEARS'\n",
      " 'FITNESS&DIET' 'BATH' 'COUPON/MISC ITEMS' 'PORK'\n",
      " 'PERSONAL CARE APPLIANCES' 'CONDIMENTS' 'BEVERAGE' 'SNACKS'\n",
      " 'VALUE ADDED FRUIT' 'SALAD BAR' 'HAIR CARE ACCESSORIES'\n",
      " 'DIAPERS & DISPOSABLES' 'SMOKING CESSATIONS' 'FUEL' 'PREPARED FOOD'\n",
      " 'PET CARE SUPPLIES' 'COFFEE SHOP' 'COUPON' '(CORP USE ONLY)' 'ROSES'\n",
      " 'PROD SUPPLIES' 'J-HOOKS' 'RICE CAKES' 'LAMB' 'IMPORTED WINE' 'UNKNOWN'\n",
      " 'DELI SPECIALTIES (RETAIL PK)' 'PREPARED/PKGD FOODS' 'FAMILY PLANNING'\n",
      " 'EASTER' 'CIGARS' 'PACKAGED NATURAL SNACKS' 'FLORAL-FOLIAGE PLANTS'\n",
      " 'MISCELLANEOUS CROUTONS' 'COUPONS/STORE & MFG' 'APPAREL'\n",
      " 'PREPAID WIRELESS&ACCESSORIES' 'HOME FREEZING & CANNING SUPPLY'\n",
      " 'IN-STORE PHOTOFINISHING' 'ADULT INCONTINENCE' 'PARTY TRAYS'\n",
      " 'DOMESTIC GOODS' 'FALL AND WINTER SEASONAL' 'TOYS AND GAMES'\n",
      " 'LAWN AND GARDEN SHOP' 'GLASSWARE & DINNERWARE' 'BAKING'\n",
      " 'RESTRICTED DIET' 'FRAGRANCES' 'HALLOWEEN' 'BAKERY PARTY TRAYS' 'SEWING'\n",
      " 'NATURAL HBC' 'BIRD SEED' 'GARDEN CENTER' 'COSMETIC ACCESSORIES'\n",
      " 'ETHNIC PERSONAL CARE' 'GLASSES/VISION AIDS' 'FLORAL- HARD GOODS'\n",
      " 'BABYFOOD' 'TOYS' 'CHRISTMAS  SEASONAL' 'COFFEE SHOP SWEET GOODS&RETAIL'\n",
      " 'DRY TEA/COFFEE/COCO MIX' 'VEAL' 'CONTINUITIES'\n",
      " 'PORTABLE ELECTRIC APPLIANCES' 'VALENTINE' 'FROZEN - BOXED(GROCERY)'\n",
      " 'SERVICE BEVERAGE' 'GIFT & FRUIT BASKETS' 'SUSHI' 'PROPANE'\n",
      " 'FRZN SEAFOOD' 'HOME FURNISHINGS' 'PHARMACY' 'NATURAL VITAMINS'\n",
      " 'DELI SUPPLIES' 'WATCHES/CALCULATORS/LOBBY' 'SEASONAL'\n",
      " 'BOUQUET (NON ROSE)' 'HOME HEALTH CARE' 'RW FRESH PROCESSED MEAT'\n",
      " 'EXOTIC GAME/FOWL' 'NDAIRY/TEAS/JUICE/SOD' 'TICKETS' 'MEAT SUPPLIES'\n",
      " 'NEW AGE' 'FLORAL-ACCESSORIES' 'EASTER LILY' 'MISCELLANEOUS HBC'\n",
      " 'BULK FOODS' 'NON EDIBLE PRODUCTS' 'QUICK SERVICE' 'BOTTLE DEPOSITS' ' '\n",
      " 'DOLLAR VALUE PRODUCTS' 'MISCELLANEOUS(CORP USE ONLY)'\n",
      " 'SPORTS MEMORABLILIA' 'LONG DISTANCE CALLING CARDS' 'PKG.SEAFOOD MISC'\n",
      " 'FROZEN PACKAGE MEAT']\n",
      "\n",
      "**************************************************\n",
      "\n",
      "\n",
      "Название столбца: sub_commodity_desc\n",
      "\n",
      "['ICE - CRUSHED/CUBED' 'NO SUBCOMMODITY DESCRIPTION'\n",
      " 'BREAD:ITALIAN/FRENCH' ... 'SEMI MOIST CAT FOOD: BOX' 'BERRIES OTHER'\n",
      " 'ROSES OTHER']\n",
      "\n",
      "**************************************************\n",
      "\n",
      "\n",
      "Название столбца: curr_size_of_product\n",
      "\n",
      "['22 LB' ' ' '50 OZ' ... '6.3 IN' '35 LD' '2 LTR PET']\n",
      "\n",
      "**************************************************\n"
     ]
    }
   ],
   "source": [
    "print_items_uniq_feat = print_uniq_feat(items_features)"
   ]
  },
  {
   "cell_type": "code",
   "execution_count": 12,
   "metadata": {},
   "outputs": [
    {
     "data": {
      "text/html": [
       "<div>\n",
       "<style scoped>\n",
       "    .dataframe tbody tr th:only-of-type {\n",
       "        vertical-align: middle;\n",
       "    }\n",
       "\n",
       "    .dataframe tbody tr th {\n",
       "        vertical-align: top;\n",
       "    }\n",
       "\n",
       "    .dataframe thead th {\n",
       "        text-align: right;\n",
       "    }\n",
       "</style>\n",
       "<table border=\"1\" class=\"dataframe\">\n",
       "  <thead>\n",
       "    <tr style=\"text-align: right;\">\n",
       "      <th></th>\n",
       "      <th>user_id</th>\n",
       "      <th>basket_id</th>\n",
       "      <th>day</th>\n",
       "      <th>item_id</th>\n",
       "      <th>quantity</th>\n",
       "      <th>sales_value</th>\n",
       "      <th>store_id</th>\n",
       "      <th>retail_disc</th>\n",
       "      <th>trans_time</th>\n",
       "      <th>week_no</th>\n",
       "      <th>coupon_disc</th>\n",
       "      <th>coupon_match_disc</th>\n",
       "    </tr>\n",
       "  </thead>\n",
       "  <tbody>\n",
       "    <tr>\n",
       "      <th>0</th>\n",
       "      <td>2375</td>\n",
       "      <td>26984851472</td>\n",
       "      <td>1</td>\n",
       "      <td>1004906</td>\n",
       "      <td>1</td>\n",
       "      <td>1.39</td>\n",
       "      <td>364</td>\n",
       "      <td>-0.6</td>\n",
       "      <td>1631</td>\n",
       "      <td>1</td>\n",
       "      <td>0.0</td>\n",
       "      <td>0.0</td>\n",
       "    </tr>\n",
       "    <tr>\n",
       "      <th>1</th>\n",
       "      <td>2375</td>\n",
       "      <td>26984851472</td>\n",
       "      <td>1</td>\n",
       "      <td>1033142</td>\n",
       "      <td>1</td>\n",
       "      <td>0.82</td>\n",
       "      <td>364</td>\n",
       "      <td>0.0</td>\n",
       "      <td>1631</td>\n",
       "      <td>1</td>\n",
       "      <td>0.0</td>\n",
       "      <td>0.0</td>\n",
       "    </tr>\n",
       "  </tbody>\n",
       "</table>\n",
       "</div>"
      ],
      "text/plain": [
       "   user_id    basket_id  day  item_id  quantity  sales_value  store_id  \\\n",
       "0     2375  26984851472    1  1004906         1         1.39       364   \n",
       "1     2375  26984851472    1  1033142         1         0.82       364   \n",
       "\n",
       "   retail_disc  trans_time  week_no  coupon_disc  coupon_match_disc  \n",
       "0         -0.6        1631        1          0.0                0.0  \n",
       "1          0.0        1631        1          0.0                0.0  "
      ]
     },
     "execution_count": 12,
     "metadata": {},
     "output_type": "execute_result"
    }
   ],
   "source": [
    "data.head(2)"
   ]
  },
  {
   "cell_type": "code",
   "execution_count": 13,
   "metadata": {},
   "outputs": [],
   "source": [
    "data_columns = data.columns.values.tolist()\n",
    "users_features_columns = users_features.columns.values.tolist()\n",
    "items_features_columns = items_features.columns.values.tolist()"
   ]
  },
  {
   "cell_type": "code",
   "execution_count": 14,
   "metadata": {},
   "outputs": [
    {
     "data": {
      "text/html": [
       "<div>\n",
       "<style scoped>\n",
       "    .dataframe tbody tr th:only-of-type {\n",
       "        vertical-align: middle;\n",
       "    }\n",
       "\n",
       "    .dataframe tbody tr th {\n",
       "        vertical-align: top;\n",
       "    }\n",
       "\n",
       "    .dataframe thead th {\n",
       "        text-align: right;\n",
       "    }\n",
       "</style>\n",
       "<table border=\"1\" class=\"dataframe\">\n",
       "  <thead>\n",
       "    <tr style=\"text-align: right;\">\n",
       "      <th></th>\n",
       "      <th>user_id</th>\n",
       "      <th>basket_id</th>\n",
       "      <th>day</th>\n",
       "      <th>item_id</th>\n",
       "      <th>quantity</th>\n",
       "      <th>sales_value</th>\n",
       "      <th>store_id</th>\n",
       "      <th>retail_disc</th>\n",
       "      <th>trans_time</th>\n",
       "      <th>week_no</th>\n",
       "      <th>...</th>\n",
       "      <th>commodity_desc</th>\n",
       "      <th>sub_commodity_desc</th>\n",
       "      <th>curr_size_of_product</th>\n",
       "      <th>age_desc</th>\n",
       "      <th>marital_status_code</th>\n",
       "      <th>income_desc</th>\n",
       "      <th>homeowner_desc</th>\n",
       "      <th>hh_comp_desc</th>\n",
       "      <th>household_size_desc</th>\n",
       "      <th>kid_category_desc</th>\n",
       "    </tr>\n",
       "  </thead>\n",
       "  <tbody>\n",
       "    <tr>\n",
       "      <th>0</th>\n",
       "      <td>2375</td>\n",
       "      <td>26984851472</td>\n",
       "      <td>1</td>\n",
       "      <td>1004906</td>\n",
       "      <td>1</td>\n",
       "      <td>1.39</td>\n",
       "      <td>364</td>\n",
       "      <td>-0.6</td>\n",
       "      <td>1631</td>\n",
       "      <td>1</td>\n",
       "      <td>...</td>\n",
       "      <td>POTATOES</td>\n",
       "      <td>POTATOES RUSSET (BULK&amp;BAG)</td>\n",
       "      <td>5 LB</td>\n",
       "      <td>NaN</td>\n",
       "      <td>NaN</td>\n",
       "      <td>NaN</td>\n",
       "      <td>NaN</td>\n",
       "      <td>NaN</td>\n",
       "      <td>NaN</td>\n",
       "      <td>NaN</td>\n",
       "    </tr>\n",
       "    <tr>\n",
       "      <th>1</th>\n",
       "      <td>2375</td>\n",
       "      <td>26984851472</td>\n",
       "      <td>1</td>\n",
       "      <td>1033142</td>\n",
       "      <td>1</td>\n",
       "      <td>0.82</td>\n",
       "      <td>364</td>\n",
       "      <td>0.0</td>\n",
       "      <td>1631</td>\n",
       "      <td>1</td>\n",
       "      <td>...</td>\n",
       "      <td>ONIONS</td>\n",
       "      <td>ONIONS SWEET (BULK&amp;BAG)</td>\n",
       "      <td>40 LB</td>\n",
       "      <td>NaN</td>\n",
       "      <td>NaN</td>\n",
       "      <td>NaN</td>\n",
       "      <td>NaN</td>\n",
       "      <td>NaN</td>\n",
       "      <td>NaN</td>\n",
       "      <td>NaN</td>\n",
       "    </tr>\n",
       "  </tbody>\n",
       "</table>\n",
       "<p>2 rows × 25 columns</p>\n",
       "</div>"
      ],
      "text/plain": [
       "   user_id    basket_id  day  item_id  quantity  sales_value  store_id  \\\n",
       "0     2375  26984851472    1  1004906         1         1.39       364   \n",
       "1     2375  26984851472    1  1033142         1         0.82       364   \n",
       "\n",
       "   retail_disc  trans_time  week_no  ...  commodity_desc  \\\n",
       "0         -0.6        1631        1  ...        POTATOES   \n",
       "1          0.0        1631        1  ...          ONIONS   \n",
       "\n",
       "           sub_commodity_desc  curr_size_of_product age_desc  \\\n",
       "0  POTATOES RUSSET (BULK&BAG)                  5 LB      NaN   \n",
       "1     ONIONS SWEET (BULK&BAG)                 40 LB      NaN   \n",
       "\n",
       "  marital_status_code income_desc homeowner_desc hh_comp_desc  \\\n",
       "0                 NaN         NaN            NaN          NaN   \n",
       "1                 NaN         NaN            NaN          NaN   \n",
       "\n",
       "  household_size_desc kid_category_desc  \n",
       "0                 NaN               NaN  \n",
       "1                 NaN               NaN  \n",
       "\n",
       "[2 rows x 25 columns]"
      ]
     },
     "execution_count": 14,
     "metadata": {},
     "output_type": "execute_result"
    }
   ],
   "source": [
    "data = data.merge(items_features, how='left', on='item_id')\n",
    "data = data.merge(users_features, how='left', on='user_id')\n",
    "data.head(2)"
   ]
  },
  {
   "cell_type": "code",
   "execution_count": 15,
   "metadata": {},
   "outputs": [],
   "source": [
    "data_train, data_test = train_test_split_by_week(data, 'week_no', 3)"
   ]
  },
  {
   "cell_type": "code",
   "execution_count": null,
   "metadata": {},
   "outputs": [],
   "source": [
    "def catplots(data, feats_list)"
   ]
  },
  {
   "cell_type": "code",
   "execution_count": 33,
   "metadata": {},
   "outputs": [
    {
     "data": {
      "text/plain": [
       "<seaborn.axisgrid.FacetGrid at 0x7f85bbf960d0>"
      ]
     },
     "execution_count": 33,
     "metadata": {},
     "output_type": "execute_result"
    },
    {
     "data": {
      "image/png": "[encoded data removed]",
      "text/plain": [
       "<Figure size 720x720 with 1 Axes>"
      ]
     },
     "metadata": {
      "needs_background": "light"
     },
     "output_type": "display_data"
    }
   ],
   "source": [
    "sns.catplot(data=data, x='income_desc', kind='count', height=10)"
   ]
  },
  {
   "cell_type": "code",
   "execution_count": 35,
   "metadata": {},
   "outputs": [
    {
     "data": {
      "text/plain": [
       "<seaborn.axisgrid.FacetGrid at 0x7f85bbf1b220>"
      ]
     },
     "execution_count": 35,
     "metadata": {},
     "output_type": "execute_result"
    },
    {
     "data": {
      "image/png": "[encoded data removed]",
      "text/plain": [
       "<Figure size 360x360 with 1 Axes>"
      ]
     },
     "metadata": {
      "needs_background": "light"
     },
     "output_type": "display_data"
    }
   ],
   "source": [
    "sns.catplot(data=data, x='age_desc', kind='count', height=5)"
   ]
  },
  {
   "cell_type": "code",
   "execution_count": 37,
   "metadata": {},
   "outputs": [
    {
     "data": {
      "text/plain": [
       "<seaborn.axisgrid.FacetGrid at 0x7f85bbef7310>"
      ]
     },
     "execution_count": 37,
     "metadata": {},
     "output_type": "execute_result"
    },
    {
     "data": {
      "image/png": "[encoded data removed]",
      "text/plain": [
       "<Figure size 360x360 with 1 Axes>"
      ]
     },
     "metadata": {
      "needs_background": "light"
     },
     "output_type": "display_data"
    }
   ],
   "source": [
    "sns.catplot(data=data, x='brand', kind='count', height=5)"
   ]
  },
  {
   "cell_type": "code",
   "execution_count": 39,
   "metadata": {},
   "outputs": [
    {
     "data": {
      "text/plain": [
       "<seaborn.axisgrid.FacetGrid at 0x7f85bc057c70>"
      ]
     },
     "execution_count": 39,
     "metadata": {},
     "output_type": "execute_result"
    },
    {
     "data": {
      "image/png": "[encoded data removed]",
      "text/plain": [
       "<Figure size 720x720 with 1 Axes>"
      ]
     },
     "metadata": {
      "needs_background": "light"
     },
     "output_type": "display_data"
    }
   ],
   "source": [
    "sns.catplot(data=data, x='hh_comp_desc', kind='count', height=10)"
   ]
  },
  {
   "cell_type": "code",
   "execution_count": 40,
   "metadata": {},
   "outputs": [
    {
     "data": {
      "text/plain": [
       "<seaborn.axisgrid.FacetGrid at 0x7f85bbc51610>"
      ]
     },
     "execution_count": 40,
     "metadata": {},
     "output_type": "execute_result"
    },
    {
     "data": {
      "image/png": "[encoded data removed]",
      "text/plain": [
       "<Figure size 360x360 with 1 Axes>"
      ]
     },
     "metadata": {
      "needs_background": "light"
     },
     "output_type": "display_data"
    }
   ],
   "source": [
    "sns.catplot(data=data, x='kid_category_desc', kind='count')"
   ]
  },
  {
   "cell_type": "code",
   "execution_count": 45,
   "metadata": {},
   "outputs": [
    {
     "data": {
      "text/plain": [
       "<seaborn.axisgrid.FacetGrid at 0x7f853d0b0ac0>"
      ]
     },
     "execution_count": 45,
     "metadata": {},
     "output_type": "execute_result"
    },
    {
     "data": {
      "image/png": "[encoded data removed]",
      "text/plain": [
       "<Figure size 1080x1080 with 1 Axes>"
      ]
     },
     "metadata": {
      "needs_background": "light"
     },
     "output_type": "display_data"
    }
   ],
   "source": [
    "sns.catplot(data=data, y='department', kind='count', height=15)"
   ]
  },
  {
   "cell_type": "code",
   "execution_count": 51,
   "metadata": {},
   "outputs": [],
   "source": [
    "big_features = ['GROCERY', 'PRODUCE', 'DRUG GM', 'MEAT', 'MEAT-PCKGD', 'DELI', 'PASTRY', 'NUTRITION']"
   ]
  },
  {
   "cell_type": "code",
   "execution_count": 52,
   "metadata": {},
   "outputs": [
    {
     "data": {
      "text/plain": [
       "<seaborn.axisgrid.FacetGrid at 0x7f851f1cb970>"
      ]
     },
     "execution_count": 52,
     "metadata": {},
     "output_type": "execute_result"
    },
    {
     "data": {
      "image/png": "[encoded data removed]",
      "text/plain": [
       "<Figure size 1080x1080 with 1 Axes>"
      ]
     },
     "metadata": {
      "needs_background": "light"
     },
     "output_type": "display_data"
    }
   ],
   "source": [
    "sns.catplot(data=data.loc[data['department'].isin(big_features)], y='department', kind='count', height=15)"
   ]
  },
  {
   "cell_type": "code",
   "execution_count": 53,
   "metadata": {},
   "outputs": [
    {
     "data": {
      "text/plain": [
       "<seaborn.axisgrid.FacetGrid at 0x7f851f1d2eb0>"
      ]
     },
     "execution_count": 53,
     "metadata": {},
     "output_type": "execute_result"
    },
    {
     "data": {
      "image/png": "[encoded data removed]",
      "text/plain": [
       "<Figure size 1080x1080 with 1 Axes>"
      ]
     },
     "metadata": {
      "needs_background": "light"
     },
     "output_type": "display_data"
    }
   ],
   "source": [
    "sns.catplot(data=data.loc[~data['department'].isin(big_features)], y='department', kind='count', height=15)"
   ]
  },
  {
   "cell_type": "code",
   "execution_count": 55,
   "metadata": {},
   "outputs": [
    {
     "data": {
      "text/html": [
       "<div>\n",
       "<style scoped>\n",
       "    .dataframe tbody tr th:only-of-type {\n",
       "        vertical-align: middle;\n",
       "    }\n",
       "\n",
       "    .dataframe tbody tr th {\n",
       "        vertical-align: top;\n",
       "    }\n",
       "\n",
       "    .dataframe thead th {\n",
       "        text-align: right;\n",
       "    }\n",
       "</style>\n",
       "<table border=\"1\" class=\"dataframe\">\n",
       "  <thead>\n",
       "    <tr style=\"text-align: right;\">\n",
       "      <th></th>\n",
       "      <th>user_id</th>\n",
       "      <th>basket_id</th>\n",
       "      <th>day</th>\n",
       "      <th>item_id</th>\n",
       "      <th>quantity</th>\n",
       "      <th>sales_value</th>\n",
       "      <th>store_id</th>\n",
       "      <th>retail_disc</th>\n",
       "      <th>trans_time</th>\n",
       "      <th>week_no</th>\n",
       "      <th>...</th>\n",
       "      <th>commodity_desc</th>\n",
       "      <th>sub_commodity_desc</th>\n",
       "      <th>curr_size_of_product</th>\n",
       "      <th>age_desc</th>\n",
       "      <th>marital_status_code</th>\n",
       "      <th>income_desc</th>\n",
       "      <th>homeowner_desc</th>\n",
       "      <th>hh_comp_desc</th>\n",
       "      <th>household_size_desc</th>\n",
       "      <th>kid_category_desc</th>\n",
       "    </tr>\n",
       "  </thead>\n",
       "  <tbody>\n",
       "    <tr>\n",
       "      <th>468356</th>\n",
       "      <td>2407</td>\n",
       "      <td>29392047893</td>\n",
       "      <td>181</td>\n",
       "      <td>6544236</td>\n",
       "      <td>85055</td>\n",
       "      <td>210.00</td>\n",
       "      <td>375</td>\n",
       "      <td>-8.51</td>\n",
       "      <td>1606</td>\n",
       "      <td>27</td>\n",
       "      <td>...</td>\n",
       "      <td>COUPON/MISC ITEMS</td>\n",
       "      <td>GASOLINE-REG UNLEADED</td>\n",
       "      <td></td>\n",
       "      <td>45-54</td>\n",
       "      <td>A</td>\n",
       "      <td>100-124K</td>\n",
       "      <td>Homeowner</td>\n",
       "      <td>2 Adults No Kids</td>\n",
       "      <td>2</td>\n",
       "      <td>None/Unknown</td>\n",
       "    </tr>\n",
       "    <tr>\n",
       "      <th>2302438</th>\n",
       "      <td>2328</td>\n",
       "      <td>41366409117</td>\n",
       "      <td>641</td>\n",
       "      <td>6544236</td>\n",
       "      <td>35836</td>\n",
       "      <td>87.76</td>\n",
       "      <td>406</td>\n",
       "      <td>-5.38</td>\n",
       "      <td>1351</td>\n",
       "      <td>92</td>\n",
       "      <td>...</td>\n",
       "      <td>COUPON/MISC ITEMS</td>\n",
       "      <td>GASOLINE-REG UNLEADED</td>\n",
       "      <td></td>\n",
       "      <td>45-54</td>\n",
       "      <td>U</td>\n",
       "      <td>250K+</td>\n",
       "      <td>Homeowner</td>\n",
       "      <td>2 Adults No Kids</td>\n",
       "      <td>2</td>\n",
       "      <td>None/Unknown</td>\n",
       "    </tr>\n",
       "    <tr>\n",
       "      <th>2124167</th>\n",
       "      <td>1228</td>\n",
       "      <td>40679895034</td>\n",
       "      <td>598</td>\n",
       "      <td>6534178</td>\n",
       "      <td>35077</td>\n",
       "      <td>76.78</td>\n",
       "      <td>327</td>\n",
       "      <td>-0.01</td>\n",
       "      <td>617</td>\n",
       "      <td>86</td>\n",
       "      <td>...</td>\n",
       "      <td>COUPON/MISC ITEMS</td>\n",
       "      <td>GASOLINE-REG UNLEADED</td>\n",
       "      <td></td>\n",
       "      <td>45-54</td>\n",
       "      <td>U</td>\n",
       "      <td>100-124K</td>\n",
       "      <td>Unknown</td>\n",
       "      <td>Single Female</td>\n",
       "      <td>1</td>\n",
       "      <td>None/Unknown</td>\n",
       "    </tr>\n",
       "    <tr>\n",
       "      <th>2048351</th>\n",
       "      <td>1228</td>\n",
       "      <td>40447620542</td>\n",
       "      <td>577</td>\n",
       "      <td>6534178</td>\n",
       "      <td>34228</td>\n",
       "      <td>69.11</td>\n",
       "      <td>327</td>\n",
       "      <td>-3.42</td>\n",
       "      <td>1117</td>\n",
       "      <td>83</td>\n",
       "      <td>...</td>\n",
       "      <td>COUPON/MISC ITEMS</td>\n",
       "      <td>GASOLINE-REG UNLEADED</td>\n",
       "      <td></td>\n",
       "      <td>45-54</td>\n",
       "      <td>U</td>\n",
       "      <td>100-124K</td>\n",
       "      <td>Unknown</td>\n",
       "      <td>Single Female</td>\n",
       "      <td>1</td>\n",
       "      <td>None/Unknown</td>\n",
       "    </tr>\n",
       "    <tr>\n",
       "      <th>1870424</th>\n",
       "      <td>2133</td>\n",
       "      <td>35727256342</td>\n",
       "      <td>533</td>\n",
       "      <td>6534178</td>\n",
       "      <td>32623</td>\n",
       "      <td>75.00</td>\n",
       "      <td>433</td>\n",
       "      <td>-3.26</td>\n",
       "      <td>1535</td>\n",
       "      <td>77</td>\n",
       "      <td>...</td>\n",
       "      <td>COUPON/MISC ITEMS</td>\n",
       "      <td>GASOLINE-REG UNLEADED</td>\n",
       "      <td></td>\n",
       "      <td>55-64</td>\n",
       "      <td>A</td>\n",
       "      <td>100-124K</td>\n",
       "      <td>Unknown</td>\n",
       "      <td>2 Adults No Kids</td>\n",
       "      <td>2</td>\n",
       "      <td>None/Unknown</td>\n",
       "    </tr>\n",
       "    <tr>\n",
       "      <th>...</th>\n",
       "      <td>...</td>\n",
       "      <td>...</td>\n",
       "      <td>...</td>\n",
       "      <td>...</td>\n",
       "      <td>...</td>\n",
       "      <td>...</td>\n",
       "      <td>...</td>\n",
       "      <td>...</td>\n",
       "      <td>...</td>\n",
       "      <td>...</td>\n",
       "      <td>...</td>\n",
       "      <td>...</td>\n",
       "      <td>...</td>\n",
       "      <td>...</td>\n",
       "      <td>...</td>\n",
       "      <td>...</td>\n",
       "      <td>...</td>\n",
       "      <td>...</td>\n",
       "      <td>...</td>\n",
       "      <td>...</td>\n",
       "      <td>...</td>\n",
       "    </tr>\n",
       "    <tr>\n",
       "      <th>360237</th>\n",
       "      <td>2407</td>\n",
       "      <td>28970490045</td>\n",
       "      <td>153</td>\n",
       "      <td>1069990</td>\n",
       "      <td>0</td>\n",
       "      <td>0.00</td>\n",
       "      <td>429</td>\n",
       "      <td>0.00</td>\n",
       "      <td>607</td>\n",
       "      <td>23</td>\n",
       "      <td>...</td>\n",
       "      <td>DINNER SAUSAGE</td>\n",
       "      <td>SMOKED/COOKED</td>\n",
       "      <td>16 OZ</td>\n",
       "      <td>45-54</td>\n",
       "      <td>A</td>\n",
       "      <td>100-124K</td>\n",
       "      <td>Homeowner</td>\n",
       "      <td>2 Adults No Kids</td>\n",
       "      <td>2</td>\n",
       "      <td>None/Unknown</td>\n",
       "    </tr>\n",
       "    <tr>\n",
       "      <th>1242514</th>\n",
       "      <td>413</td>\n",
       "      <td>32589571014</td>\n",
       "      <td>377</td>\n",
       "      <td>5978648</td>\n",
       "      <td>0</td>\n",
       "      <td>0.00</td>\n",
       "      <td>448</td>\n",
       "      <td>0.00</td>\n",
       "      <td>1425</td>\n",
       "      <td>55</td>\n",
       "      <td>...</td>\n",
       "      <td></td>\n",
       "      <td></td>\n",
       "      <td></td>\n",
       "      <td>45-54</td>\n",
       "      <td>U</td>\n",
       "      <td>100-124K</td>\n",
       "      <td>Unknown</td>\n",
       "      <td>Unknown</td>\n",
       "      <td>1</td>\n",
       "      <td>None/Unknown</td>\n",
       "    </tr>\n",
       "    <tr>\n",
       "      <th>1031168</th>\n",
       "      <td>2264</td>\n",
       "      <td>31832862474</td>\n",
       "      <td>325</td>\n",
       "      <td>5978648</td>\n",
       "      <td>0</td>\n",
       "      <td>0.00</td>\n",
       "      <td>442</td>\n",
       "      <td>0.00</td>\n",
       "      <td>2120</td>\n",
       "      <td>47</td>\n",
       "      <td>...</td>\n",
       "      <td></td>\n",
       "      <td></td>\n",
       "      <td></td>\n",
       "      <td>45-54</td>\n",
       "      <td>A</td>\n",
       "      <td>250K+</td>\n",
       "      <td>Homeowner</td>\n",
       "      <td>2 Adults No Kids</td>\n",
       "      <td>2</td>\n",
       "      <td>None/Unknown</td>\n",
       "    </tr>\n",
       "    <tr>\n",
       "      <th>370024</th>\n",
       "      <td>1557</td>\n",
       "      <td>29034636346</td>\n",
       "      <td>156</td>\n",
       "      <td>1049876</td>\n",
       "      <td>0</td>\n",
       "      <td>0.00</td>\n",
       "      <td>450</td>\n",
       "      <td>0.00</td>\n",
       "      <td>1430</td>\n",
       "      <td>23</td>\n",
       "      <td>...</td>\n",
       "      <td>SHAVING CARE PRODUCTS</td>\n",
       "      <td>MENS HAIR SPRAYS/TONICS/CREAMS</td>\n",
       "      <td>4.5 OZ</td>\n",
       "      <td>25-34</td>\n",
       "      <td>A</td>\n",
       "      <td>100-124K</td>\n",
       "      <td>Renter</td>\n",
       "      <td>1 Adult Kids</td>\n",
       "      <td>4</td>\n",
       "      <td>2</td>\n",
       "    </tr>\n",
       "    <tr>\n",
       "      <th>2183452</th>\n",
       "      <td>2087</td>\n",
       "      <td>40841220789</td>\n",
       "      <td>611</td>\n",
       "      <td>827975</td>\n",
       "      <td>0</td>\n",
       "      <td>0.00</td>\n",
       "      <td>345</td>\n",
       "      <td>0.00</td>\n",
       "      <td>1034</td>\n",
       "      <td>88</td>\n",
       "      <td>...</td>\n",
       "      <td>VEGETABLES SALAD</td>\n",
       "      <td>VARIETY LETTUCE</td>\n",
       "      <td>12 CT</td>\n",
       "      <td>45-54</td>\n",
       "      <td>B</td>\n",
       "      <td>100-124K</td>\n",
       "      <td>Homeowner</td>\n",
       "      <td>Unknown</td>\n",
       "      <td>1</td>\n",
       "      <td>None/Unknown</td>\n",
       "    </tr>\n",
       "  </tbody>\n",
       "</table>\n",
       "<p>84645 rows × 25 columns</p>\n",
       "</div>"
      ],
      "text/plain": [
       "         user_id    basket_id  day  item_id  quantity  sales_value  store_id  \\\n",
       "468356      2407  29392047893  181  6544236     85055       210.00       375   \n",
       "2302438     2328  41366409117  641  6544236     35836        87.76       406   \n",
       "2124167     1228  40679895034  598  6534178     35077        76.78       327   \n",
       "2048351     1228  40447620542  577  6534178     34228        69.11       327   \n",
       "1870424     2133  35727256342  533  6534178     32623        75.00       433   \n",
       "...          ...          ...  ...      ...       ...          ...       ...   \n",
       "360237      2407  28970490045  153  1069990         0         0.00       429   \n",
       "1242514      413  32589571014  377  5978648         0         0.00       448   \n",
       "1031168     2264  31832862474  325  5978648         0         0.00       442   \n",
       "370024      1557  29034636346  156  1049876         0         0.00       450   \n",
       "2183452     2087  40841220789  611   827975         0         0.00       345   \n",
       "\n",
       "         retail_disc  trans_time  week_no  ...         commodity_desc  \\\n",
       "468356         -8.51        1606       27  ...      COUPON/MISC ITEMS   \n",
       "2302438        -5.38        1351       92  ...      COUPON/MISC ITEMS   \n",
       "2124167        -0.01         617       86  ...      COUPON/MISC ITEMS   \n",
       "2048351        -3.42        1117       83  ...      COUPON/MISC ITEMS   \n",
       "1870424        -3.26        1535       77  ...      COUPON/MISC ITEMS   \n",
       "...              ...         ...      ...  ...                    ...   \n",
       "360237          0.00         607       23  ...         DINNER SAUSAGE   \n",
       "1242514         0.00        1425       55  ...                          \n",
       "1031168         0.00        2120       47  ...                          \n",
       "370024          0.00        1430       23  ...  SHAVING CARE PRODUCTS   \n",
       "2183452         0.00        1034       88  ...       VEGETABLES SALAD   \n",
       "\n",
       "                     sub_commodity_desc  curr_size_of_product age_desc  \\\n",
       "468356            GASOLINE-REG UNLEADED                          45-54   \n",
       "2302438           GASOLINE-REG UNLEADED                          45-54   \n",
       "2124167           GASOLINE-REG UNLEADED                          45-54   \n",
       "2048351           GASOLINE-REG UNLEADED                          45-54   \n",
       "1870424           GASOLINE-REG UNLEADED                          55-64   \n",
       "...                                 ...                   ...      ...   \n",
       "360237                    SMOKED/COOKED                 16 OZ    45-54   \n",
       "1242514                                                          45-54   \n",
       "1031168                                                          45-54   \n",
       "370024   MENS HAIR SPRAYS/TONICS/CREAMS                4.5 OZ    25-34   \n",
       "2183452                 VARIETY LETTUCE                 12 CT    45-54   \n",
       "\n",
       "        marital_status_code income_desc homeowner_desc      hh_comp_desc  \\\n",
       "468356                    A    100-124K      Homeowner  2 Adults No Kids   \n",
       "2302438                   U       250K+      Homeowner  2 Adults No Kids   \n",
       "2124167                   U    100-124K        Unknown     Single Female   \n",
       "2048351                   U    100-124K        Unknown     Single Female   \n",
       "1870424                   A    100-124K        Unknown  2 Adults No Kids   \n",
       "...                     ...         ...            ...               ...   \n",
       "360237                    A    100-124K      Homeowner  2 Adults No Kids   \n",
       "1242514                   U    100-124K        Unknown           Unknown   \n",
       "1031168                   A       250K+      Homeowner  2 Adults No Kids   \n",
       "370024                    A    100-124K         Renter      1 Adult Kids   \n",
       "2183452                   B    100-124K      Homeowner           Unknown   \n",
       "\n",
       "        household_size_desc kid_category_desc  \n",
       "468356                    2      None/Unknown  \n",
       "2302438                   2      None/Unknown  \n",
       "2124167                   1      None/Unknown  \n",
       "2048351                   1      None/Unknown  \n",
       "1870424                   2      None/Unknown  \n",
       "...                     ...               ...  \n",
       "360237                    2      None/Unknown  \n",
       "1242514                   1      None/Unknown  \n",
       "1031168                   2      None/Unknown  \n",
       "370024                    4                 2  \n",
       "2183452                   1      None/Unknown  \n",
       "\n",
       "[84645 rows x 25 columns]"
      ]
     },
     "execution_count": 55,
     "metadata": {},
     "output_type": "execute_result"
    }
   ],
   "source": [
    "data.loc[data.income_desc.isin(['100-124K', '250K+', '175-199K' '200-249K'])].sort_values('quantity', ascending=False)"
   ]
  },
  {
   "cell_type": "code",
   "execution_count": 56,
   "metadata": {},
   "outputs": [
    {
     "data": {
      "text/plain": [
       "89638"
      ]
     },
     "execution_count": 56,
     "metadata": {},
     "output_type": "execute_result"
    }
   ],
   "source": [
    "data['quantity'].max()"
   ]
  },
  {
   "cell_type": "markdown",
   "metadata": {},
   "source": [
    "### LightFM"
   ]
  },
  {
   "cell_type": "markdown",
   "metadata": {},
   "source": [
    "У этого алогритма есть множество параметров (item/user_alpha, loss, no_components).  \n",
    "Проведите эксперименты аналогично дз 3 (подберите гипперпараметры каким удобно способои и постройте графики)  \n",
    "На выходе необходимо получить pr@5 на валидации (последние 3 недели) > 17%  \n",
    "У Вас, скорее всего, возникнет проблема со временем обучения. Попробуйте запустить алгоритм вообще без фичей или используйте только признаки с небольшим числом уникальных категорий. (item_features['commodity_desc'].unique() - 300 уникальных категорий - это очень много)"
   ]
  },
  {
   "cell_type": "code",
   "execution_count": null,
   "metadata": {},
   "outputs": [],
   "source": [
    "\n",
    "model = LightFM(no_components=5, \n",
    "                loss='bpr', \n",
    "                learning_rate=5e-2, \n",
    "                item_alpha=1e-1, \n",
    "                user_alpha=1e-1, \n",
    "                random_state=42)\n",
    "\n",
    "model.fit()"
   ]
  },
  {
   "cell_type": "markdown",
   "metadata": {},
   "source": [
    "### *Отбор признаков* * "
   ]
  },
  {
   "cell_type": "markdown",
   "metadata": {},
   "source": [
    "Все данные категориальные, при ohe кодировании для товаров признаков становится невероятно много.      \n",
    "Какие стратегии отбора признаков в классическом ML Вы знаете? Применимы ли они тут?  \n",
    "\n",
    "Попробйте какие-нибудь стратегии. Удалось ли улучшить качество?\n",
    "\n",
    "*задание необязательно\n"
   ]
  },
  {
   "cell_type": "code",
   "execution_count": null,
   "metadata": {},
   "outputs": [],
   "source": []
  },
  {
   "cell_type": "code",
   "execution_count": null,
   "metadata": {},
   "outputs": [],
   "source": []
  },
  {
   "cell_type": "code",
   "execution_count": null,
   "metadata": {},
   "outputs": [],
   "source": []
  },
  {
   "cell_type": "code",
   "execution_count": null,
   "metadata": {},
   "outputs": [],
   "source": []
  }
 ],
 "metadata": {
  "kernelspec": {
   "display_name": "Python 3",
   "language": "python",
   "name": "python3"
  },
  "language_info": {
   "codemirror_mode": {
    "name": "ipython",
    "version": 3
   },
   "file_extension": ".py",
   "mimetype": "text/x-python",
   "name": "python",
   "nbconvert_exporter": "python",
   "pygments_lexer": "ipython3",
   "version": "3.8.5"
  }
 },
 "nbformat": 4,
 "nbformat_minor": 2
}
