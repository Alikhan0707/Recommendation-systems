{
 "cells": [
  {
   "cell_type": "markdown",
   "metadata": {},
   "source": [
    "## Теоретическая часть"
   ]
  },
  {
   "cell_type": "markdown",
   "metadata": {},
   "source": [
    "#### 1. Вспомним прошлый вебинар, мы рассматривали User-User рекомендации и Item-Item рекомендации. Чем они отличаются и чем они похожи? Если есть функция item_item_rec(interaction_matrix). Можно ли использовать эту функцию для user_user_rec?  В чем принципиальные отличия item-item рекомендаций от ALS?"
   ]
  },
  {
   "cell_type": "markdown",
   "metadata": {},
   "source": [
    "1. Отличие user-user и item-item рекомендации заключается в количестве. Как правило количество юзеров может расти быстрей и больше чем количество товаров ...\n",
    "2. Да можно, т.к. мы производим расчеты на одной и той же матрице. Просто нужно ее транпонировать перед тем как подавать в функцию item_item_rec"
   ]
  },
  {
   "cell_type": "markdown",
   "metadata": {},
   "source": [
    "3. Принципиальное отличие заключается в нахождении градинта в методе ALS, тогда как в ItemItem мы просто считаем похожесть товаров(пользоватлей)."
   ]
  },
  {
   "cell_type": "markdown",
   "metadata": {},
   "source": [
    "#### 2. Приведите 3 примера весов (те, которых не было на вебинаре: сумма покупок, количество покупок - неинтересно) user-item матрицы для задачи рекомендаций товаров \n"
   ]
  },
  {
   "cell_type": "markdown",
   "metadata": {},
   "source": [
    "В качестве весов можно использовать количество лайков, рейтинг товара, "
   ]
  },
  {
   "cell_type": "markdown",
   "metadata": {},
   "source": [
    "#### 3. Какие ограничения есть у ALS? (Тип информации, линейность/нелинейность факторов и т д)\n"
   ]
  },
  {
   "cell_type": "markdown",
   "metadata": {},
   "source": [
    "плохо работает с категориальными признаками,"
   ]
  },
  {
   "cell_type": "markdown",
   "metadata": {},
   "source": [
    "#### 4. Мы рассматривали bm_25_weight. Опишите, как он работает. Как сделать рекомендации только на основе bm_25? (Можно и нужно пользоваться любыми источниками, приложите на них ссылки). Какие еще способы перевзвешивания user-item матрицы Вы знаете / можете предложить (ещё 2-3 способа)?"
   ]
  },
  {
   "cell_type": "markdown",
   "metadata": {},
   "source": []
  },
  {
   "cell_type": "markdown",
   "metadata": {},
   "source": [
    "## Практическая часть\n"
   ]
  },
  {
   "cell_type": "code",
   "execution_count": 2,
   "metadata": {},
   "outputs": [],
   "source": [
    "%matplotlib inline\n",
    "\n",
    "import implicit\n",
    "\n",
    "import numpy as np\n",
    "import pandas as pd\n",
    "import matplotlib.pyplot as plt\n",
    "\n",
    "from sklearn.model_selection import GridSearchCV\n",
    "\n",
    "from scipy.sparse import csr_matrix\n",
    "\n",
    "from implicit.als import AlternatingLeastSquares\n",
    "\n",
    "from src.metrics import precision_at_k"
   ]
  },
  {
   "cell_type": "code",
   "execution_count": 3,
   "metadata": {},
   "outputs": [],
   "source": [
    "item_of_nines = 999999"
   ]
  },
  {
   "cell_type": "code",
   "execution_count": 4,
   "metadata": {},
   "outputs": [],
   "source": [
    "def train_test_split_by_week(df, name_of_week_column, test_size_weeks):\n",
    "    \n",
    "    week_ratio = df[name_of_week_column].max() - test_size_weeks\n",
    "    \n",
    "    df_train = df[df[name_of_week_column] < week_ratio]\n",
    "    df_test = df[df[name_of_week_column] >= week_ratio]\n",
    "    \n",
    "    return df_train, df_test"
   ]
  },
  {
   "cell_type": "code",
   "execution_count": 5,
   "metadata": {},
   "outputs": [],
   "source": [
    "def group_df_by(df, grouped_feat, second_feat, new_name_of_second_feat, pick_method):\n",
    "    \n",
    "    if pick_method == 'unique':\n",
    "        grouped_df = df.groupby(grouped_feat)[second_feat].unique().reset_index()\n",
    "        grouped_df.columns = [grouped_feat, new_name_of_second_feat]\n",
    "    \n",
    "    elif pick_method == 'sum':\n",
    "        grouped_df = df.groupby(grouped_feat)[second_feat].sum().reset_index()\n",
    "        grouped_df.columns = [grouped_feat, new_name_of_second_feat]\n",
    "    \n",
    "    return grouped_df"
   ]
  },
  {
   "cell_type": "code",
   "execution_count": 6,
   "metadata": {},
   "outputs": [],
   "source": [
    "def df_to_user_item_matrix(df, top_items):\n",
    "    df_of_top = df.copy()\n",
    "    df_of_top.loc[~df_of_top['item_id'].isin(top_items), 'item_id'] = item_of_nines\n",
    "\n",
    "    user_item_matrix = pd.pivot_table(df_of_top, \n",
    "                                      index='user_id', \n",
    "                                      columns='item_id', \n",
    "                                      values='quantity', \n",
    "                                      aggfunc='count', \n",
    "                                      fill_value=0)\n",
    "\n",
    "    user_item_matrix = user_item_matrix.astype(float)\n",
    "\n",
    "    sparce_user_item = csr_matrix(user_item_matrix).tocsr()\n",
    "\n",
    "    sparce_t_user_item = csr_matrix(user_item_matrix).T.tocsr()\n",
    "    \n",
    "    return df_of_top, user_item_matrix, sparce_user_item, sparce_t_user_item"
   ]
  },
  {
   "cell_type": "code",
   "execution_count": 7,
   "metadata": {},
   "outputs": [],
   "source": [
    "def group_df_train_and_test(train, test, groupby_feat, second_feat, rename_column, aggfuc):\n",
    "    \n",
    "    if aggfuc == 'unique':\n",
    "        \n",
    "        train_df = group_df_by(train, groupby_feat, second_feat, rename_column, aggfuc)\n",
    "        test_df = group_df_by(test, groupby_feat, second_feat, rename_column, aggfuc)\n",
    "    \n",
    "    elif aggfuc == 'sum':\n",
    "        \n",
    "        train_df = group_df_by(train, groupby_feat, second_feat, rename_column, aggfuc)\n",
    "        test_df = group_df_by(test, groupby_feat, second_feat, rename_column, aggfuc)\n",
    "        \n",
    "    return train_df, test_df"
   ]
  },
  {
   "cell_type": "code",
   "execution_count": 8,
   "metadata": {},
   "outputs": [],
   "source": [
    "def change_ids(matrix):\n",
    "    user_id = matrix.index.values\n",
    "    item_id = matrix.columns.values\n",
    "    \n",
    "    matrix_user_id = np.arange(len(user_id))\n",
    "    matrix_item_id = np.arange(len(item_id))\n",
    "    \n",
    "    id_to_user_id = dict(zip(matrix_user_id, user_id))\n",
    "    id_to_item_id = dict(zip(matrix_item_id, item_id))\n",
    "    \n",
    "    user_id_to_id = dict(zip(user_id, matrix_user_id))\n",
    "    item_id_to_id = dict(zip(item_id, matrix_item_id))\n",
    "    \n",
    "    return id_to_user_id, id_to_item_id, item_id_to_id, user_id_to_id"
   ]
  },
  {
   "cell_type": "code",
   "execution_count": 9,
   "metadata": {},
   "outputs": [],
   "source": [
    "def get_recommendation(user, model, sparce_user_item, id_to_item_id, user_id_to_id, N=5):\n",
    "    \n",
    "    res = [id_to_item_id[rec[0]] for rec in model.recommend(userid=user_id_to_id[user], \n",
    "                                                            user_items=sparce_user_item, \n",
    "                                                            N=N, \n",
    "                                                            filter_already_liked_items=False, \n",
    "                                                            filter_items=None, \n",
    "                                                            recalculate_user=True)]\n",
    "    \n",
    "    return res"
   ]
  },
  {
   "cell_type": "code",
   "execution_count": 10,
   "metadata": {},
   "outputs": [],
   "source": [
    "def grid_search(train, test, reg_list, factors_list, sparce_t_matrix_train, \n",
    "                sparce_matrix_train, sparce_matrix_test, id_to_item_id_train, user_id_to_id_train, \n",
    "                id_to_item_id_test, user_id_to_id_test):\n",
    "    \n",
    "    result_train_list = []\n",
    "    result_test_list = []\n",
    "    \n",
    "    for alpha in reg_list:\n",
    "\n",
    "        for factors in factors_list:\n",
    "            \n",
    "            model2 = AlternatingLeastSquares(factors=factors, \n",
    "                                    regularization=alpha, \n",
    "                                    iterations=15, \n",
    "                                    calculate_training_loss=True)\n",
    "            print(f'Модель с regularization = {alpha}, factors = {factors}')\n",
    "            model2.fit(sparce_t_matrix_train, show_progress=True)\n",
    "            \n",
    "            # Train\n",
    "            train[f'als_l_{alpha}__factors_{factors}'] = \\\n",
    "                train['user_id'].apply(lambda x: get_recommendation(x, model=model2, \n",
    "                                                                     sparce_user_item=sparce_matrix_train, \n",
    "                                                                     id_to_item_id=id_to_item_id_train, \n",
    "                                                                     user_id_to_id=user_id_to_id_train))\n",
    "\n",
    "            train[f'als_prec_l_{alpha}__factors_{factors}'] = \\\n",
    "                train.apply(lambda x: precision_at_k(x[f'als_l_{alpha}__factors_{factors}'], x['boughted']), \n",
    "                                                                            axis=1)\n",
    "            precision_train_mean = train[f'als_prec_l_{alpha}__factors_{factors}'].mean()\n",
    "            \n",
    "            # Test\n",
    "            \n",
    "            test[f'als_l_{alpha}__factors_{factors}'] = \\\n",
    "                test['user_id'].apply(lambda x: get_recommendation(x, model=model2, \n",
    "                                                                     sparce_user_item=sparce_matrix_test, \n",
    "                                                                     id_to_item_id=id_to_item_id_test, \n",
    "                                                                     user_id_to_id=user_id_to_id_test))\n",
    "\n",
    "            test[f'als_prec_l_{alpha}__factors_{factors}'] = \\\n",
    "                test.apply(lambda x: precision_at_k(x[f'als_l_{alpha}__factors_{factors}'], x['boughted']), \n",
    "                                                                            axis=1)\n",
    "            \n",
    "            precision_test_mean = test[f'als_prec_l_{alpha}__factors_{factors}'].mean()\n",
    "\n",
    "            result_train_list.append((alpha, factors, precision_train_mean))\n",
    "            result_test_list.append((alpha, factors, precision_test_mean))\n",
    "            \n",
    "    return result_train_list, result_test_list"
   ]
  },
  {
   "cell_type": "code",
   "execution_count": 11,
   "metadata": {},
   "outputs": [],
   "source": [
    "def train_test_scores_plot(df):\n",
    "    factors = df['factors'].values.tolist()\n",
    "    train_scores = df['train_mean_precision'].values.tolist()\n",
    "    test_scores = df['test_mean_precision'].values.tolist()\n",
    "    \n",
    "    plt.plot(factors, train_scores, label='Train line')\n",
    "    plt.plot(factors, test_scores, label='Test line')\n",
    "    \n",
    "    plt.legend()\n",
    "    \n",
    "    plt.show()"
   ]
  },
  {
   "cell_type": "code",
   "execution_count": 12,
   "metadata": {},
   "outputs": [],
   "source": [
    "data = pd.read_csv('../урок 2/retail_train.csv')\n",
    "\n",
    "data.columns = [col for col in data.columns]\n",
    "data.rename(columns={'household_key': 'user_id', \n",
    "                     'product_id': 'item_id'}, \n",
    "            inplace=True)\n",
    "\n",
    "data_train, data_test = train_test_split_by_week(data, 'week_no', 3)"
   ]
  },
  {
   "cell_type": "code",
   "execution_count": 13,
   "metadata": {},
   "outputs": [
    {
     "data": {
      "text/plain": [
       "((2278490, 12), (118314, 12))"
      ]
     },
     "execution_count": 13,
     "metadata": {},
     "output_type": "execute_result"
    }
   ],
   "source": [
    "data_train.shape, data_test.shape"
   ]
  },
  {
   "cell_type": "code",
   "execution_count": 14,
   "metadata": {},
   "outputs": [],
   "source": [
    "result_train, result_test = group_df_train_and_test(data_train, \n",
    "                                                    data_test, \n",
    "                                                    'user_id', \n",
    "                                                    'item_id', \n",
    "                                                    'boughted', \n",
    "                                                    'unique')"
   ]
  },
  {
   "cell_type": "code",
   "execution_count": 15,
   "metadata": {},
   "outputs": [
    {
     "data": {
      "text/html": [
       "<div>\n",
       "<style scoped>\n",
       "    .dataframe tbody tr th:only-of-type {\n",
       "        vertical-align: middle;\n",
       "    }\n",
       "\n",
       "    .dataframe tbody tr th {\n",
       "        vertical-align: top;\n",
       "    }\n",
       "\n",
       "    .dataframe thead th {\n",
       "        text-align: right;\n",
       "    }\n",
       "</style>\n",
       "<table border=\"1\" class=\"dataframe\">\n",
       "  <thead>\n",
       "    <tr style=\"text-align: right;\">\n",
       "      <th></th>\n",
       "      <th>user_id</th>\n",
       "      <th>boughted</th>\n",
       "    </tr>\n",
       "  </thead>\n",
       "  <tbody>\n",
       "    <tr>\n",
       "      <th>0</th>\n",
       "      <td>1</td>\n",
       "      <td>[825123, 831447, 840361, 845307, 852014, 85498...</td>\n",
       "    </tr>\n",
       "    <tr>\n",
       "      <th>1</th>\n",
       "      <td>2</td>\n",
       "      <td>[854852, 930118, 1077555, 1098066, 5567388, 55...</td>\n",
       "    </tr>\n",
       "  </tbody>\n",
       "</table>\n",
       "</div>"
      ],
      "text/plain": [
       "   user_id                                           boughted\n",
       "0        1  [825123, 831447, 840361, 845307, 852014, 85498...\n",
       "1        2  [854852, 930118, 1077555, 1098066, 5567388, 55..."
      ]
     },
     "execution_count": 15,
     "metadata": {},
     "output_type": "execute_result"
    }
   ],
   "source": [
    "result_train.head(2)"
   ]
  },
  {
   "cell_type": "code",
   "execution_count": 16,
   "metadata": {},
   "outputs": [
    {
     "data": {
      "text/html": [
       "<div>\n",
       "<style scoped>\n",
       "    .dataframe tbody tr th:only-of-type {\n",
       "        vertical-align: middle;\n",
       "    }\n",
       "\n",
       "    .dataframe tbody tr th {\n",
       "        vertical-align: top;\n",
       "    }\n",
       "\n",
       "    .dataframe thead th {\n",
       "        text-align: right;\n",
       "    }\n",
       "</style>\n",
       "<table border=\"1\" class=\"dataframe\">\n",
       "  <thead>\n",
       "    <tr style=\"text-align: right;\">\n",
       "      <th></th>\n",
       "      <th>user_id</th>\n",
       "      <th>boughted</th>\n",
       "    </tr>\n",
       "  </thead>\n",
       "  <tbody>\n",
       "    <tr>\n",
       "      <th>0</th>\n",
       "      <td>1</td>\n",
       "      <td>[821867, 834484, 856942, 865456, 889248, 90795...</td>\n",
       "    </tr>\n",
       "    <tr>\n",
       "      <th>1</th>\n",
       "      <td>3</td>\n",
       "      <td>[835476, 851057, 872021, 878302, 879948, 90963...</td>\n",
       "    </tr>\n",
       "  </tbody>\n",
       "</table>\n",
       "</div>"
      ],
      "text/plain": [
       "   user_id                                           boughted\n",
       "0        1  [821867, 834484, 856942, 865456, 889248, 90795...\n",
       "1        3  [835476, 851057, 872021, 878302, 879948, 90963..."
      ]
     },
     "execution_count": 16,
     "metadata": {},
     "output_type": "execute_result"
    }
   ],
   "source": [
    "result_test.head(2)"
   ]
  },
  {
   "cell_type": "code",
   "execution_count": 17,
   "metadata": {},
   "outputs": [],
   "source": [
    "popular_items_train, popular_items_test = group_df_train_and_test(data_train, \n",
    "                                                                  data_test, \n",
    "                                                                  'item_id', \n",
    "                                                                  'quantity', \n",
    "                                                                  'n_sold', \n",
    "                                                                  'sum')"
   ]
  },
  {
   "cell_type": "code",
   "execution_count": 18,
   "metadata": {},
   "outputs": [
    {
     "data": {
      "text/html": [
       "<div>\n",
       "<style scoped>\n",
       "    .dataframe tbody tr th:only-of-type {\n",
       "        vertical-align: middle;\n",
       "    }\n",
       "\n",
       "    .dataframe tbody tr th {\n",
       "        vertical-align: top;\n",
       "    }\n",
       "\n",
       "    .dataframe thead th {\n",
       "        text-align: right;\n",
       "    }\n",
       "</style>\n",
       "<table border=\"1\" class=\"dataframe\">\n",
       "  <thead>\n",
       "    <tr style=\"text-align: right;\">\n",
       "      <th></th>\n",
       "      <th>item_id</th>\n",
       "      <th>n_sold</th>\n",
       "    </tr>\n",
       "  </thead>\n",
       "  <tbody>\n",
       "    <tr>\n",
       "      <th>0</th>\n",
       "      <td>25671</td>\n",
       "      <td>6</td>\n",
       "    </tr>\n",
       "    <tr>\n",
       "      <th>1</th>\n",
       "      <td>26081</td>\n",
       "      <td>1</td>\n",
       "    </tr>\n",
       "  </tbody>\n",
       "</table>\n",
       "</div>"
      ],
      "text/plain": [
       "   item_id  n_sold\n",
       "0    25671       6\n",
       "1    26081       1"
      ]
     },
     "execution_count": 18,
     "metadata": {},
     "output_type": "execute_result"
    }
   ],
   "source": [
    "popular_items_train.head(2)"
   ]
  },
  {
   "cell_type": "code",
   "execution_count": 19,
   "metadata": {},
   "outputs": [
    {
     "data": {
      "text/html": [
       "<div>\n",
       "<style scoped>\n",
       "    .dataframe tbody tr th:only-of-type {\n",
       "        vertical-align: middle;\n",
       "    }\n",
       "\n",
       "    .dataframe tbody tr th {\n",
       "        vertical-align: top;\n",
       "    }\n",
       "\n",
       "    .dataframe thead th {\n",
       "        text-align: right;\n",
       "    }\n",
       "</style>\n",
       "<table border=\"1\" class=\"dataframe\">\n",
       "  <thead>\n",
       "    <tr style=\"text-align: right;\">\n",
       "      <th></th>\n",
       "      <th>item_id</th>\n",
       "      <th>n_sold</th>\n",
       "    </tr>\n",
       "  </thead>\n",
       "  <tbody>\n",
       "    <tr>\n",
       "      <th>0</th>\n",
       "      <td>29512</td>\n",
       "      <td>1</td>\n",
       "    </tr>\n",
       "    <tr>\n",
       "      <th>1</th>\n",
       "      <td>30356</td>\n",
       "      <td>1</td>\n",
       "    </tr>\n",
       "  </tbody>\n",
       "</table>\n",
       "</div>"
      ],
      "text/plain": [
       "   item_id  n_sold\n",
       "0    29512       1\n",
       "1    30356       1"
      ]
     },
     "execution_count": 19,
     "metadata": {},
     "output_type": "execute_result"
    }
   ],
   "source": [
    "popular_items_test.head(2)"
   ]
  },
  {
   "cell_type": "code",
   "execution_count": 20,
   "metadata": {},
   "outputs": [],
   "source": [
    "top_5000_train = popular_items_train.sort_values('n_sold', ascending=False).head(5000).item_id.tolist()\n",
    "top_5000_test = popular_items_test.sort_values('n_sold', ascending=False).head(5000).item_id.tolist()"
   ]
  },
  {
   "cell_type": "code",
   "execution_count": 21,
   "metadata": {},
   "outputs": [],
   "source": [
    "df_top_5000_train, \\\n",
    "u_i_matrix_train, \\\n",
    "sparce_u_i_train, \\\n",
    "sparce_t_u_i_train = df_to_user_item_matrix(data_train, top_items=top_5000_train)"
   ]
  },
  {
   "cell_type": "code",
   "execution_count": 22,
   "metadata": {},
   "outputs": [],
   "source": [
    "df_top_5000_test,\\\n",
    "u_i_matrix_test,\\\n",
    "sparce_u_i_test,\\\n",
    "sparce_t_u_i_test = df_to_user_item_matrix(data_test, top_items=top_5000_test)"
   ]
  },
  {
   "cell_type": "code",
   "execution_count": 23,
   "metadata": {},
   "outputs": [],
   "source": [
    "id_to_user_id_train, \\\n",
    "id_to_item_id_train, \\\n",
    "item_id_to_id_train, \\\n",
    "user_id_to_id_train = change_ids(u_i_matrix_train)"
   ]
  },
  {
   "cell_type": "code",
   "execution_count": 24,
   "metadata": {},
   "outputs": [],
   "source": [
    "id_to_user_id_test, \\\n",
    "id_to_item_id_test, \\\n",
    "item_id_to_id_test, \\\n",
    "user_id_to_id_test = change_ids(u_i_matrix_test)"
   ]
  },
  {
   "cell_type": "markdown",
   "metadata": {},
   "source": [
    "### Подбор матрицы $c_{ui}$\n",
    "Попробуйте различные варианты матрицы весов (3+ вариантов). Обучите алгоритм для различных $C$. В качестве результата приведите таблицу: матрица весов - результат на train и validation.\n",
    "Сделате качественные выводы.\n"
   ]
  },
  {
   "cell_type": "code",
   "execution_count": 31,
   "metadata": {},
   "outputs": [
    {
     "data": {
      "application/vnd.jupyter.widget-view+json": {
       "model_id": "0d86e0abc75046ef80e1fc44e938b6ec",
       "version_major": 2,
       "version_minor": 0
      },
      "text/plain": [
       "  0%|          | 0/15 [00:00<?, ?it/s]"
      ]
     },
     "metadata": {},
     "output_type": "display_data"
    }
   ],
   "source": [
    "model = AlternatingLeastSquares(factors=100, \n",
    "                                regularization=1e-3, \n",
    "                                iterations=15, \n",
    "                                calculate_training_loss=True,\n",
    "                                num_threads=1)\n",
    "\n",
    "model.fit(sparce_t_u_i_train, show_progress=True)"
   ]
  },
  {
   "cell_type": "code",
   "execution_count": 26,
   "metadata": {},
   "outputs": [
    {
     "name": "stdout",
     "output_type": "stream",
     "text": [
      "CPU times: user 1min 15s, sys: 1.75 s, total: 1min 17s\n",
      "Wall time: 40.8 s\n"
     ]
    }
   ],
   "source": [
    "%%time\n",
    "\n",
    "result_train['als_recommendation'] = \\\n",
    "    result_train['user_id'].apply(lambda x: get_recommendation(x, model=model, \n",
    "                                                               sparce_user_item=sparce_u_i_train, \n",
    "                                                               id_to_item_id=id_to_item_id_train, \n",
    "                                                               user_id_to_id=user_id_to_id_train))"
   ]
  },
  {
   "cell_type": "code",
   "execution_count": 27,
   "metadata": {},
   "outputs": [],
   "source": [
    "result_train['als_precision'] = result_train.apply(lambda x: precision_at_k(x['als_recommendation'],\n",
    "                                                                            x['boughted']), \n",
    "                                                   axis=1)"
   ]
  },
  {
   "cell_type": "code",
   "execution_count": 28,
   "metadata": {},
   "outputs": [
    {
     "data": {
      "text/plain": [
       "0.7394157663065074"
      ]
     },
     "execution_count": 28,
     "metadata": {},
     "output_type": "execute_result"
    }
   ],
   "source": [
    "result_train['als_precision'].mean()"
   ]
  },
  {
   "cell_type": "code",
   "execution_count": 34,
   "metadata": {},
   "outputs": [
    {
     "name": "stdout",
     "output_type": "stream",
     "text": [
      "CPU times: user 8.35 s, sys: 166 ms, total: 8.51 s\n",
      "Wall time: 4.37 s\n"
     ]
    }
   ],
   "source": [
    "%%time\n",
    "\n",
    "result_test['als_recommendation'] = result_test['user_id'].\\\n",
    "                                        apply(lambda x: get_recommendation(x, model=model, \n",
    "                                                                           sparce_user_item=sparce_t_u_i_test, \n",
    "                                                                           id_to_item_id=id_to_item_id_test, \n",
    "                                                                           user_id_to_id=user_id_to_id_test))"
   ]
  },
  {
   "cell_type": "code",
   "execution_count": 35,
   "metadata": {},
   "outputs": [],
   "source": [
    "result_test['als_precision'] = result_test.apply(lambda x: precision_at_k(x['als_recommendation'],\n",
    "                                                                            x['boughted']), \n",
    "                                                   axis=1)"
   ]
  },
  {
   "cell_type": "code",
   "execution_count": 37,
   "metadata": {},
   "outputs": [
    {
     "data": {
      "text/plain": [
       "0.008814887365328096"
      ]
     },
     "execution_count": 37,
     "metadata": {},
     "output_type": "execute_result"
    }
   ],
   "source": [
    "result_test['als_precision'].mean()"
   ]
  },
  {
   "cell_type": "markdown",
   "metadata": {},
   "source": [
    "### Оптимизация гипперпараметров\n",
    "Для лучшей матрицы весов из первого задания подберите оптимальные $\\lambda$ и n_factors. Подбор можно делать вручную (цикл в цикле, аналог sklearn.GridSearch, или случайно - sklearn.GridSearch). Или Вы можете воспользоваться библиотеками для автоматического подбора гипперпараметров (любые на Ваш вкус). В качестве результата постройте графики:\n",
    "1. Значение параметра - время обучения \n",
    "2. Значение параметра - качество train, качество validation  \n",
    "\n",
    "Сделайте качественные выводы"
   ]
  },
  {
   "cell_type": "code",
   "execution_count": 39,
   "metadata": {},
   "outputs": [],
   "source": [
    "alpha_list = [1e-1, 1e-2, 1e-3, 1e-4]\n",
    "n_factors = [0, 50, 100, 150, 200]"
   ]
  },
  {
   "cell_type": "code",
   "execution_count": 40,
   "metadata": {},
   "outputs": [
    {
     "name": "stdout",
     "output_type": "stream",
     "text": [
      "Модель с regularization = 0.1, factors = 0\n"
     ]
    },
    {
     "data": {
      "application/vnd.jupyter.widget-view+json": {
       "model_id": "c966f6c0ea50451d8ceb1931f27a7081",
       "version_major": 2,
       "version_minor": 0
      },
      "text/plain": [
       "  0%|          | 0/15 [00:00<?, ?it/s]"
      ]
     },
     "metadata": {},
     "output_type": "display_data"
    },
    {
     "name": "stdout",
     "output_type": "stream",
     "text": [
      "Модель с regularization = 0.1, factors = 50\n"
     ]
    },
    {
     "data": {
      "application/vnd.jupyter.widget-view+json": {
       "model_id": "85a5c194e5e1496897ead29e20ec4ec0",
       "version_major": 2,
       "version_minor": 0
      },
      "text/plain": [
       "  0%|          | 0/15 [00:00<?, ?it/s]"
      ]
     },
     "metadata": {},
     "output_type": "display_data"
    },
    {
     "name": "stdout",
     "output_type": "stream",
     "text": [
      "Модель с regularization = 0.1, factors = 100\n"
     ]
    },
    {
     "data": {
      "application/vnd.jupyter.widget-view+json": {
       "model_id": "0cd696bddab844bfa7fb61ff4d1b68fc",
       "version_major": 2,
       "version_minor": 0
      },
      "text/plain": [
       "  0%|          | 0/15 [00:00<?, ?it/s]"
      ]
     },
     "metadata": {},
     "output_type": "display_data"
    },
    {
     "name": "stdout",
     "output_type": "stream",
     "text": [
      "Модель с regularization = 0.1, factors = 150\n"
     ]
    },
    {
     "data": {
      "application/vnd.jupyter.widget-view+json": {
       "model_id": "e337844755014a0c98affcb83e0e0e0a",
       "version_major": 2,
       "version_minor": 0
      },
      "text/plain": [
       "  0%|          | 0/15 [00:00<?, ?it/s]"
      ]
     },
     "metadata": {},
     "output_type": "display_data"
    },
    {
     "name": "stdout",
     "output_type": "stream",
     "text": [
      "Модель с regularization = 0.1, factors = 200\n"
     ]
    },
    {
     "data": {
      "application/vnd.jupyter.widget-view+json": {
       "model_id": "5f5877b7ac6d4b7d9d93e6fbba25861a",
       "version_major": 2,
       "version_minor": 0
      },
      "text/plain": [
       "  0%|          | 0/15 [00:00<?, ?it/s]"
      ]
     },
     "metadata": {},
     "output_type": "display_data"
    },
    {
     "name": "stdout",
     "output_type": "stream",
     "text": [
      "Модель с regularization = 0.01, factors = 0\n"
     ]
    },
    {
     "data": {
      "application/vnd.jupyter.widget-view+json": {
       "model_id": "900d6b21a3024556b3b1947d59b83b8c",
       "version_major": 2,
       "version_minor": 0
      },
      "text/plain": [
       "  0%|          | 0/15 [00:00<?, ?it/s]"
      ]
     },
     "metadata": {},
     "output_type": "display_data"
    },
    {
     "name": "stdout",
     "output_type": "stream",
     "text": [
      "Модель с regularization = 0.01, factors = 50\n"
     ]
    },
    {
     "data": {
      "application/vnd.jupyter.widget-view+json": {
       "model_id": "8e037dfc33694cdda3870961591aab27",
       "version_major": 2,
       "version_minor": 0
      },
      "text/plain": [
       "  0%|          | 0/15 [00:00<?, ?it/s]"
      ]
     },
     "metadata": {},
     "output_type": "display_data"
    },
    {
     "name": "stdout",
     "output_type": "stream",
     "text": [
      "Модель с regularization = 0.01, factors = 100\n"
     ]
    },
    {
     "data": {
      "application/vnd.jupyter.widget-view+json": {
       "model_id": "b69685c608d9478294af2cfdafe2bbfe",
       "version_major": 2,
       "version_minor": 0
      },
      "text/plain": [
       "  0%|          | 0/15 [00:00<?, ?it/s]"
      ]
     },
     "metadata": {},
     "output_type": "display_data"
    },
    {
     "name": "stdout",
     "output_type": "stream",
     "text": [
      "Модель с regularization = 0.01, factors = 150\n"
     ]
    },
    {
     "data": {
      "application/vnd.jupyter.widget-view+json": {
       "model_id": "b5f9eb09fd014cb9937ed1fb6e8e1e37",
       "version_major": 2,
       "version_minor": 0
      },
      "text/plain": [
       "  0%|          | 0/15 [00:00<?, ?it/s]"
      ]
     },
     "metadata": {},
     "output_type": "display_data"
    },
    {
     "name": "stdout",
     "output_type": "stream",
     "text": [
      "Модель с regularization = 0.01, factors = 200\n"
     ]
    },
    {
     "data": {
      "application/vnd.jupyter.widget-view+json": {
       "model_id": "0313ae3ab2424a1f91afb9a96bf620c2",
       "version_major": 2,
       "version_minor": 0
      },
      "text/plain": [
       "  0%|          | 0/15 [00:00<?, ?it/s]"
      ]
     },
     "metadata": {},
     "output_type": "display_data"
    },
    {
     "name": "stdout",
     "output_type": "stream",
     "text": [
      "Модель с regularization = 0.001, factors = 0\n"
     ]
    },
    {
     "data": {
      "application/vnd.jupyter.widget-view+json": {
       "model_id": "2f0fca64a07041f18cf38bb5c789add2",
       "version_major": 2,
       "version_minor": 0
      },
      "text/plain": [
       "  0%|          | 0/15 [00:00<?, ?it/s]"
      ]
     },
     "metadata": {},
     "output_type": "display_data"
    },
    {
     "name": "stdout",
     "output_type": "stream",
     "text": [
      "Модель с regularization = 0.001, factors = 50\n"
     ]
    },
    {
     "data": {
      "application/vnd.jupyter.widget-view+json": {
       "model_id": "3509e839f8e7494f94db3fa9e04060a7",
       "version_major": 2,
       "version_minor": 0
      },
      "text/plain": [
       "  0%|          | 0/15 [00:00<?, ?it/s]"
      ]
     },
     "metadata": {},
     "output_type": "display_data"
    },
    {
     "name": "stdout",
     "output_type": "stream",
     "text": [
      "Модель с regularization = 0.001, factors = 100\n"
     ]
    },
    {
     "data": {
      "application/vnd.jupyter.widget-view+json": {
       "model_id": "c023b9d1b8cd4cdb912d4e1771b1c816",
       "version_major": 2,
       "version_minor": 0
      },
      "text/plain": [
       "  0%|          | 0/15 [00:00<?, ?it/s]"
      ]
     },
     "metadata": {},
     "output_type": "display_data"
    },
    {
     "name": "stdout",
     "output_type": "stream",
     "text": [
      "Модель с regularization = 0.001, factors = 150\n"
     ]
    },
    {
     "data": {
      "application/vnd.jupyter.widget-view+json": {
       "model_id": "2549ddd69a8d404ba12a41e8ff98a2c4",
       "version_major": 2,
       "version_minor": 0
      },
      "text/plain": [
       "  0%|          | 0/15 [00:00<?, ?it/s]"
      ]
     },
     "metadata": {},
     "output_type": "display_data"
    },
    {
     "name": "stdout",
     "output_type": "stream",
     "text": [
      "Модель с regularization = 0.001, factors = 200\n"
     ]
    },
    {
     "data": {
      "application/vnd.jupyter.widget-view+json": {
       "model_id": "acfe8953c2bb4a9e8b535f1da534566d",
       "version_major": 2,
       "version_minor": 0
      },
      "text/plain": [
       "  0%|          | 0/15 [00:00<?, ?it/s]"
      ]
     },
     "metadata": {},
     "output_type": "display_data"
    },
    {
     "name": "stdout",
     "output_type": "stream",
     "text": [
      "Модель с regularization = 0.0001, factors = 0\n"
     ]
    },
    {
     "data": {
      "application/vnd.jupyter.widget-view+json": {
       "model_id": "0d2bd73830fe4760be152db41e69feeb",
       "version_major": 2,
       "version_minor": 0
      },
      "text/plain": [
       "  0%|          | 0/15 [00:00<?, ?it/s]"
      ]
     },
     "metadata": {},
     "output_type": "display_data"
    },
    {
     "name": "stdout",
     "output_type": "stream",
     "text": [
      "Модель с regularization = 0.0001, factors = 50\n"
     ]
    },
    {
     "data": {
      "application/vnd.jupyter.widget-view+json": {
       "model_id": "0a995bbc0475421b930d4ca97bb2a9fa",
       "version_major": 2,
       "version_minor": 0
      },
      "text/plain": [
       "  0%|          | 0/15 [00:00<?, ?it/s]"
      ]
     },
     "metadata": {},
     "output_type": "display_data"
    },
    {
     "name": "stdout",
     "output_type": "stream",
     "text": [
      "Модель с regularization = 0.0001, factors = 100\n"
     ]
    },
    {
     "data": {
      "application/vnd.jupyter.widget-view+json": {
       "model_id": "19da4417074346a8a2e68a7818141f77",
       "version_major": 2,
       "version_minor": 0
      },
      "text/plain": [
       "  0%|          | 0/15 [00:00<?, ?it/s]"
      ]
     },
     "metadata": {},
     "output_type": "display_data"
    },
    {
     "name": "stdout",
     "output_type": "stream",
     "text": [
      "Модель с regularization = 0.0001, factors = 150\n"
     ]
    },
    {
     "data": {
      "application/vnd.jupyter.widget-view+json": {
       "model_id": "2d97ae2604d14d48802805b975109322",
       "version_major": 2,
       "version_minor": 0
      },
      "text/plain": [
       "  0%|          | 0/15 [00:00<?, ?it/s]"
      ]
     },
     "metadata": {},
     "output_type": "display_data"
    },
    {
     "name": "stdout",
     "output_type": "stream",
     "text": [
      "Модель с regularization = 0.0001, factors = 200\n"
     ]
    },
    {
     "data": {
      "application/vnd.jupyter.widget-view+json": {
       "model_id": "2e709c2257f241399c68dce57d09b2fc",
       "version_major": 2,
       "version_minor": 0
      },
      "text/plain": [
       "  0%|          | 0/15 [00:00<?, ?it/s]"
      ]
     },
     "metadata": {},
     "output_type": "display_data"
    }
   ],
   "source": [
    "result_train_list, result_test_list = grid_search(result_train, \n",
    "                                                  result_test, \n",
    "                                                  alpha_list, n_factors, \n",
    "                                                  sparce_t_u_i_train, sparce_u_i_train, \n",
    "                                                  sparce_u_i_test, \n",
    "                                                  id_to_item_id_train, user_id_to_id_train, \n",
    "                                                  id_to_item_id_test, user_id_to_id_test)"
   ]
  },
  {
   "cell_type": "markdown",
   "metadata": {},
   "source": [
    "**P.S.** Не пишите отписки в качестве выводов. Мне интресены Ваши рассуждения, трудности, с которыми Вы сталкнулись и что-то, что Вас удивило. Если выводы контринтуитивны - напишите об этом, в этом нет ничего страшного!"
   ]
  },
  {
   "cell_type": "code",
   "execution_count": 86,
   "metadata": {},
   "outputs": [],
   "source": [
    "a = np.array(result_train_list)\n",
    "b = np.array(result_test_list)"
   ]
  },
  {
   "cell_type": "code",
   "execution_count": 89,
   "metadata": {},
   "outputs": [],
   "source": [
    "result_train_test_list = np.hstack((a, b[:,2:]))"
   ]
  },
  {
   "cell_type": "code",
   "execution_count": 107,
   "metadata": {},
   "outputs": [
    {
     "data": {
      "text/html": [
       "<div>\n",
       "<style scoped>\n",
       "    .dataframe tbody tr th:only-of-type {\n",
       "        vertical-align: middle;\n",
       "    }\n",
       "\n",
       "    .dataframe tbody tr th {\n",
       "        vertical-align: top;\n",
       "    }\n",
       "\n",
       "    .dataframe thead th {\n",
       "        text-align: right;\n",
       "    }\n",
       "</style>\n",
       "<table border=\"1\" class=\"dataframe\">\n",
       "  <thead>\n",
       "    <tr style=\"text-align: right;\">\n",
       "      <th></th>\n",
       "      <th>reg</th>\n",
       "      <th>factors</th>\n",
       "      <th>train_mean_precision</th>\n",
       "      <th>test_mean_precision</th>\n",
       "    </tr>\n",
       "  </thead>\n",
       "  <tbody>\n",
       "    <tr>\n",
       "      <th>0</th>\n",
       "      <td>0.1</td>\n",
       "      <td>0.0</td>\n",
       "      <td>0.060264</td>\n",
       "      <td>0.005387</td>\n",
       "    </tr>\n",
       "    <tr>\n",
       "      <th>1</th>\n",
       "      <td>0.1</td>\n",
       "      <td>50.0</td>\n",
       "      <td>0.626811</td>\n",
       "      <td>0.057982</td>\n",
       "    </tr>\n",
       "  </tbody>\n",
       "</table>\n",
       "</div>"
      ],
      "text/plain": [
       "   reg  factors  train_mean_precision  test_mean_precision\n",
       "0  0.1      0.0              0.060264             0.005387\n",
       "1  0.1     50.0              0.626811             0.057982"
      ]
     },
     "execution_count": 107,
     "metadata": {},
     "output_type": "execute_result"
    }
   ],
   "source": [
    "df_results = pd.DataFrame(result_train_test_list, \n",
    "                          columns=['reg', 'factors', 'train_mean_precision', 'test_mean_precision'])\n",
    "df_results.head(2)"
   ]
  },
  {
   "cell_type": "code",
   "execution_count": 100,
   "metadata": {},
   "outputs": [],
   "source": [
    "reg_1e_1 = df_results.loc[df_results['reg'] == 1e-1, ['factors', 'train_mean_precision', 'test_mean_precision']]\n",
    "reg_1e_2 = df_results.loc[df_results['reg'] == 1e-2, ['factors', 'train_mean_precision', 'test_mean_precision']]\n",
    "reg_1e_3 = df_results.loc[df_results['reg'] == 1e-3, ['factors', 'train_mean_precision', 'test_mean_precision']]\n",
    "reg_1e_4 = df_results.loc[df_results['reg'] == 1e-4, ['factors', 'train_mean_precision', 'test_mean_precision']]"
   ]
  },
  {
   "cell_type": "markdown",
   "metadata": {},
   "source": [
    "#### Значение регуляризации 0.1"
   ]
  },
  {
   "cell_type": "code",
   "execution_count": 103,
   "metadata": {},
   "outputs": [
    {
     "data": {
      "image/png": "[encoded data removed]",
      "text/plain": [
       "<Figure size 432x288 with 1 Axes>"
      ]
     },
     "metadata": {
      "needs_background": "light"
     },
     "output_type": "display_data"
    }
   ],
   "source": [
    "train_test_scores_plot(reg_1e_1)"
   ]
  },
  {
   "cell_type": "markdown",
   "metadata": {},
   "source": [
    "##### Значение регуляризации 0.01"
   ]
  },
  {
   "cell_type": "code",
   "execution_count": 104,
   "metadata": {},
   "outputs": [
    {
     "data": {
      "image/png": "[encoded data removed]",
      "text/plain": [
       "<Figure size 432x288 with 1 Axes>"
      ]
     },
     "metadata": {
      "needs_background": "light"
     },
     "output_type": "display_data"
    }
   ],
   "source": [
    "train_test_scores_plot(reg_1e_2)"
   ]
  },
  {
   "cell_type": "markdown",
   "metadata": {},
   "source": [
    "##### Значение регуляризации 0.001"
   ]
  },
  {
   "cell_type": "code",
   "execution_count": 105,
   "metadata": {},
   "outputs": [
    {
     "data": {
      "image/png": "[encoded data removed]",
      "text/plain": [
       "<Figure size 432x288 with 1 Axes>"
      ]
     },
     "metadata": {
      "needs_background": "light"
     },
     "output_type": "display_data"
    }
   ],
   "source": [
    "train_test_scores_plot(reg_1e_3)"
   ]
  },
  {
   "cell_type": "markdown",
   "metadata": {},
   "source": [
    "##### Значение регуляризации 0.0001"
   ]
  },
  {
   "cell_type": "code",
   "execution_count": 106,
   "metadata": {},
   "outputs": [
    {
     "data": {
      "image/png": "[encoded data removed]",
      "text/plain": [
       "<Figure size 432x288 with 1 Axes>"
      ]
     },
     "metadata": {
      "needs_background": "light"
     },
     "output_type": "display_data"
    }
   ],
   "source": [
    "train_test_scores_plot(reg_1e_4)"
   ]
  },
  {
   "cell_type": "code",
   "execution_count": null,
   "metadata": {},
   "outputs": [],
   "source": []
  },
  {
   "cell_type": "markdown",
   "metadata": {},
   "source": [
    "Из графиков выше видно что регуляризация не так сильно влияет на конечную метрику как число факторов. Но все же снижение регуляризации немного увеличивает качетво precition@k"
   ]
  }
 ],
 "metadata": {
  "kernelspec": {
   "display_name": "Python 3",
   "language": "python",
   "name": "python3"
  },
  "language_info": {
   "codemirror_mode": {
    "name": "ipython",
    "version": 3
   },
   "file_extension": ".py",
   "mimetype": "text/x-python",
   "name": "python",
   "nbconvert_exporter": "python",
   "pygments_lexer": "ipython3",
   "version": "3.8.5"
  }
 },
 "nbformat": 4,
 "nbformat_minor": 2
}
