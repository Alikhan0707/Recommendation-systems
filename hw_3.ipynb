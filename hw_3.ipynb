{
 "cells": [
  {
   "cell_type": "markdown",
   "metadata": {},
   "source": [
    "## Теоретическая часть"
   ]
  },
  {
   "cell_type": "markdown",
   "metadata": {},
   "source": [
    "#### 1. Вспомним прошлый вебинар, мы рассматривали User-User рекомендации и Item-Item рекомендации. Чем они отличаются и чем они похожи? Если есть функция item_item_rec(interaction_matrix). Можно ли использовать эту функцию для user_user_rec?  В чем принципиальные отличия item-item рекомендаций от ALS?"
   ]
  },
  {
   "cell_type": "markdown",
   "metadata": {},
   "source": [
    "1. Отличие user-user и item-item рекомендации заключается в количестве. Как правило количество юзеров может расти быстрей и больше чем количество товаров ...\n",
    "2. Да можно, т.к. мы производим расчеты на одной и той же матрице. Просто нужно ее транпонировать перед тем как подавать в функцию item_item_rec"
   ]
  },
  {
   "cell_type": "markdown",
   "metadata": {},
   "source": [
    "3. Принципиальное отличие заключается в нахождении градинта в методе ALS, тогда как в ItemItem мы просто считаем похожесть товаров(пользоватлей)."
   ]
  },
  {
   "cell_type": "markdown",
   "metadata": {},
   "source": [
    "#### 2. Приведите 3 примера весов (те, которых не было на вебинаре: сумма покупок, количество покупок - неинтересно) user-item матрицы для задачи рекомендаций товаров \n"
   ]
  },
  {
   "cell_type": "markdown",
   "metadata": {},
   "source": [
    "В качестве весов можно использовать количество лайков, рейтинг товара, "
   ]
  },
  {
   "cell_type": "markdown",
   "metadata": {},
   "source": [
    "#### 3. Какие ограничения есть у ALS? (Тип информации, линейность/нелинейность факторов и т д)\n"
   ]
  },
  {
   "cell_type": "markdown",
   "metadata": {},
   "source": [
    "плохо работает с категориальными признаками,"
   ]
  },
  {
   "cell_type": "markdown",
   "metadata": {},
   "source": [
    "#### 4. Мы рассматривали bm_25_weight. Опишите, как он работает. Как сделать рекомендации только на основе bm_25? (Можно и нужно пользоваться любыми источниками, приложите на них ссылки). Какие еще способы перевзвешивания user-item матрицы Вы знаете / можете предложить (ещё 2-3 способа)?"
   ]
  },
  {
   "cell_type": "markdown",
   "metadata": {},
   "source": []
  },
  {
   "cell_type": "markdown",
   "metadata": {},
   "source": [
    "## Практическая часть\n"
   ]
  },
  {
   "cell_type": "code",
   "execution_count": 1,
   "metadata": {},
   "outputs": [],
   "source": [
    "%matplotlib inline\n",
    "\n",
    "import implicit\n",
    "\n",
    "import numpy as np\n",
    "import pandas as pd\n",
    "import matplotlib.pyplot as plt\n",
    "\n",
    "from sklearn.model_selection import GridSearchCV\n",
    "\n",
    "from scipy.sparse import csr_matrix\n",
    "\n",
    "from implicit.als import AlternatingLeastSquares\n",
    "from implicit.nearest_neighbours import bm25_weight, tfidf_weight\n",
    "from implicit.nearest_neighbours import ItemItemRecommender\n",
    "\n",
    "from src.metrics import precision_at_k"
   ]
  },
  {
   "cell_type": "code",
   "execution_count": 2,
   "metadata": {},
   "outputs": [],
   "source": [
    "item_of_nines = 999999"
   ]
  },
  {
   "cell_type": "code",
   "execution_count": 3,
   "metadata": {},
   "outputs": [],
   "source": [
    "def train_test_split_by_week(df, name_of_week_column, test_size_weeks):\n",
    "    \n",
    "    week_ratio = df[name_of_week_column].max() - test_size_weeks\n",
    "    \n",
    "    df_train = df[df[name_of_week_column] < week_ratio]\n",
    "    df_test = df[df[name_of_week_column] >= week_ratio]\n",
    "    \n",
    "    return df_train, df_test"
   ]
  },
  {
   "cell_type": "code",
   "execution_count": 4,
   "metadata": {},
   "outputs": [],
   "source": [
    "def group_df_by(df, grouped_feat, second_feat, new_name_of_second_feat, pick_method):\n",
    "    \n",
    "    if pick_method == 'unique':\n",
    "        grouped_df = df.groupby(grouped_feat)[second_feat].unique().reset_index()\n",
    "        grouped_df.rename(columns={second_feat: new_name_of_second_feat}, inplace=True)\n",
    "    \n",
    "    elif pick_method == 'sum':\n",
    "        grouped_df = df.groupby(grouped_feat)[second_feat].sum().reset_index()\n",
    "        grouped_df.rename(columns={second_feat: new_name_of_second_feat}, inplace=True)\n",
    "    \n",
    "    return grouped_df"
   ]
  },
  {
   "cell_type": "code",
   "execution_count": 5,
   "metadata": {},
   "outputs": [],
   "source": [
    "def df_to_user_item_matrix(df, top_items):\n",
    "    df_of_top = df.copy()\n",
    "    df_of_top.loc[~df_of_top['item_id'].isin(top_items), 'item_id'] = item_of_nines\n",
    "\n",
    "    user_item_matrix = pd.pivot_table(df_of_top, \n",
    "                                      index='user_id', \n",
    "                                      columns='item_id', \n",
    "                                      values='quantity', \n",
    "                                      aggfunc='count', \n",
    "                                      fill_value=0)\n",
    "\n",
    "    user_item_matrix = user_item_matrix.astype(float)\n",
    "\n",
    "    sparce_user_item = csr_matrix(user_item_matrix).tocsr()\n",
    "\n",
    "    sparce_t_user_item = csr_matrix(user_item_matrix).T.tocsr()\n",
    "    \n",
    "    return df_of_top, user_item_matrix, sparce_user_item, sparce_t_user_item"
   ]
  },
  {
   "cell_type": "code",
   "execution_count": 6,
   "metadata": {},
   "outputs": [],
   "source": [
    "def group_df_train_and_test(train, test, groupby_feat, second_feat, rename_column, aggfunc):\n",
    "    \n",
    "    assert aggfunc in ['unique', 'sum'], 'aggfunc принимает значения unique, sum'\n",
    "    \n",
    "    train_df = group_df_by(train, groupby_feat, second_feat, rename_column, aggfunc)\n",
    "    test_df = group_df_by(test, groupby_feat, second_feat, rename_column, aggfunc)\n",
    "        \n",
    "    return train_df, test_df"
   ]
  },
  {
   "cell_type": "code",
   "execution_count": 7,
   "metadata": {},
   "outputs": [],
   "source": [
    "def change_ids(matrix):\n",
    "    user_id = matrix.index.values\n",
    "    item_id = matrix.columns.values\n",
    "    \n",
    "    matrix_user_id = np.arange(len(user_id))\n",
    "    matrix_item_id = np.arange(len(item_id))\n",
    "    \n",
    "    id_to_user_id = dict(zip(matrix_user_id, user_id))\n",
    "    id_to_item_id = dict(zip(matrix_item_id, item_id))\n",
    "    \n",
    "    user_id_to_id = dict(zip(user_id, matrix_user_id))\n",
    "    item_id_to_id = dict(zip(item_id, matrix_item_id))\n",
    "    \n",
    "    return id_to_user_id, id_to_item_id, item_id_to_id, user_id_to_id"
   ]
  },
  {
   "cell_type": "code",
   "execution_count": 8,
   "metadata": {},
   "outputs": [],
   "source": [
    "def get_recommendation(user, model, sparce_user_item, id_to_item_id, user_id_to_id, N=5):\n",
    "    \n",
    "    res = [id_to_item_id[rec[0]] for rec in model.recommend(userid=user_id_to_id[user], \n",
    "                                                            user_items=sparce_user_item, \n",
    "                                                            N=N, \n",
    "                                                            filter_already_liked_items=False, \n",
    "                                                            filter_items=None, \n",
    "                                                            recalculate_user=True)]\n",
    "    \n",
    "    return res"
   ]
  },
  {
   "cell_type": "code",
   "execution_count": 9,
   "metadata": {},
   "outputs": [],
   "source": [
    "def grid_search(train, test, reg_list, factors_list, sparce_t_matrix_train, \n",
    "                sparce_matrix_train, id_to_item_id_train, user_id_to_id_train):\n",
    "    \n",
    "    result_train_list = []\n",
    "    result_test_list = []\n",
    "    \n",
    "    for alpha in reg_list:\n",
    "\n",
    "        for factors in factors_list:\n",
    "            \n",
    "            model2 = AlternatingLeastSquares(factors=factors, \n",
    "                                    regularization=alpha, \n",
    "                                    iterations=15, \n",
    "                                    calculate_training_loss=True)\n",
    "            print(f'Модель с regularization = {alpha}, factors = {factors}')\n",
    "            model2.fit(sparce_t_matrix_train, show_progress=True)\n",
    "            \n",
    "            # Train\n",
    "            train[f'als_l_{alpha}__factors_{factors}'] = \\\n",
    "                train['user_id'].apply(lambda x: get_recommendation(x, model=model2, \n",
    "                                                                     sparce_user_item=sparce_matrix_train, \n",
    "                                                                     id_to_item_id=id_to_item_id_train, \n",
    "                                                                     user_id_to_id=user_id_to_id_train))\n",
    "\n",
    "            train[f'als_prec_l_{alpha}__factors_{factors}'] = \\\n",
    "                train.apply(lambda x: precision_at_k(x[f'als_l_{alpha}__factors_{factors}'], x['boughted']), \n",
    "                                                                            axis=1)\n",
    "            precision_train_mean = train[f'als_prec_l_{alpha}__factors_{factors}'].mean()\n",
    "            \n",
    "            # Test\n",
    "            \n",
    "            test[f'als_l_{alpha}__factors_{factors}'] = \\\n",
    "                test['user_id'].apply(lambda x: get_recommendation(x, model=model2, \n",
    "                                                                     sparce_user_item=sparce_matrix_train, \n",
    "                                                                     id_to_item_id=id_to_item_id_train, \n",
    "                                                                     user_id_to_id=user_id_to_id_train))\n",
    "\n",
    "            test[f'als_prec_l_{alpha}__factors_{factors}'] = \\\n",
    "                test.apply(lambda x: precision_at_k(x[f'als_l_{alpha}__factors_{factors}'], x['boughted']), \n",
    "                                                                            axis=1)\n",
    "            \n",
    "            precision_test_mean = test[f'als_prec_l_{alpha}__factors_{factors}'].mean()\n",
    "\n",
    "            result_train_list.append((alpha, factors, precision_train_mean))\n",
    "            result_test_list.append((alpha, factors, precision_test_mean))\n",
    "            \n",
    "    return result_train_list, result_test_list"
   ]
  },
  {
   "cell_type": "code",
   "execution_count": 10,
   "metadata": {},
   "outputs": [],
   "source": [
    "def train_test_scores_plot(df):\n",
    "    factors = df['factors'].values.tolist()\n",
    "    train_scores = df['train_mean_precision'].values.tolist()\n",
    "    test_scores = df['test_mean_precision'].values.tolist()\n",
    "    \n",
    "    plt.plot(factors, train_scores, label='Train line')\n",
    "    plt.plot(factors, test_scores, label='Test line')\n",
    "    \n",
    "    plt.legend()\n",
    "    \n",
    "    plt.show()"
   ]
  },
  {
   "cell_type": "code",
   "execution_count": 11,
   "metadata": {},
   "outputs": [],
   "source": [
    "data = pd.read_csv('../урок 2/retail_train.csv')\n",
    "\n",
    "data.columns = [col.lower() for col in data.columns]\n",
    "data.rename(columns={'household_key': 'user_id', \n",
    "                     'product_id': 'item_id'}, \n",
    "            inplace=True)\n",
    "\n",
    "data_train, data_test = train_test_split_by_week(data, 'week_no', 3)"
   ]
  },
  {
   "cell_type": "code",
   "execution_count": 12,
   "metadata": {},
   "outputs": [
    {
     "data": {
      "text/plain": [
       "((2278490, 12), (118314, 12))"
      ]
     },
     "execution_count": 12,
     "metadata": {},
     "output_type": "execute_result"
    }
   ],
   "source": [
    "data_train.shape, data_test.shape"
   ]
  },
  {
   "cell_type": "code",
   "execution_count": 13,
   "metadata": {},
   "outputs": [],
   "source": [
    "result_train, result_test = group_df_train_and_test(data_train, \n",
    "                                                    data_test, \n",
    "                                                    'user_id', \n",
    "                                                    'item_id', \n",
    "                                                    'boughted', \n",
    "                                                    'unique')"
   ]
  },
  {
   "cell_type": "code",
   "execution_count": 14,
   "metadata": {},
   "outputs": [
    {
     "data": {
      "text/html": [
       "<div>\n",
       "<style scoped>\n",
       "    .dataframe tbody tr th:only-of-type {\n",
       "        vertical-align: middle;\n",
       "    }\n",
       "\n",
       "    .dataframe tbody tr th {\n",
       "        vertical-align: top;\n",
       "    }\n",
       "\n",
       "    .dataframe thead th {\n",
       "        text-align: right;\n",
       "    }\n",
       "</style>\n",
       "<table border=\"1\" class=\"dataframe\">\n",
       "  <thead>\n",
       "    <tr style=\"text-align: right;\">\n",
       "      <th></th>\n",
       "      <th>user_id</th>\n",
       "      <th>boughted</th>\n",
       "    </tr>\n",
       "  </thead>\n",
       "  <tbody>\n",
       "    <tr>\n",
       "      <th>0</th>\n",
       "      <td>1</td>\n",
       "      <td>[825123, 831447, 840361, 845307, 852014, 85498...</td>\n",
       "    </tr>\n",
       "    <tr>\n",
       "      <th>1</th>\n",
       "      <td>2</td>\n",
       "      <td>[854852, 930118, 1077555, 1098066, 5567388, 55...</td>\n",
       "    </tr>\n",
       "  </tbody>\n",
       "</table>\n",
       "</div>"
      ],
      "text/plain": [
       "   user_id                                           boughted\n",
       "0        1  [825123, 831447, 840361, 845307, 852014, 85498...\n",
       "1        2  [854852, 930118, 1077555, 1098066, 5567388, 55..."
      ]
     },
     "execution_count": 14,
     "metadata": {},
     "output_type": "execute_result"
    }
   ],
   "source": [
    "result_train.head(2)"
   ]
  },
  {
   "cell_type": "code",
   "execution_count": 15,
   "metadata": {},
   "outputs": [
    {
     "data": {
      "text/html": [
       "<div>\n",
       "<style scoped>\n",
       "    .dataframe tbody tr th:only-of-type {\n",
       "        vertical-align: middle;\n",
       "    }\n",
       "\n",
       "    .dataframe tbody tr th {\n",
       "        vertical-align: top;\n",
       "    }\n",
       "\n",
       "    .dataframe thead th {\n",
       "        text-align: right;\n",
       "    }\n",
       "</style>\n",
       "<table border=\"1\" class=\"dataframe\">\n",
       "  <thead>\n",
       "    <tr style=\"text-align: right;\">\n",
       "      <th></th>\n",
       "      <th>user_id</th>\n",
       "      <th>boughted</th>\n",
       "    </tr>\n",
       "  </thead>\n",
       "  <tbody>\n",
       "    <tr>\n",
       "      <th>0</th>\n",
       "      <td>1</td>\n",
       "      <td>[821867, 834484, 856942, 865456, 889248, 90795...</td>\n",
       "    </tr>\n",
       "    <tr>\n",
       "      <th>1</th>\n",
       "      <td>3</td>\n",
       "      <td>[835476, 851057, 872021, 878302, 879948, 90963...</td>\n",
       "    </tr>\n",
       "  </tbody>\n",
       "</table>\n",
       "</div>"
      ],
      "text/plain": [
       "   user_id                                           boughted\n",
       "0        1  [821867, 834484, 856942, 865456, 889248, 90795...\n",
       "1        3  [835476, 851057, 872021, 878302, 879948, 90963..."
      ]
     },
     "execution_count": 15,
     "metadata": {},
     "output_type": "execute_result"
    }
   ],
   "source": [
    "result_test.head(2)"
   ]
  },
  {
   "cell_type": "code",
   "execution_count": 16,
   "metadata": {},
   "outputs": [],
   "source": [
    "popular_items_train, popular_items_test = group_df_train_and_test(data_train, \n",
    "                                                                  data_test, \n",
    "                                                                  'item_id', \n",
    "                                                                  'quantity', \n",
    "                                                                  'n_sold', \n",
    "                                                                  'sum')"
   ]
  },
  {
   "cell_type": "code",
   "execution_count": 17,
   "metadata": {},
   "outputs": [
    {
     "data": {
      "text/html": [
       "<div>\n",
       "<style scoped>\n",
       "    .dataframe tbody tr th:only-of-type {\n",
       "        vertical-align: middle;\n",
       "    }\n",
       "\n",
       "    .dataframe tbody tr th {\n",
       "        vertical-align: top;\n",
       "    }\n",
       "\n",
       "    .dataframe thead th {\n",
       "        text-align: right;\n",
       "    }\n",
       "</style>\n",
       "<table border=\"1\" class=\"dataframe\">\n",
       "  <thead>\n",
       "    <tr style=\"text-align: right;\">\n",
       "      <th></th>\n",
       "      <th>item_id</th>\n",
       "      <th>n_sold</th>\n",
       "    </tr>\n",
       "  </thead>\n",
       "  <tbody>\n",
       "    <tr>\n",
       "      <th>0</th>\n",
       "      <td>25671</td>\n",
       "      <td>6</td>\n",
       "    </tr>\n",
       "    <tr>\n",
       "      <th>1</th>\n",
       "      <td>26081</td>\n",
       "      <td>1</td>\n",
       "    </tr>\n",
       "  </tbody>\n",
       "</table>\n",
       "</div>"
      ],
      "text/plain": [
       "   item_id  n_sold\n",
       "0    25671       6\n",
       "1    26081       1"
      ]
     },
     "execution_count": 17,
     "metadata": {},
     "output_type": "execute_result"
    }
   ],
   "source": [
    "popular_items_train.head(2)"
   ]
  },
  {
   "cell_type": "code",
   "execution_count": 18,
   "metadata": {},
   "outputs": [
    {
     "data": {
      "text/html": [
       "<div>\n",
       "<style scoped>\n",
       "    .dataframe tbody tr th:only-of-type {\n",
       "        vertical-align: middle;\n",
       "    }\n",
       "\n",
       "    .dataframe tbody tr th {\n",
       "        vertical-align: top;\n",
       "    }\n",
       "\n",
       "    .dataframe thead th {\n",
       "        text-align: right;\n",
       "    }\n",
       "</style>\n",
       "<table border=\"1\" class=\"dataframe\">\n",
       "  <thead>\n",
       "    <tr style=\"text-align: right;\">\n",
       "      <th></th>\n",
       "      <th>item_id</th>\n",
       "      <th>n_sold</th>\n",
       "    </tr>\n",
       "  </thead>\n",
       "  <tbody>\n",
       "    <tr>\n",
       "      <th>0</th>\n",
       "      <td>29512</td>\n",
       "      <td>1</td>\n",
       "    </tr>\n",
       "    <tr>\n",
       "      <th>1</th>\n",
       "      <td>30356</td>\n",
       "      <td>1</td>\n",
       "    </tr>\n",
       "  </tbody>\n",
       "</table>\n",
       "</div>"
      ],
      "text/plain": [
       "   item_id  n_sold\n",
       "0    29512       1\n",
       "1    30356       1"
      ]
     },
     "execution_count": 18,
     "metadata": {},
     "output_type": "execute_result"
    }
   ],
   "source": [
    "popular_items_test.head(2)"
   ]
  },
  {
   "cell_type": "code",
   "execution_count": 19,
   "metadata": {},
   "outputs": [],
   "source": [
    "top_5000_train = popular_items_train.sort_values('n_sold', ascending=False).head(5000).item_id.tolist()\n",
    "top_5000_test = popular_items_test.sort_values('n_sold', ascending=False).head(5000).item_id.tolist()"
   ]
  },
  {
   "cell_type": "code",
   "execution_count": 20,
   "metadata": {},
   "outputs": [],
   "source": [
    "df_top_5000_train, \\\n",
    "u_i_matrix_train, \\\n",
    "sparce_u_i_train, \\\n",
    "sparce_t_u_i_train = df_to_user_item_matrix(data_train, top_items=top_5000_train)"
   ]
  },
  {
   "cell_type": "code",
   "execution_count": 21,
   "metadata": {},
   "outputs": [],
   "source": [
    "df_top_5000_test,\\\n",
    "u_i_matrix_test,\\\n",
    "sparce_u_i_test,\\\n",
    "sparce_t_u_i_test = df_to_user_item_matrix(data_test, top_items=top_5000_test)"
   ]
  },
  {
   "cell_type": "code",
   "execution_count": 22,
   "metadata": {},
   "outputs": [],
   "source": [
    "id_to_user_id_train, \\\n",
    "id_to_item_id_train, \\\n",
    "item_id_to_id_train, \\\n",
    "user_id_to_id_train = change_ids(u_i_matrix_train)"
   ]
  },
  {
   "cell_type": "code",
   "execution_count": 23,
   "metadata": {},
   "outputs": [],
   "source": [
    "id_to_user_id_test, \\\n",
    "id_to_item_id_test, \\\n",
    "item_id_to_id_test, \\\n",
    "user_id_to_id_test = change_ids(u_i_matrix_test)"
   ]
  },
  {
   "cell_type": "markdown",
   "metadata": {},
   "source": [
    "### Подбор матрицы $c_{ui}$\n",
    "Попробуйте различные варианты матрицы весов (3+ вариантов). Обучите алгоритм для различных $C$. В качестве результата приведите таблицу: матрица весов - результат на train и validation.\n",
    "Сделате качественные выводы.\n"
   ]
  },
  {
   "cell_type": "code",
   "execution_count": 24,
   "metadata": {},
   "outputs": [
    {
     "name": "stderr",
     "output_type": "stream",
     "text": [
      "WARNING:root:Intel MKL BLAS detected. Its highly recommend to set the environment variable 'export MKL_NUM_THREADS=1' to disable its internal multithreading\n"
     ]
    },
    {
     "data": {
      "application/vnd.jupyter.widget-view+json": {
       "model_id": "0200830f62374f539fb932e43e6d70fb",
       "version_major": 2,
       "version_minor": 0
      },
      "text/plain": [
       "  0%|          | 0/15 [00:00<?, ?it/s]"
      ]
     },
     "metadata": {},
     "output_type": "display_data"
    }
   ],
   "source": [
    "model = AlternatingLeastSquares(factors=100, \n",
    "                                regularization=1e-3, \n",
    "                                iterations=15, \n",
    "                                calculate_training_loss=True,\n",
    "                                num_threads=1)\n",
    "\n",
    "model.fit(sparce_t_u_i_train, show_progress=True)"
   ]
  },
  {
   "cell_type": "code",
   "execution_count": 25,
   "metadata": {},
   "outputs": [
    {
     "name": "stdout",
     "output_type": "stream",
     "text": [
      "CPU times: user 1min 16s, sys: 2.17 s, total: 1min 18s\n",
      "Wall time: 45.1 s\n"
     ]
    }
   ],
   "source": [
    "%%time\n",
    "\n",
    "result_train['als_recommendation'] = result_train['user_id']\\\n",
    "                                        .apply(lambda x: get_recommendation(x, model=model, \n",
    "                                                                           sparce_user_item=sparce_u_i_train, \n",
    "                                                                           id_to_item_id=id_to_item_id_train, \n",
    "                                                                           user_id_to_id=user_id_to_id_train))"
   ]
  },
  {
   "cell_type": "code",
   "execution_count": 26,
   "metadata": {},
   "outputs": [],
   "source": [
    "result_train['als_precision'] = result_train.apply(lambda x: precision_at_k(x['als_recommendation'],\n",
    "                                                                            x['boughted']), \n",
    "                                                   axis=1)"
   ]
  },
  {
   "cell_type": "code",
   "execution_count": 27,
   "metadata": {},
   "outputs": [
    {
     "data": {
      "text/plain": [
       "0.7362144857943039"
      ]
     },
     "execution_count": 27,
     "metadata": {},
     "output_type": "execute_result"
    }
   ],
   "source": [
    "result_train['als_precision'].mean()"
   ]
  },
  {
   "cell_type": "code",
   "execution_count": 28,
   "metadata": {},
   "outputs": [
    {
     "name": "stdout",
     "output_type": "stream",
     "text": [
      "CPU times: user 1min 10s, sys: 2.11 s, total: 1min 12s\n",
      "Wall time: 41.3 s\n"
     ]
    }
   ],
   "source": [
    "%%time\n",
    "\n",
    "result_test['als_recommendation'] = result_test['user_id']\\\n",
    "                                        .apply(lambda x: get_recommendation(x, model=model, \n",
    "                                                                           sparce_user_item=sparce_u_i_train, \n",
    "                                                                           id_to_item_id=id_to_item_id_train, \n",
    "                                                                           user_id_to_id=user_id_to_id_train))"
   ]
  },
  {
   "cell_type": "code",
   "execution_count": 29,
   "metadata": {},
   "outputs": [],
   "source": [
    "result_test['als_precision'] = result_test.apply(lambda x: precision_at_k(x['als_recommendation'],\n",
    "                                                                            x['boughted']), \n",
    "                                                   axis=1)"
   ]
  },
  {
   "cell_type": "code",
   "execution_count": 30,
   "metadata": {},
   "outputs": [
    {
     "data": {
      "text/plain": [
       "0.15964740450538464"
      ]
     },
     "execution_count": 30,
     "metadata": {},
     "output_type": "execute_result"
    }
   ],
   "source": [
    "result_test['als_precision'].mean()"
   ]
  },
  {
   "cell_type": "markdown",
   "metadata": {},
   "source": [
    "### Оптимизация гипперпараметров\n",
    "Для лучшей матрицы весов из первого задания подберите оптимальные $\\lambda$ и n_factors. Подбор можно делать вручную (цикл в цикле, аналог sklearn.GridSearch, или случайно - sklearn.GridSearch). Или Вы можете воспользоваться библиотеками для автоматического подбора гипперпараметров (любые на Ваш вкус). В качестве результата постройте графики:\n",
    "1. Значение параметра - время обучения \n",
    "2. Значение параметра - качество train, качество validation  \n",
    "\n",
    "Сделайте качественные выводы"
   ]
  },
  {
   "cell_type": "code",
   "execution_count": 31,
   "metadata": {},
   "outputs": [],
   "source": [
    "alpha_list = [1e-1, 1e-2, 1e-3, 1e-4]\n",
    "n_factors = [0, 50, 100, 150, 200]"
   ]
  },
  {
   "cell_type": "code",
   "execution_count": 32,
   "metadata": {},
   "outputs": [
    {
     "name": "stdout",
     "output_type": "stream",
     "text": [
      "Модель с regularization = 0.1, factors = 0\n"
     ]
    },
    {
     "data": {
      "application/vnd.jupyter.widget-view+json": {
       "model_id": "16a8f635feaa4f4191b396fc158567c2",
       "version_major": 2,
       "version_minor": 0
      },
      "text/plain": [
       "  0%|          | 0/15 [00:00<?, ?it/s]"
      ]
     },
     "metadata": {},
     "output_type": "display_data"
    },
    {
     "name": "stdout",
     "output_type": "stream",
     "text": [
      "Модель с regularization = 0.1, factors = 50\n"
     ]
    },
    {
     "data": {
      "application/vnd.jupyter.widget-view+json": {
       "model_id": "f99b809c098c4e9baeb1981df37a29dc",
       "version_major": 2,
       "version_minor": 0
      },
      "text/plain": [
       "  0%|          | 0/15 [00:00<?, ?it/s]"
      ]
     },
     "metadata": {},
     "output_type": "display_data"
    },
    {
     "name": "stdout",
     "output_type": "stream",
     "text": [
      "Модель с regularization = 0.1, factors = 100\n"
     ]
    },
    {
     "data": {
      "application/vnd.jupyter.widget-view+json": {
       "model_id": "d19c686bbc7b4cb198f5814176cfd97f",
       "version_major": 2,
       "version_minor": 0
      },
      "text/plain": [
       "  0%|          | 0/15 [00:00<?, ?it/s]"
      ]
     },
     "metadata": {},
     "output_type": "display_data"
    },
    {
     "name": "stdout",
     "output_type": "stream",
     "text": [
      "Модель с regularization = 0.1, factors = 150\n"
     ]
    },
    {
     "data": {
      "application/vnd.jupyter.widget-view+json": {
       "model_id": "bfc490ef44ea45c9bbb88f89a15595dc",
       "version_major": 2,
       "version_minor": 0
      },
      "text/plain": [
       "  0%|          | 0/15 [00:00<?, ?it/s]"
      ]
     },
     "metadata": {},
     "output_type": "display_data"
    },
    {
     "name": "stdout",
     "output_type": "stream",
     "text": [
      "Модель с regularization = 0.1, factors = 200\n"
     ]
    },
    {
     "data": {
      "application/vnd.jupyter.widget-view+json": {
       "model_id": "8b5d679005c94fdb9d2fbd486bcf8920",
       "version_major": 2,
       "version_minor": 0
      },
      "text/plain": [
       "  0%|          | 0/15 [00:00<?, ?it/s]"
      ]
     },
     "metadata": {},
     "output_type": "display_data"
    },
    {
     "name": "stdout",
     "output_type": "stream",
     "text": [
      "Модель с regularization = 0.01, factors = 0\n"
     ]
    },
    {
     "data": {
      "application/vnd.jupyter.widget-view+json": {
       "model_id": "c6dcc2c05b874991bce8ad99ddb8a4a3",
       "version_major": 2,
       "version_minor": 0
      },
      "text/plain": [
       "  0%|          | 0/15 [00:00<?, ?it/s]"
      ]
     },
     "metadata": {},
     "output_type": "display_data"
    },
    {
     "name": "stdout",
     "output_type": "stream",
     "text": [
      "Модель с regularization = 0.01, factors = 50\n"
     ]
    },
    {
     "data": {
      "application/vnd.jupyter.widget-view+json": {
       "model_id": "b0912871f9574980a1c72c5d10089731",
       "version_major": 2,
       "version_minor": 0
      },
      "text/plain": [
       "  0%|          | 0/15 [00:00<?, ?it/s]"
      ]
     },
     "metadata": {},
     "output_type": "display_data"
    },
    {
     "name": "stdout",
     "output_type": "stream",
     "text": [
      "Модель с regularization = 0.01, factors = 100\n"
     ]
    },
    {
     "data": {
      "application/vnd.jupyter.widget-view+json": {
       "model_id": "e189ab14111441769908ac03cd411d83",
       "version_major": 2,
       "version_minor": 0
      },
      "text/plain": [
       "  0%|          | 0/15 [00:00<?, ?it/s]"
      ]
     },
     "metadata": {},
     "output_type": "display_data"
    },
    {
     "name": "stdout",
     "output_type": "stream",
     "text": [
      "Модель с regularization = 0.01, factors = 150\n"
     ]
    },
    {
     "data": {
      "application/vnd.jupyter.widget-view+json": {
       "model_id": "905ffc65c284471e90fc10d35bc0e1de",
       "version_major": 2,
       "version_minor": 0
      },
      "text/plain": [
       "  0%|          | 0/15 [00:00<?, ?it/s]"
      ]
     },
     "metadata": {},
     "output_type": "display_data"
    },
    {
     "name": "stdout",
     "output_type": "stream",
     "text": [
      "Модель с regularization = 0.01, factors = 200\n"
     ]
    },
    {
     "data": {
      "application/vnd.jupyter.widget-view+json": {
       "model_id": "fd41779fdc8e42bd99fe60be0eb128f0",
       "version_major": 2,
       "version_minor": 0
      },
      "text/plain": [
       "  0%|          | 0/15 [00:00<?, ?it/s]"
      ]
     },
     "metadata": {},
     "output_type": "display_data"
    },
    {
     "name": "stdout",
     "output_type": "stream",
     "text": [
      "Модель с regularization = 0.001, factors = 0\n"
     ]
    },
    {
     "data": {
      "application/vnd.jupyter.widget-view+json": {
       "model_id": "dfc683ceb58e47a8bba1aefed2ceae5f",
       "version_major": 2,
       "version_minor": 0
      },
      "text/plain": [
       "  0%|          | 0/15 [00:00<?, ?it/s]"
      ]
     },
     "metadata": {},
     "output_type": "display_data"
    },
    {
     "name": "stdout",
     "output_type": "stream",
     "text": [
      "Модель с regularization = 0.001, factors = 50\n"
     ]
    },
    {
     "data": {
      "application/vnd.jupyter.widget-view+json": {
       "model_id": "e5ed52f600fb4ba092753736300e7796",
       "version_major": 2,
       "version_minor": 0
      },
      "text/plain": [
       "  0%|          | 0/15 [00:00<?, ?it/s]"
      ]
     },
     "metadata": {},
     "output_type": "display_data"
    },
    {
     "name": "stdout",
     "output_type": "stream",
     "text": [
      "Модель с regularization = 0.001, factors = 100\n"
     ]
    },
    {
     "data": {
      "application/vnd.jupyter.widget-view+json": {
       "model_id": "735ed014e6ce42428bd1ac093724cd77",
       "version_major": 2,
       "version_minor": 0
      },
      "text/plain": [
       "  0%|          | 0/15 [00:00<?, ?it/s]"
      ]
     },
     "metadata": {},
     "output_type": "display_data"
    },
    {
     "name": "stdout",
     "output_type": "stream",
     "text": [
      "Модель с regularization = 0.001, factors = 150\n"
     ]
    },
    {
     "data": {
      "application/vnd.jupyter.widget-view+json": {
       "model_id": "14fdd70873484433984fb00e00eb3ced",
       "version_major": 2,
       "version_minor": 0
      },
      "text/plain": [
       "  0%|          | 0/15 [00:00<?, ?it/s]"
      ]
     },
     "metadata": {},
     "output_type": "display_data"
    },
    {
     "name": "stdout",
     "output_type": "stream",
     "text": [
      "Модель с regularization = 0.001, factors = 200\n"
     ]
    },
    {
     "data": {
      "application/vnd.jupyter.widget-view+json": {
       "model_id": "e3e916becc8b4ff9a2b765ad4cb9bcf7",
       "version_major": 2,
       "version_minor": 0
      },
      "text/plain": [
       "  0%|          | 0/15 [00:00<?, ?it/s]"
      ]
     },
     "metadata": {},
     "output_type": "display_data"
    },
    {
     "name": "stdout",
     "output_type": "stream",
     "text": [
      "Модель с regularization = 0.0001, factors = 0\n"
     ]
    },
    {
     "data": {
      "application/vnd.jupyter.widget-view+json": {
       "model_id": "04499efad9324798b7ff02e647a986ee",
       "version_major": 2,
       "version_minor": 0
      },
      "text/plain": [
       "  0%|          | 0/15 [00:00<?, ?it/s]"
      ]
     },
     "metadata": {},
     "output_type": "display_data"
    },
    {
     "name": "stdout",
     "output_type": "stream",
     "text": [
      "Модель с regularization = 0.0001, factors = 50\n"
     ]
    },
    {
     "data": {
      "application/vnd.jupyter.widget-view+json": {
       "model_id": "dfd86c7d81854874b57b6dc1bc84cc9c",
       "version_major": 2,
       "version_minor": 0
      },
      "text/plain": [
       "  0%|          | 0/15 [00:00<?, ?it/s]"
      ]
     },
     "metadata": {},
     "output_type": "display_data"
    },
    {
     "name": "stdout",
     "output_type": "stream",
     "text": [
      "Модель с regularization = 0.0001, factors = 100\n"
     ]
    },
    {
     "data": {
      "application/vnd.jupyter.widget-view+json": {
       "model_id": "822fea073a4b4110966b2c597bed8082",
       "version_major": 2,
       "version_minor": 0
      },
      "text/plain": [
       "  0%|          | 0/15 [00:00<?, ?it/s]"
      ]
     },
     "metadata": {},
     "output_type": "display_data"
    },
    {
     "name": "stdout",
     "output_type": "stream",
     "text": [
      "Модель с regularization = 0.0001, factors = 150\n"
     ]
    },
    {
     "data": {
      "application/vnd.jupyter.widget-view+json": {
       "model_id": "c4788604703144cfa69b6e0a48e30775",
       "version_major": 2,
       "version_minor": 0
      },
      "text/plain": [
       "  0%|          | 0/15 [00:00<?, ?it/s]"
      ]
     },
     "metadata": {},
     "output_type": "display_data"
    },
    {
     "name": "stdout",
     "output_type": "stream",
     "text": [
      "Модель с regularization = 0.0001, factors = 200\n"
     ]
    },
    {
     "data": {
      "application/vnd.jupyter.widget-view+json": {
       "model_id": "f095cb17f73a4b3a9be26749d31df853",
       "version_major": 2,
       "version_minor": 0
      },
      "text/plain": [
       "  0%|          | 0/15 [00:00<?, ?it/s]"
      ]
     },
     "metadata": {},
     "output_type": "display_data"
    }
   ],
   "source": [
    "result_train_list, result_test_list = grid_search(result_train, \n",
    "                                                  result_test, \n",
    "                                                  alpha_list, n_factors, \n",
    "                                                  sparce_t_u_i_train, sparce_u_i_train, \n",
    "                                                  id_to_item_id_train, user_id_to_id_train)"
   ]
  },
  {
   "cell_type": "markdown",
   "metadata": {},
   "source": [
    "**P.S.** Не пишите отписки в качестве выводов. Мне интресены Ваши рассуждения, трудности, с которыми Вы сталкнулись и что-то, что Вас удивило. Если выводы контринтуитивны - напишите об этом, в этом нет ничего страшного!"
   ]
  },
  {
   "cell_type": "code",
   "execution_count": 33,
   "metadata": {},
   "outputs": [],
   "source": [
    "a = np.array(result_train_list)\n",
    "b = np.array(result_test_list)"
   ]
  },
  {
   "cell_type": "code",
   "execution_count": 34,
   "metadata": {},
   "outputs": [],
   "source": [
    "result_train_test_list = np.hstack((a, b[:,2:]))"
   ]
  },
  {
   "cell_type": "code",
   "execution_count": 35,
   "metadata": {},
   "outputs": [
    {
     "data": {
      "text/html": [
       "<div>\n",
       "<style scoped>\n",
       "    .dataframe tbody tr th:only-of-type {\n",
       "        vertical-align: middle;\n",
       "    }\n",
       "\n",
       "    .dataframe tbody tr th {\n",
       "        vertical-align: top;\n",
       "    }\n",
       "\n",
       "    .dataframe thead th {\n",
       "        text-align: right;\n",
       "    }\n",
       "</style>\n",
       "<table border=\"1\" class=\"dataframe\">\n",
       "  <thead>\n",
       "    <tr style=\"text-align: right;\">\n",
       "      <th></th>\n",
       "      <th>reg</th>\n",
       "      <th>factors</th>\n",
       "      <th>train_mean_precision</th>\n",
       "      <th>test_mean_precision</th>\n",
       "    </tr>\n",
       "  </thead>\n",
       "  <tbody>\n",
       "    <tr>\n",
       "      <th>0</th>\n",
       "      <td>0.1</td>\n",
       "      <td>0.0</td>\n",
       "      <td>0.060264</td>\n",
       "      <td>0.006856</td>\n",
       "    </tr>\n",
       "    <tr>\n",
       "      <th>1</th>\n",
       "      <td>0.1</td>\n",
       "      <td>50.0</td>\n",
       "      <td>0.629292</td>\n",
       "      <td>0.167385</td>\n",
       "    </tr>\n",
       "  </tbody>\n",
       "</table>\n",
       "</div>"
      ],
      "text/plain": [
       "   reg  factors  train_mean_precision  test_mean_precision\n",
       "0  0.1      0.0              0.060264             0.006856\n",
       "1  0.1     50.0              0.629292             0.167385"
      ]
     },
     "execution_count": 35,
     "metadata": {},
     "output_type": "execute_result"
    }
   ],
   "source": [
    "df_results = pd.DataFrame(result_train_test_list, \n",
    "                          columns=['reg', 'factors', 'train_mean_precision', 'test_mean_precision'])\n",
    "df_results.head(2)"
   ]
  },
  {
   "cell_type": "code",
   "execution_count": 36,
   "metadata": {},
   "outputs": [],
   "source": [
    "reg_1e_1 = df_results.loc[df_results['reg'] == 1e-1, ['factors', 'train_mean_precision', 'test_mean_precision']]\n",
    "reg_1e_2 = df_results.loc[df_results['reg'] == 1e-2, ['factors', 'train_mean_precision', 'test_mean_precision']]\n",
    "reg_1e_3 = df_results.loc[df_results['reg'] == 1e-3, ['factors', 'train_mean_precision', 'test_mean_precision']]\n",
    "reg_1e_4 = df_results.loc[df_results['reg'] == 1e-4, ['factors', 'train_mean_precision', 'test_mean_precision']]"
   ]
  },
  {
   "cell_type": "markdown",
   "metadata": {},
   "source": [
    "### На графиках ниже описана зависимость качства от n_factors при определенном значении регуляризации"
   ]
  },
  {
   "cell_type": "markdown",
   "metadata": {},
   "source": [
    "#### Значение регуляризации 0.1"
   ]
  },
  {
   "cell_type": "code",
   "execution_count": 37,
   "metadata": {},
   "outputs": [
    {
     "data": {
      "image/png": "[encoded data removed]",
      "text/plain": [
       "<Figure size 432x288 with 1 Axes>"
      ]
     },
     "metadata": {
      "needs_background": "light"
     },
     "output_type": "display_data"
    }
   ],
   "source": [
    "train_test_scores_plot(reg_1e_1)"
   ]
  },
  {
   "cell_type": "markdown",
   "metadata": {},
   "source": [
    "##### Значение регуляризации 0.01"
   ]
  },
  {
   "cell_type": "code",
   "execution_count": 38,
   "metadata": {},
   "outputs": [
    {
     "data": {
      "image/png": "[encoded data removed]",
      "text/plain": [
       "<Figure size 432x288 with 1 Axes>"
      ]
     },
     "metadata": {
      "needs_background": "light"
     },
     "output_type": "display_data"
    }
   ],
   "source": [
    "train_test_scores_plot(reg_1e_2)"
   ]
  },
  {
   "cell_type": "markdown",
   "metadata": {},
   "source": [
    "##### Значение регуляризации 0.001"
   ]
  },
  {
   "cell_type": "code",
   "execution_count": 39,
   "metadata": {},
   "outputs": [
    {
     "data": {
      "image/png": "[encoded data removed]",
      "text/plain": [
       "<Figure size 432x288 with 1 Axes>"
      ]
     },
     "metadata": {
      "needs_background": "light"
     },
     "output_type": "display_data"
    }
   ],
   "source": [
    "train_test_scores_plot(reg_1e_3)"
   ]
  },
  {
   "cell_type": "markdown",
   "metadata": {},
   "source": [
    "##### Значение регуляризации 0.0001"
   ]
  },
  {
   "cell_type": "code",
   "execution_count": 40,
   "metadata": {},
   "outputs": [
    {
     "data": {
      "image/png": "[encoded data removed]",
      "text/plain": [
       "<Figure size 432x288 with 1 Axes>"
      ]
     },
     "metadata": {
      "needs_background": "light"
     },
     "output_type": "display_data"
    }
   ],
   "source": [
    "train_test_scores_plot(reg_1e_4)"
   ]
  },
  {
   "cell_type": "code",
   "execution_count": 50,
   "metadata": {},
   "outputs": [
    {
     "data": {
      "text/html": [
       "<div>\n",
       "<style scoped>\n",
       "    .dataframe tbody tr th:only-of-type {\n",
       "        vertical-align: middle;\n",
       "    }\n",
       "\n",
       "    .dataframe tbody tr th {\n",
       "        vertical-align: top;\n",
       "    }\n",
       "\n",
       "    .dataframe thead th {\n",
       "        text-align: right;\n",
       "    }\n",
       "</style>\n",
       "<table border=\"1\" class=\"dataframe\">\n",
       "  <thead>\n",
       "    <tr style=\"text-align: right;\">\n",
       "      <th></th>\n",
       "      <th>reg</th>\n",
       "      <th>factors</th>\n",
       "      <th>train_mean_precision</th>\n",
       "      <th>test_mean_precision</th>\n",
       "    </tr>\n",
       "  </thead>\n",
       "  <tbody>\n",
       "    <tr>\n",
       "      <th>6</th>\n",
       "      <td>0.01</td>\n",
       "      <td>50.0</td>\n",
       "      <td>0.631533</td>\n",
       "      <td>0.168364</td>\n",
       "    </tr>\n",
       "  </tbody>\n",
       "</table>\n",
       "</div>"
      ],
      "text/plain": [
       "    reg  factors  train_mean_precision  test_mean_precision\n",
       "6  0.01     50.0              0.631533             0.168364"
      ]
     },
     "execution_count": 50,
     "metadata": {},
     "output_type": "execute_result"
    }
   ],
   "source": [
    "df_results[df_results['test_mean_precision'] == df_results['test_mean_precision'].max()]"
   ]
  },
  {
   "cell_type": "code",
   "execution_count": 54,
   "metadata": {},
   "outputs": [
    {
     "data": {
      "application/vnd.jupyter.widget-view+json": {
       "model_id": "35a9c254cba7419c92adccda9e4eb488",
       "version_major": 2,
       "version_minor": 0
      },
      "text/plain": [
       "  0%|          | 0/20 [00:00<?, ?it/s]"
      ]
     },
     "metadata": {},
     "output_type": "display_data"
    },
    {
     "data": {
      "application/vnd.jupyter.widget-view+json": {
       "model_id": "a54ab9cd3a0d4aa7a0f3a51890dc9927",
       "version_major": 2,
       "version_minor": 0
      },
      "text/plain": [
       "  0%|          | 0/30 [00:00<?, ?it/s]"
      ]
     },
     "metadata": {},
     "output_type": "display_data"
    },
    {
     "data": {
      "application/vnd.jupyter.widget-view+json": {
       "model_id": "85a65ef6a51646b79955adfe2a9aeb8e",
       "version_major": 2,
       "version_minor": 0
      },
      "text/plain": [
       "  0%|          | 0/45 [00:00<?, ?it/s]"
      ]
     },
     "metadata": {},
     "output_type": "display_data"
    }
   ],
   "source": [
    "iterations_list = [20, 30, 45]\n",
    "result_iterations = []\n",
    "for iteration in iterations_list:\n",
    "    \n",
    "    best_model = AlternatingLeastSquares(factors=50, \n",
    "                                    regularization=1e-2, \n",
    "                                    iterations=iteration, \n",
    "                                    calculate_training_loss=True,\n",
    "                                    num_threads=1)\n",
    "\n",
    "    best_model.fit(sparce_t_u_i_train, show_progress=True)\n",
    "\n",
    "    result_test[f'als_{iteration}iterations_recommendation'] = result_test['user_id']\\\n",
    "                                            .apply(lambda x: get_recommendation(x, model=model, \n",
    "                                                                               sparce_user_item=sparce_u_i_train, \n",
    "                                                                               id_to_item_id=id_to_item_id_train, \n",
    "                                                                               user_id_to_id=user_id_to_id_train))\n",
    "\n",
    "    result_test[f'als_{iteration}iterations_precision'] = result_test.apply(lambda x: precision_at_k(x[f'als_{iteration}iterations_recommendation'], \n",
    "                                                                              x['boughted']), \n",
    "                                                       axis=1)\n",
    "    result_train[f'als_{iteration}iterations_recommendation'] = result_train['user_id']\\\n",
    "                                            .apply(lambda x: get_recommendation(x, model=model, \n",
    "                                                                               sparce_user_item=sparce_u_i_train, \n",
    "                                                                               id_to_item_id=id_to_item_id_train, \n",
    "                                                                               user_id_to_id=user_id_to_id_train))\n",
    "\n",
    "    result_train[f'als_{iteration}iterations_precision'] = result_train.apply(lambda x: precision_at_k(x[f'als_{iteration}iterations_recommendation'], \n",
    "                                                                              x['boughted']), \n",
    "                                                       axis=1)\n",
    "    train_mean_precition = result_train[f'als_{iteration}iterations_precision'].mean()\n",
    "    test_mean_precition = result_test[f'als_{iteration}iterations_precision'].mean()\n",
    "    \n",
    "    result_iterations.append([iteration, train_mean_precition, test_mean_precition])\n",
    "    \n",
    "    "
   ]
  },
  {
   "cell_type": "code",
   "execution_count": 55,
   "metadata": {},
   "outputs": [
    {
     "data": {
      "text/plain": [
       "[[20, 0.7362144857943039, 0.15964740450538464],\n",
       " [30, 0.7362144857943039, 0.15964740450538464],\n",
       " [45, 0.7362144857943039, 0.15964740450538464]]"
      ]
     },
     "execution_count": 55,
     "metadata": {},
     "output_type": "execute_result"
    }
   ],
   "source": [
    "result_iterations"
   ]
  },
  {
   "cell_type": "markdown",
   "metadata": {},
   "source": [
    "Из графиков выше видно что регуляризация не так сильно влияет на конечную метрику как число факторов. Но все же снижение регуляризации немного увеличивает качетво precition@k"
   ]
  },
  {
   "cell_type": "code",
   "execution_count": null,
   "metadata": {},
   "outputs": [],
   "source": []
  }
 ],
 "metadata": {
  "kernelspec": {
   "display_name": "Python 3",
   "language": "python",
   "name": "python3"
  },
  "language_info": {
   "codemirror_mode": {
    "name": "ipython",
    "version": 3
   },
   "file_extension": ".py",
   "mimetype": "text/x-python",
   "name": "python",
   "nbconvert_exporter": "python",
   "pygments_lexer": "ipython3",
   "version": "3.8.5"
  }
 },
 "nbformat": 4,
 "nbformat_minor": 2
}
